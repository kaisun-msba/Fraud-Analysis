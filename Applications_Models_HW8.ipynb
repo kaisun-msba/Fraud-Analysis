{
 "cells": [
  {
   "cell_type": "markdown",
   "metadata": {
    "id": "Rh1kYPFLrXuG"
   },
   "source": [
    "# Modeling"
   ]
  },
  {
   "cell_type": "code",
   "execution_count": 1,
   "metadata": {
    "colab": {
     "base_uri": "https://localhost:8080/"
    },
    "id": "VKg0oJuTrXuL",
    "outputId": "da0bd2fe-d616-432b-f39a-4f4ddc489f37",
    "scrolled": false
   },
   "outputs": [
    {
     "name": "stdout",
     "output_type": "stream",
     "text": [
      "LOAD DURATION:  0:00:05.449087\n"
     ]
    }
   ],
   "source": [
    "from datetime import datetime\n",
    "start_time = datetime.now()\n",
    "\n",
    "# Libraries to load\n",
    "# !pip install lightgbm\n",
    "\n",
    "import pandas as pd\n",
    "from sklearn.model_selection import train_test_split\n",
    "from sklearn.tree import DecisionTreeClassifier\n",
    "from sklearn.linear_model import LogisticRegression\n",
    "from sklearn.ensemble import RandomForestClassifier\n",
    "from sklearn.neural_network import MLPClassifier\n",
    "import lightgbm as lgb\n",
    "import numpy as np\n",
    "%matplotlib inline\n",
    "import time\n",
    "print('LOAD DURATION: ', datetime.now() - start_time) # load time about 30 seconds"
   ]
  },
  {
   "cell_type": "code",
   "execution_count": 2,
   "metadata": {},
   "outputs": [
    {
     "name": "stdout",
     "output_type": "stream",
     "text": [
      "D:\\USC\\4th semester\\DSO562 fraud\n"
     ]
    }
   ],
   "source": [
    "%cd \"D:\\USC\\4th semester\\DSO562 fraud\""
   ]
  },
  {
   "cell_type": "code",
   "execution_count": 3,
   "metadata": {
    "colab": {
     "base_uri": "https://localhost:8080/"
    },
    "id": "QcSB8yp4rXuN",
    "outputId": "c8c95c2e-1ea9-464c-e2af-03228ef6883c",
    "scrolled": false
   },
   "outputs": [
    {
     "name": "stdout",
     "output_type": "stream",
     "text": [
      "Wall time: 1min 16s\n"
     ]
    }
   ],
   "source": [
    "%%time\n",
    "vars = pd.read_csv('vars.csv')"
   ]
  },
  {
   "cell_type": "code",
   "execution_count": 4,
   "metadata": {
    "colab": {
     "base_uri": "https://localhost:8080/"
    },
    "id": "LIbmV70kP0X3",
    "outputId": "6217d0de-c1aa-4545-c4d2-e8ee706a6549"
   },
   "outputs": [
    {
     "data": {
      "text/plain": [
       "0    0\n",
       "1    1\n",
       "2    0\n",
       "3    0\n",
       "4    0\n",
       "Name: fraud_label, dtype: int64"
      ]
     },
     "execution_count": 4,
     "metadata": {},
     "output_type": "execute_result"
    }
   ],
   "source": [
    "vars['fraud_label'].head()"
   ]
  },
  {
   "cell_type": "code",
   "execution_count": 5,
   "metadata": {
    "id": "Z1W9Q4pZrXuO"
   },
   "outputs": [],
   "source": [
    "# use this to cap variables. For some problems it helps\n",
    "Clip = 10"
   ]
  },
  {
   "cell_type": "code",
   "execution_count": 6,
   "metadata": {
    "colab": {
     "base_uri": "https://localhost:8080/"
    },
    "id": "sG03UIsgrXuO",
    "outputId": "2ee9c947-623b-4c4a-96f4-f09aff8e2fea"
   },
   "outputs": [
    {
     "data": {
      "text/plain": [
       "14393"
      ]
     },
     "execution_count": 6,
     "metadata": {},
     "output_type": "execute_result"
    }
   ],
   "source": [
    "vars['fraud_label'].sum()"
   ]
  },
  {
   "cell_type": "code",
   "execution_count": 7,
   "metadata": {
    "id": "AQsh9dofQ-a-"
   },
   "outputs": [],
   "source": [
    "# top 30 variables from hw7\n",
    "vars_keep=['address_count_30',\n",
    " 'fulladdress_count_30',\n",
    " 'fulladdress_homephone_count_30',\n",
    " 'ssn_dob_count_30',\n",
    " 'name_dob_count_30',\n",
    " 'ssn_count_30',\n",
    " 'ssn_firstname_count_30',\n",
    " 'ssn_name_count_30',\n",
    " 'name_dob_count_14',\n",
    " 'ssn_count_14',\n",
    " 'ssn_name_dob_count_14',\n",
    " 'ssn_lastname_count_14',\n",
    " 'ssn_name_count_14',\n",
    " 'ssn_dob_count_0_by_30',\n",
    " 'name_dob_count_0_by_30',\n",
    " 'ssn_count_0_by_30',\n",
    " 'ssn_name_dob_count_0_by_30',\n",
    " 'homephone_count_3',\n",
    " 'name_dob_count_0_by_14',\n",
    " 'ssn_dob_count_0_by_14',\n",
    " 'ssn_count_7',\n",
    " 'ssn_name_dob_count_0_by_14',\n",
    " 'ssn_name_count_7',\n",
    " 'fulladdress_homephone_count_3',\n",
    " 'ssn_count_3',\n",
    " 'ssn_firstname_count_3',\n",
    " 'ssn_dob_count_3',\n",
    " 'ssn_name_count_3',\n",
    " 'ssn_lastname_count_3',\n",
    " 'ssn_name_dob_count_3',\n",
    " 'fraud_label']"
   ]
  },
  {
   "cell_type": "code",
   "execution_count": 8,
   "metadata": {
    "id": "Wr9mSt7FQ94J"
   },
   "outputs": [],
   "source": [
    "vars = vars.filter(vars_keep, axis=1)"
   ]
  },
  {
   "cell_type": "code",
   "execution_count": 9,
   "metadata": {
    "colab": {
     "base_uri": "https://localhost:8080/"
    },
    "id": "AWPVmZY6SZNR",
    "outputId": "e7fa0ffb-a9b0-4487-dd64-5bbe05394863"
   },
   "outputs": [
    {
     "data": {
      "text/plain": [
       "(1000000, 31)"
      ]
     },
     "execution_count": 9,
     "metadata": {},
     "output_type": "execute_result"
    }
   ],
   "source": [
    "vars.shape"
   ]
  },
  {
   "cell_type": "code",
   "execution_count": 12,
   "metadata": {
    "colab": {
     "base_uri": "https://localhost:8080/"
    },
    "id": "-ls3kRNyt9KR",
    "outputId": "46b41a90-c5aa-44a7-c137-e41d5a241bf0"
   },
   "outputs": [
    {
     "data": {
      "text/plain": [
       "Index(['address_count_30', 'fulladdress_count_30',\n",
       "       'fulladdress_homephone_count_30', 'ssn_dob_count_30',\n",
       "       'name_dob_count_30', 'ssn_count_30', 'ssn_firstname_count_30',\n",
       "       'ssn_name_count_30', 'name_dob_count_14', 'ssn_count_14',\n",
       "       'ssn_name_dob_count_14', 'ssn_lastname_count_14', 'ssn_name_count_14',\n",
       "       'ssn_dob_count_0_by_30', 'name_dob_count_0_by_30', 'ssn_count_0_by_30',\n",
       "       'ssn_name_dob_count_0_by_30', 'homephone_count_3',\n",
       "       'name_dob_count_0_by_14', 'ssn_dob_count_0_by_14', 'ssn_count_7',\n",
       "       'ssn_name_dob_count_0_by_14', 'ssn_name_count_7',\n",
       "       'fulladdress_homephone_count_3', 'ssn_count_3', 'ssn_firstname_count_3',\n",
       "       'ssn_dob_count_3', 'ssn_name_count_3', 'ssn_lastname_count_3',\n",
       "       'ssn_name_dob_count_3', 'fraud_label'],\n",
       "      dtype='object')"
      ]
     },
     "execution_count": 12,
     "metadata": {},
     "output_type": "execute_result"
    }
   ],
   "source": [
    "vars.columns"
   ]
  },
  {
   "cell_type": "code",
   "execution_count": 9,
   "metadata": {
    "colab": {
     "base_uri": "https://localhost:8080/"
    },
    "id": "cuMHlZDNrXuP",
    "outputId": "97f9cb9f-e435-4e14-f43f-d29283fc8d85",
    "scrolled": false
   },
   "outputs": [
    {
     "data": {
      "text/plain": [
       "31"
      ]
     },
     "execution_count": 9,
     "metadata": {},
     "output_type": "execute_result"
    }
   ],
   "source": [
    "len(list(vars.columns))"
   ]
  },
  {
   "cell_type": "code",
   "execution_count": 14,
   "metadata": {
    "colab": {
     "base_uri": "https://localhost:8080/",
     "height": 1000
    },
    "id": "qjagSmgorXuQ",
    "outputId": "1225f8e4-25c3-4007-cf89-7427e75518b5",
    "scrolled": false
   },
   "outputs": [
    {
     "data": {
      "text/html": [
       "<div>\n",
       "<style scoped>\n",
       "    .dataframe tbody tr th:only-of-type {\n",
       "        vertical-align: middle;\n",
       "    }\n",
       "\n",
       "    .dataframe tbody tr th {\n",
       "        vertical-align: top;\n",
       "    }\n",
       "\n",
       "    .dataframe thead th {\n",
       "        text-align: right;\n",
       "    }\n",
       "</style>\n",
       "<table border=\"1\" class=\"dataframe\">\n",
       "  <thead>\n",
       "    <tr style=\"text-align: right;\">\n",
       "      <th></th>\n",
       "      <th>count</th>\n",
       "      <th>mean</th>\n",
       "      <th>std</th>\n",
       "      <th>min</th>\n",
       "      <th>25%</th>\n",
       "      <th>50%</th>\n",
       "      <th>75%</th>\n",
       "      <th>max</th>\n",
       "    </tr>\n",
       "  </thead>\n",
       "  <tbody>\n",
       "    <tr>\n",
       "      <th>address_count_30</th>\n",
       "      <td>1000000.0</td>\n",
       "      <td>1.078171</td>\n",
       "      <td>0.664121</td>\n",
       "      <td>1.000000</td>\n",
       "      <td>1.0</td>\n",
       "      <td>1.0</td>\n",
       "      <td>1.0</td>\n",
       "      <td>30.0</td>\n",
       "    </tr>\n",
       "    <tr>\n",
       "      <th>fulladdress_count_30</th>\n",
       "      <td>1000000.0</td>\n",
       "      <td>1.064624</td>\n",
       "      <td>0.633831</td>\n",
       "      <td>1.000000</td>\n",
       "      <td>1.0</td>\n",
       "      <td>1.0</td>\n",
       "      <td>1.0</td>\n",
       "      <td>30.0</td>\n",
       "    </tr>\n",
       "    <tr>\n",
       "      <th>fulladdress_homephone_count_30</th>\n",
       "      <td>1000000.0</td>\n",
       "      <td>1.048207</td>\n",
       "      <td>0.507682</td>\n",
       "      <td>1.000000</td>\n",
       "      <td>1.0</td>\n",
       "      <td>1.0</td>\n",
       "      <td>1.0</td>\n",
       "      <td>30.0</td>\n",
       "    </tr>\n",
       "    <tr>\n",
       "      <th>ssn_dob_count_30</th>\n",
       "      <td>1000000.0</td>\n",
       "      <td>1.046097</td>\n",
       "      <td>0.496315</td>\n",
       "      <td>1.000000</td>\n",
       "      <td>1.0</td>\n",
       "      <td>1.0</td>\n",
       "      <td>1.0</td>\n",
       "      <td>34.0</td>\n",
       "    </tr>\n",
       "    <tr>\n",
       "      <th>name_dob_count_30</th>\n",
       "      <td>1000000.0</td>\n",
       "      <td>1.046295</td>\n",
       "      <td>0.496914</td>\n",
       "      <td>1.000000</td>\n",
       "      <td>1.0</td>\n",
       "      <td>1.0</td>\n",
       "      <td>1.0</td>\n",
       "      <td>34.0</td>\n",
       "    </tr>\n",
       "    <tr>\n",
       "      <th>ssn_count_30</th>\n",
       "      <td>1000000.0</td>\n",
       "      <td>1.050823</td>\n",
       "      <td>0.513331</td>\n",
       "      <td>1.000000</td>\n",
       "      <td>1.0</td>\n",
       "      <td>1.0</td>\n",
       "      <td>1.0</td>\n",
       "      <td>34.0</td>\n",
       "    </tr>\n",
       "    <tr>\n",
       "      <th>ssn_firstname_count_30</th>\n",
       "      <td>1000000.0</td>\n",
       "      <td>1.048903</td>\n",
       "      <td>0.499029</td>\n",
       "      <td>1.000000</td>\n",
       "      <td>1.0</td>\n",
       "      <td>1.0</td>\n",
       "      <td>1.0</td>\n",
       "      <td>34.0</td>\n",
       "    </tr>\n",
       "    <tr>\n",
       "      <th>ssn_name_count_30</th>\n",
       "      <td>1000000.0</td>\n",
       "      <td>1.048778</td>\n",
       "      <td>0.498892</td>\n",
       "      <td>1.000000</td>\n",
       "      <td>1.0</td>\n",
       "      <td>1.0</td>\n",
       "      <td>1.0</td>\n",
       "      <td>34.0</td>\n",
       "    </tr>\n",
       "    <tr>\n",
       "      <th>name_dob_count_14</th>\n",
       "      <td>1000000.0</td>\n",
       "      <td>1.032363</td>\n",
       "      <td>0.471763</td>\n",
       "      <td>1.000000</td>\n",
       "      <td>1.0</td>\n",
       "      <td>1.0</td>\n",
       "      <td>1.0</td>\n",
       "      <td>34.0</td>\n",
       "    </tr>\n",
       "    <tr>\n",
       "      <th>ssn_count_14</th>\n",
       "      <td>1000000.0</td>\n",
       "      <td>1.034591</td>\n",
       "      <td>0.477649</td>\n",
       "      <td>1.000000</td>\n",
       "      <td>1.0</td>\n",
       "      <td>1.0</td>\n",
       "      <td>1.0</td>\n",
       "      <td>34.0</td>\n",
       "    </tr>\n",
       "    <tr>\n",
       "      <th>ssn_name_dob_count_14</th>\n",
       "      <td>1000000.0</td>\n",
       "      <td>1.032193</td>\n",
       "      <td>0.471479</td>\n",
       "      <td>1.000000</td>\n",
       "      <td>1.0</td>\n",
       "      <td>1.0</td>\n",
       "      <td>1.0</td>\n",
       "      <td>34.0</td>\n",
       "    </tr>\n",
       "    <tr>\n",
       "      <th>ssn_lastname_count_14</th>\n",
       "      <td>1000000.0</td>\n",
       "      <td>1.033601</td>\n",
       "      <td>0.472915</td>\n",
       "      <td>1.000000</td>\n",
       "      <td>1.0</td>\n",
       "      <td>1.0</td>\n",
       "      <td>1.0</td>\n",
       "      <td>34.0</td>\n",
       "    </tr>\n",
       "    <tr>\n",
       "      <th>ssn_name_count_14</th>\n",
       "      <td>1000000.0</td>\n",
       "      <td>1.033555</td>\n",
       "      <td>0.472861</td>\n",
       "      <td>1.000000</td>\n",
       "      <td>1.0</td>\n",
       "      <td>1.0</td>\n",
       "      <td>1.0</td>\n",
       "      <td>34.0</td>\n",
       "    </tr>\n",
       "    <tr>\n",
       "      <th>ssn_dob_count_0_by_30</th>\n",
       "      <td>1000000.0</td>\n",
       "      <td>29.586057</td>\n",
       "      <td>2.539724</td>\n",
       "      <td>1.363636</td>\n",
       "      <td>30.0</td>\n",
       "      <td>30.0</td>\n",
       "      <td>30.0</td>\n",
       "      <td>30.0</td>\n",
       "    </tr>\n",
       "    <tr>\n",
       "      <th>name_dob_count_0_by_30</th>\n",
       "      <td>1000000.0</td>\n",
       "      <td>29.584207</td>\n",
       "      <td>2.546141</td>\n",
       "      <td>1.363636</td>\n",
       "      <td>30.0</td>\n",
       "      <td>30.0</td>\n",
       "      <td>30.0</td>\n",
       "      <td>30.0</td>\n",
       "    </tr>\n",
       "    <tr>\n",
       "      <th>ssn_count_0_by_30</th>\n",
       "      <td>1000000.0</td>\n",
       "      <td>29.534962</td>\n",
       "      <td>2.689577</td>\n",
       "      <td>1.363636</td>\n",
       "      <td>30.0</td>\n",
       "      <td>30.0</td>\n",
       "      <td>30.0</td>\n",
       "      <td>30.0</td>\n",
       "    </tr>\n",
       "    <tr>\n",
       "      <th>ssn_name_dob_count_0_by_30</th>\n",
       "      <td>1000000.0</td>\n",
       "      <td>29.588240</td>\n",
       "      <td>2.533416</td>\n",
       "      <td>1.363636</td>\n",
       "      <td>30.0</td>\n",
       "      <td>30.0</td>\n",
       "      <td>30.0</td>\n",
       "      <td>30.0</td>\n",
       "    </tr>\n",
       "    <tr>\n",
       "      <th>homephone_count_3</th>\n",
       "      <td>1000000.0</td>\n",
       "      <td>1.449296</td>\n",
       "      <td>0.861622</td>\n",
       "      <td>1.000000</td>\n",
       "      <td>1.0</td>\n",
       "      <td>1.0</td>\n",
       "      <td>2.0</td>\n",
       "      <td>32.0</td>\n",
       "    </tr>\n",
       "    <tr>\n",
       "      <th>name_dob_count_0_by_14</th>\n",
       "      <td>1000000.0</td>\n",
       "      <td>13.894301</td>\n",
       "      <td>0.893364</td>\n",
       "      <td>0.636364</td>\n",
       "      <td>14.0</td>\n",
       "      <td>14.0</td>\n",
       "      <td>14.0</td>\n",
       "      <td>14.0</td>\n",
       "    </tr>\n",
       "    <tr>\n",
       "      <th>ssn_dob_count_0_by_14</th>\n",
       "      <td>1000000.0</td>\n",
       "      <td>13.894863</td>\n",
       "      <td>0.890957</td>\n",
       "      <td>0.636364</td>\n",
       "      <td>14.0</td>\n",
       "      <td>14.0</td>\n",
       "      <td>14.0</td>\n",
       "      <td>14.0</td>\n",
       "    </tr>\n",
       "    <tr>\n",
       "      <th>ssn_count_7</th>\n",
       "      <td>1000000.0</td>\n",
       "      <td>1.026348</td>\n",
       "      <td>0.453557</td>\n",
       "      <td>1.000000</td>\n",
       "      <td>1.0</td>\n",
       "      <td>1.0</td>\n",
       "      <td>1.0</td>\n",
       "      <td>34.0</td>\n",
       "    </tr>\n",
       "    <tr>\n",
       "      <th>ssn_name_dob_count_0_by_14</th>\n",
       "      <td>1000000.0</td>\n",
       "      <td>13.895295</td>\n",
       "      <td>0.889286</td>\n",
       "      <td>0.636364</td>\n",
       "      <td>14.0</td>\n",
       "      <td>14.0</td>\n",
       "      <td>14.0</td>\n",
       "      <td>14.0</td>\n",
       "    </tr>\n",
       "    <tr>\n",
       "      <th>ssn_name_count_7</th>\n",
       "      <td>1000000.0</td>\n",
       "      <td>1.025806</td>\n",
       "      <td>0.451874</td>\n",
       "      <td>1.000000</td>\n",
       "      <td>1.0</td>\n",
       "      <td>1.0</td>\n",
       "      <td>1.0</td>\n",
       "      <td>34.0</td>\n",
       "    </tr>\n",
       "    <tr>\n",
       "      <th>fulladdress_homephone_count_3</th>\n",
       "      <td>1000000.0</td>\n",
       "      <td>1.020452</td>\n",
       "      <td>0.425727</td>\n",
       "      <td>1.000000</td>\n",
       "      <td>1.0</td>\n",
       "      <td>1.0</td>\n",
       "      <td>1.0</td>\n",
       "      <td>30.0</td>\n",
       "    </tr>\n",
       "    <tr>\n",
       "      <th>ssn_count_3</th>\n",
       "      <td>1000000.0</td>\n",
       "      <td>1.020140</td>\n",
       "      <td>0.423193</td>\n",
       "      <td>1.000000</td>\n",
       "      <td>1.0</td>\n",
       "      <td>1.0</td>\n",
       "      <td>1.0</td>\n",
       "      <td>34.0</td>\n",
       "    </tr>\n",
       "    <tr>\n",
       "      <th>ssn_firstname_count_3</th>\n",
       "      <td>1000000.0</td>\n",
       "      <td>1.019894</td>\n",
       "      <td>0.422626</td>\n",
       "      <td>1.000000</td>\n",
       "      <td>1.0</td>\n",
       "      <td>1.0</td>\n",
       "      <td>1.0</td>\n",
       "      <td>34.0</td>\n",
       "    </tr>\n",
       "    <tr>\n",
       "      <th>ssn_dob_count_3</th>\n",
       "      <td>1000000.0</td>\n",
       "      <td>1.019578</td>\n",
       "      <td>0.422262</td>\n",
       "      <td>1.000000</td>\n",
       "      <td>1.0</td>\n",
       "      <td>1.0</td>\n",
       "      <td>1.0</td>\n",
       "      <td>34.0</td>\n",
       "    </tr>\n",
       "    <tr>\n",
       "      <th>ssn_name_count_3</th>\n",
       "      <td>1000000.0</td>\n",
       "      <td>1.019879</td>\n",
       "      <td>0.422609</td>\n",
       "      <td>1.000000</td>\n",
       "      <td>1.0</td>\n",
       "      <td>1.0</td>\n",
       "      <td>1.0</td>\n",
       "      <td>34.0</td>\n",
       "    </tr>\n",
       "    <tr>\n",
       "      <th>ssn_lastname_count_3</th>\n",
       "      <td>1000000.0</td>\n",
       "      <td>1.019892</td>\n",
       "      <td>0.422626</td>\n",
       "      <td>1.000000</td>\n",
       "      <td>1.0</td>\n",
       "      <td>1.0</td>\n",
       "      <td>1.0</td>\n",
       "      <td>34.0</td>\n",
       "    </tr>\n",
       "    <tr>\n",
       "      <th>ssn_name_dob_count_3</th>\n",
       "      <td>1000000.0</td>\n",
       "      <td>1.019561</td>\n",
       "      <td>0.422242</td>\n",
       "      <td>1.000000</td>\n",
       "      <td>1.0</td>\n",
       "      <td>1.0</td>\n",
       "      <td>1.0</td>\n",
       "      <td>34.0</td>\n",
       "    </tr>\n",
       "    <tr>\n",
       "      <th>fraud_label</th>\n",
       "      <td>1000000.0</td>\n",
       "      <td>0.014393</td>\n",
       "      <td>0.119104</td>\n",
       "      <td>0.000000</td>\n",
       "      <td>0.0</td>\n",
       "      <td>0.0</td>\n",
       "      <td>0.0</td>\n",
       "      <td>1.0</td>\n",
       "    </tr>\n",
       "  </tbody>\n",
       "</table>\n",
       "</div>"
      ],
      "text/plain": [
       "                                    count       mean       std       min  \\\n",
       "address_count_30                1000000.0   1.078171  0.664121  1.000000   \n",
       "fulladdress_count_30            1000000.0   1.064624  0.633831  1.000000   \n",
       "fulladdress_homephone_count_30  1000000.0   1.048207  0.507682  1.000000   \n",
       "ssn_dob_count_30                1000000.0   1.046097  0.496315  1.000000   \n",
       "name_dob_count_30               1000000.0   1.046295  0.496914  1.000000   \n",
       "ssn_count_30                    1000000.0   1.050823  0.513331  1.000000   \n",
       "ssn_firstname_count_30          1000000.0   1.048903  0.499029  1.000000   \n",
       "ssn_name_count_30               1000000.0   1.048778  0.498892  1.000000   \n",
       "name_dob_count_14               1000000.0   1.032363  0.471763  1.000000   \n",
       "ssn_count_14                    1000000.0   1.034591  0.477649  1.000000   \n",
       "ssn_name_dob_count_14           1000000.0   1.032193  0.471479  1.000000   \n",
       "ssn_lastname_count_14           1000000.0   1.033601  0.472915  1.000000   \n",
       "ssn_name_count_14               1000000.0   1.033555  0.472861  1.000000   \n",
       "ssn_dob_count_0_by_30           1000000.0  29.586057  2.539724  1.363636   \n",
       "name_dob_count_0_by_30          1000000.0  29.584207  2.546141  1.363636   \n",
       "ssn_count_0_by_30               1000000.0  29.534962  2.689577  1.363636   \n",
       "ssn_name_dob_count_0_by_30      1000000.0  29.588240  2.533416  1.363636   \n",
       "homephone_count_3               1000000.0   1.449296  0.861622  1.000000   \n",
       "name_dob_count_0_by_14          1000000.0  13.894301  0.893364  0.636364   \n",
       "ssn_dob_count_0_by_14           1000000.0  13.894863  0.890957  0.636364   \n",
       "ssn_count_7                     1000000.0   1.026348  0.453557  1.000000   \n",
       "ssn_name_dob_count_0_by_14      1000000.0  13.895295  0.889286  0.636364   \n",
       "ssn_name_count_7                1000000.0   1.025806  0.451874  1.000000   \n",
       "fulladdress_homephone_count_3   1000000.0   1.020452  0.425727  1.000000   \n",
       "ssn_count_3                     1000000.0   1.020140  0.423193  1.000000   \n",
       "ssn_firstname_count_3           1000000.0   1.019894  0.422626  1.000000   \n",
       "ssn_dob_count_3                 1000000.0   1.019578  0.422262  1.000000   \n",
       "ssn_name_count_3                1000000.0   1.019879  0.422609  1.000000   \n",
       "ssn_lastname_count_3            1000000.0   1.019892  0.422626  1.000000   \n",
       "ssn_name_dob_count_3            1000000.0   1.019561  0.422242  1.000000   \n",
       "fraud_label                     1000000.0   0.014393  0.119104  0.000000   \n",
       "\n",
       "                                 25%   50%   75%   max  \n",
       "address_count_30                 1.0   1.0   1.0  30.0  \n",
       "fulladdress_count_30             1.0   1.0   1.0  30.0  \n",
       "fulladdress_homephone_count_30   1.0   1.0   1.0  30.0  \n",
       "ssn_dob_count_30                 1.0   1.0   1.0  34.0  \n",
       "name_dob_count_30                1.0   1.0   1.0  34.0  \n",
       "ssn_count_30                     1.0   1.0   1.0  34.0  \n",
       "ssn_firstname_count_30           1.0   1.0   1.0  34.0  \n",
       "ssn_name_count_30                1.0   1.0   1.0  34.0  \n",
       "name_dob_count_14                1.0   1.0   1.0  34.0  \n",
       "ssn_count_14                     1.0   1.0   1.0  34.0  \n",
       "ssn_name_dob_count_14            1.0   1.0   1.0  34.0  \n",
       "ssn_lastname_count_14            1.0   1.0   1.0  34.0  \n",
       "ssn_name_count_14                1.0   1.0   1.0  34.0  \n",
       "ssn_dob_count_0_by_30           30.0  30.0  30.0  30.0  \n",
       "name_dob_count_0_by_30          30.0  30.0  30.0  30.0  \n",
       "ssn_count_0_by_30               30.0  30.0  30.0  30.0  \n",
       "ssn_name_dob_count_0_by_30      30.0  30.0  30.0  30.0  \n",
       "homephone_count_3                1.0   1.0   2.0  32.0  \n",
       "name_dob_count_0_by_14          14.0  14.0  14.0  14.0  \n",
       "ssn_dob_count_0_by_14           14.0  14.0  14.0  14.0  \n",
       "ssn_count_7                      1.0   1.0   1.0  34.0  \n",
       "ssn_name_dob_count_0_by_14      14.0  14.0  14.0  14.0  \n",
       "ssn_name_count_7                 1.0   1.0   1.0  34.0  \n",
       "fulladdress_homephone_count_3    1.0   1.0   1.0  30.0  \n",
       "ssn_count_3                      1.0   1.0   1.0  34.0  \n",
       "ssn_firstname_count_3            1.0   1.0   1.0  34.0  \n",
       "ssn_dob_count_3                  1.0   1.0   1.0  34.0  \n",
       "ssn_name_count_3                 1.0   1.0   1.0  34.0  \n",
       "ssn_lastname_count_3             1.0   1.0   1.0  34.0  \n",
       "ssn_name_dob_count_3             1.0   1.0   1.0  34.0  \n",
       "fraud_label                      0.0   0.0   0.0   1.0  "
      ]
     },
     "execution_count": 14,
     "metadata": {},
     "output_type": "execute_result"
    }
   ],
   "source": [
    "vars.describe().T"
   ]
  },
  {
   "cell_type": "code",
   "execution_count": 10,
   "metadata": {
    "colab": {
     "base_uri": "https://localhost:8080/",
     "height": 206
    },
    "id": "Q6B8ZR0GrXuQ",
    "outputId": "39bdc887-4722-4860-ad40-e2197808bc93"
   },
   "outputs": [
    {
     "data": {
      "text/html": [
       "<div>\n",
       "<style scoped>\n",
       "    .dataframe tbody tr th:only-of-type {\n",
       "        vertical-align: middle;\n",
       "    }\n",
       "\n",
       "    .dataframe tbody tr th {\n",
       "        vertical-align: top;\n",
       "    }\n",
       "\n",
       "    .dataframe thead th {\n",
       "        text-align: right;\n",
       "    }\n",
       "</style>\n",
       "<table border=\"1\" class=\"dataframe\">\n",
       "  <thead>\n",
       "    <tr style=\"text-align: right;\">\n",
       "      <th></th>\n",
       "      <th>fraud_label</th>\n",
       "    </tr>\n",
       "  </thead>\n",
       "  <tbody>\n",
       "    <tr>\n",
       "      <th>0</th>\n",
       "      <td>0</td>\n",
       "    </tr>\n",
       "    <tr>\n",
       "      <th>1</th>\n",
       "      <td>1</td>\n",
       "    </tr>\n",
       "    <tr>\n",
       "      <th>2</th>\n",
       "      <td>0</td>\n",
       "    </tr>\n",
       "    <tr>\n",
       "      <th>3</th>\n",
       "      <td>0</td>\n",
       "    </tr>\n",
       "    <tr>\n",
       "      <th>4</th>\n",
       "      <td>0</td>\n",
       "    </tr>\n",
       "  </tbody>\n",
       "</table>\n",
       "</div>"
      ],
      "text/plain": [
       "   fraud_label\n",
       "0            0\n",
       "1            1\n",
       "2            0\n",
       "3            0\n",
       "4            0"
      ]
     },
     "execution_count": 10,
     "metadata": {},
     "output_type": "execute_result"
    }
   ],
   "source": [
    "Y_save = pd.DataFrame(vars.loc[:,'fraud_label'])\n",
    "Y_save.head()"
   ]
  },
  {
   "cell_type": "markdown",
   "metadata": {
    "id": "lU0o8U6MrXuR"
   },
   "source": [
    "## Scale and truncate field values"
   ]
  },
  {
   "cell_type": "code",
   "execution_count": 11,
   "metadata": {
    "id": "Z0HBnYOjUuCc"
   },
   "outputs": [],
   "source": [
    "top_5_vars=['address_count_30', 'fulladdress_count_30',\n",
    "       'fulladdress_homephone_count_30', 'ssn_dob_count_30',\n",
    "       'name_dob_count_30']"
   ]
  },
  {
   "cell_type": "code",
   "execution_count": 12,
   "metadata": {
    "id": "5u1_-E7CUvyE"
   },
   "outputs": [],
   "source": [
    "top_10_vars=['address_count_30',\n",
    " 'fulladdress_count_30',\n",
    " 'fulladdress_homephone_count_30',\n",
    " 'ssn_dob_count_30',\n",
    " 'name_dob_count_30',\n",
    " 'ssn_count_30',\n",
    " 'ssn_firstname_count_30',\n",
    " 'ssn_name_count_30',\n",
    " 'name_dob_count_14',\n",
    " 'ssn_count_14']"
   ]
  },
  {
   "cell_type": "code",
   "execution_count": 13,
   "metadata": {
    "id": "cYLRmZyXUwXB"
   },
   "outputs": [],
   "source": [
    "top_15_vars=['address_count_30',\n",
    " 'fulladdress_count_30',\n",
    " 'fulladdress_homephone_count_30',\n",
    " 'ssn_dob_count_30',\n",
    " 'name_dob_count_30',\n",
    " 'ssn_count_30',\n",
    " 'ssn_firstname_count_30',\n",
    " 'ssn_name_count_30',\n",
    " 'name_dob_count_14',\n",
    " 'ssn_count_14',\n",
    " 'ssn_name_dob_count_14',\n",
    " 'ssn_lastname_count_14',\n",
    " 'ssn_name_count_14',\n",
    " 'ssn_dob_count_0_by_30',\n",
    " 'name_dob_count_0_by_30']"
   ]
  },
  {
   "cell_type": "code",
   "execution_count": 14,
   "metadata": {
    "id": "_NSZLyBwUw4e"
   },
   "outputs": [],
   "source": [
    "top_20_vars=['address_count_30',\n",
    " 'fulladdress_count_30',\n",
    " 'fulladdress_homephone_count_30',\n",
    " 'ssn_dob_count_30',\n",
    " 'name_dob_count_30',\n",
    " 'ssn_count_30',\n",
    " 'ssn_firstname_count_30',\n",
    " 'ssn_name_count_30',\n",
    " 'name_dob_count_14',\n",
    " 'ssn_count_14',\n",
    " 'ssn_name_dob_count_14',\n",
    " 'ssn_lastname_count_14',\n",
    " 'ssn_name_count_14',\n",
    " 'ssn_dob_count_0_by_30',\n",
    " 'name_dob_count_0_by_30',\n",
    " 'ssn_count_0_by_30',\n",
    " 'ssn_name_dob_count_0_by_30',\n",
    " 'homephone_count_3',\n",
    " 'name_dob_count_0_by_14',\n",
    " 'ssn_dob_count_0_by_14']"
   ]
  },
  {
   "cell_type": "code",
   "execution_count": 15,
   "metadata": {
    "id": "nWYx4RgtUd6t"
   },
   "outputs": [],
   "source": [
    "def x_scaling(vars_list):\n",
    "    X_no_scaling = vars.filter(vars_list, axis=1)\n",
    "    X=(X_no_scaling - X_no_scaling.mean()) / X_no_scaling.std()\n",
    "    return X"
   ]
  },
  {
   "cell_type": "code",
   "execution_count": 16,
   "metadata": {
    "id": "SMK0nvosY4K2"
   },
   "outputs": [],
   "source": [
    "X_top5=x_scaling(top_5_vars)"
   ]
  },
  {
   "cell_type": "code",
   "execution_count": 17,
   "metadata": {
    "colab": {
     "base_uri": "https://localhost:8080/",
     "height": 206
    },
    "id": "lkcwAlAUZeza",
    "outputId": "3cae62e8-6bba-418f-8c30-a47a2320b8b0"
   },
   "outputs": [
    {
     "data": {
      "text/html": [
       "<div>\n",
       "<style scoped>\n",
       "    .dataframe tbody tr th:only-of-type {\n",
       "        vertical-align: middle;\n",
       "    }\n",
       "\n",
       "    .dataframe tbody tr th {\n",
       "        vertical-align: top;\n",
       "    }\n",
       "\n",
       "    .dataframe thead th {\n",
       "        text-align: right;\n",
       "    }\n",
       "</style>\n",
       "<table border=\"1\" class=\"dataframe\">\n",
       "  <thead>\n",
       "    <tr style=\"text-align: right;\">\n",
       "      <th></th>\n",
       "      <th>count</th>\n",
       "      <th>mean</th>\n",
       "      <th>std</th>\n",
       "      <th>min</th>\n",
       "      <th>25%</th>\n",
       "      <th>50%</th>\n",
       "      <th>75%</th>\n",
       "      <th>max</th>\n",
       "    </tr>\n",
       "  </thead>\n",
       "  <tbody>\n",
       "    <tr>\n",
       "      <th>address_count_30</th>\n",
       "      <td>1000000.0</td>\n",
       "      <td>-1.884392e-14</td>\n",
       "      <td>1.0</td>\n",
       "      <td>-0.117706</td>\n",
       "      <td>-0.117706</td>\n",
       "      <td>-0.117706</td>\n",
       "      <td>-0.117706</td>\n",
       "      <td>43.549034</td>\n",
       "    </tr>\n",
       "    <tr>\n",
       "      <th>fulladdress_count_30</th>\n",
       "      <td>1000000.0</td>\n",
       "      <td>-4.084356e-14</td>\n",
       "      <td>1.0</td>\n",
       "      <td>-0.101958</td>\n",
       "      <td>-0.101958</td>\n",
       "      <td>-0.101958</td>\n",
       "      <td>-0.101958</td>\n",
       "      <td>45.651540</td>\n",
       "    </tr>\n",
       "    <tr>\n",
       "      <th>fulladdress_homephone_count_30</th>\n",
       "      <td>1000000.0</td>\n",
       "      <td>-7.507017e-14</td>\n",
       "      <td>1.0</td>\n",
       "      <td>-0.094955</td>\n",
       "      <td>-0.094955</td>\n",
       "      <td>-0.094955</td>\n",
       "      <td>-0.094955</td>\n",
       "      <td>57.027380</td>\n",
       "    </tr>\n",
       "    <tr>\n",
       "      <th>ssn_dob_count_30</th>\n",
       "      <td>1000000.0</td>\n",
       "      <td>-4.867295e-14</td>\n",
       "      <td>1.0</td>\n",
       "      <td>-0.092879</td>\n",
       "      <td>-0.092879</td>\n",
       "      <td>-0.092879</td>\n",
       "      <td>-0.092879</td>\n",
       "      <td>66.397189</td>\n",
       "    </tr>\n",
       "    <tr>\n",
       "      <th>name_dob_count_30</th>\n",
       "      <td>1000000.0</td>\n",
       "      <td>-9.922335e-16</td>\n",
       "      <td>1.0</td>\n",
       "      <td>-0.093165</td>\n",
       "      <td>-0.093165</td>\n",
       "      <td>-0.093165</td>\n",
       "      <td>-0.093165</td>\n",
       "      <td>66.316650</td>\n",
       "    </tr>\n",
       "  </tbody>\n",
       "</table>\n",
       "</div>"
      ],
      "text/plain": [
       "                                    count          mean  std       min  \\\n",
       "address_count_30                1000000.0 -1.884392e-14  1.0 -0.117706   \n",
       "fulladdress_count_30            1000000.0 -4.084356e-14  1.0 -0.101958   \n",
       "fulladdress_homephone_count_30  1000000.0 -7.507017e-14  1.0 -0.094955   \n",
       "ssn_dob_count_30                1000000.0 -4.867295e-14  1.0 -0.092879   \n",
       "name_dob_count_30               1000000.0 -9.922335e-16  1.0 -0.093165   \n",
       "\n",
       "                                     25%       50%       75%        max  \n",
       "address_count_30               -0.117706 -0.117706 -0.117706  43.549034  \n",
       "fulladdress_count_30           -0.101958 -0.101958 -0.101958  45.651540  \n",
       "fulladdress_homephone_count_30 -0.094955 -0.094955 -0.094955  57.027380  \n",
       "ssn_dob_count_30               -0.092879 -0.092879 -0.092879  66.397189  \n",
       "name_dob_count_30              -0.093165 -0.093165 -0.093165  66.316650  "
      ]
     },
     "execution_count": 17,
     "metadata": {},
     "output_type": "execute_result"
    }
   ],
   "source": [
    "X_top5.describe().T"
   ]
  },
  {
   "cell_type": "code",
   "execution_count": 17,
   "metadata": {
    "id": "Lr2UXo85ZvOO"
   },
   "outputs": [],
   "source": [
    "X_top10=x_scaling(top_10_vars)"
   ]
  },
  {
   "cell_type": "code",
   "execution_count": 18,
   "metadata": {
    "id": "Lf75OdToZzEl"
   },
   "outputs": [],
   "source": [
    "X_top15=x_scaling(top_15_vars)"
   ]
  },
  {
   "cell_type": "code",
   "execution_count": 19,
   "metadata": {
    "id": "aZrxdjjZZ1kq"
   },
   "outputs": [],
   "source": [
    "X_top20=x_scaling(top_20_vars)"
   ]
  },
  {
   "cell_type": "code",
   "execution_count": 20,
   "metadata": {
    "id": "qH_ET32PdO0b"
   },
   "outputs": [],
   "source": [
    "def clip_outlier(X):\n",
    "    cols=X.columns\n",
    "    X.loc[:,cols] = X[cols].clip(upper=Clip)\n",
    "    X.loc[:,cols] = X[cols].clip(lower=-1*Clip)"
   ]
  },
  {
   "cell_type": "code",
   "execution_count": 21,
   "metadata": {
    "id": "oQKAu6a1dxZX"
   },
   "outputs": [],
   "source": [
    "clip_outlier(X_top5)"
   ]
  },
  {
   "cell_type": "code",
   "execution_count": 23,
   "metadata": {},
   "outputs": [
    {
     "data": {
      "text/plain": [
       "(1000000, 5)"
      ]
     },
     "execution_count": 23,
     "metadata": {},
     "output_type": "execute_result"
    }
   ],
   "source": [
    "X_top5.shape"
   ]
  },
  {
   "cell_type": "code",
   "execution_count": 62,
   "metadata": {
    "colab": {
     "base_uri": "https://localhost:8080/",
     "height": 206
    },
    "id": "fOyRLtznd19x",
    "outputId": "e4bc98ea-b949-4589-a55c-ccb7a5fb0967"
   },
   "outputs": [
    {
     "data": {
      "text/html": [
       "<div>\n",
       "<style scoped>\n",
       "    .dataframe tbody tr th:only-of-type {\n",
       "        vertical-align: middle;\n",
       "    }\n",
       "\n",
       "    .dataframe tbody tr th {\n",
       "        vertical-align: top;\n",
       "    }\n",
       "\n",
       "    .dataframe thead th {\n",
       "        text-align: right;\n",
       "    }\n",
       "</style>\n",
       "<table border=\"1\" class=\"dataframe\">\n",
       "  <thead>\n",
       "    <tr style=\"text-align: right;\">\n",
       "      <th></th>\n",
       "      <th>count</th>\n",
       "      <th>mean</th>\n",
       "      <th>std</th>\n",
       "      <th>min</th>\n",
       "      <th>25%</th>\n",
       "      <th>50%</th>\n",
       "      <th>75%</th>\n",
       "      <th>max</th>\n",
       "    </tr>\n",
       "  </thead>\n",
       "  <tbody>\n",
       "    <tr>\n",
       "      <th>address_count_30</th>\n",
       "      <td>1000000.0</td>\n",
       "      <td>-0.016786</td>\n",
       "      <td>0.678129</td>\n",
       "      <td>-0.117706</td>\n",
       "      <td>-0.117706</td>\n",
       "      <td>-0.117706</td>\n",
       "      <td>-0.117706</td>\n",
       "      <td>10.0</td>\n",
       "    </tr>\n",
       "    <tr>\n",
       "      <th>fulladdress_count_30</th>\n",
       "      <td>1000000.0</td>\n",
       "      <td>-0.018176</td>\n",
       "      <td>0.631721</td>\n",
       "      <td>-0.101958</td>\n",
       "      <td>-0.101958</td>\n",
       "      <td>-0.101958</td>\n",
       "      <td>-0.101958</td>\n",
       "      <td>10.0</td>\n",
       "    </tr>\n",
       "    <tr>\n",
       "      <th>fulladdress_homephone_count_30</th>\n",
       "      <td>1000000.0</td>\n",
       "      <td>-0.018020</td>\n",
       "      <td>0.576299</td>\n",
       "      <td>-0.094955</td>\n",
       "      <td>-0.094955</td>\n",
       "      <td>-0.094955</td>\n",
       "      <td>-0.094955</td>\n",
       "      <td>10.0</td>\n",
       "    </tr>\n",
       "    <tr>\n",
       "      <th>ssn_dob_count_30</th>\n",
       "      <td>1000000.0</td>\n",
       "      <td>-0.017649</td>\n",
       "      <td>0.571302</td>\n",
       "      <td>-0.092879</td>\n",
       "      <td>-0.092879</td>\n",
       "      <td>-0.092879</td>\n",
       "      <td>-0.092879</td>\n",
       "      <td>10.0</td>\n",
       "    </tr>\n",
       "    <tr>\n",
       "      <th>name_dob_count_30</th>\n",
       "      <td>1000000.0</td>\n",
       "      <td>-0.017617</td>\n",
       "      <td>0.572884</td>\n",
       "      <td>-0.093165</td>\n",
       "      <td>-0.093165</td>\n",
       "      <td>-0.093165</td>\n",
       "      <td>-0.093165</td>\n",
       "      <td>10.0</td>\n",
       "    </tr>\n",
       "  </tbody>\n",
       "</table>\n",
       "</div>"
      ],
      "text/plain": [
       "                                    count      mean       std       min  \\\n",
       "address_count_30                1000000.0 -0.016786  0.678129 -0.117706   \n",
       "fulladdress_count_30            1000000.0 -0.018176  0.631721 -0.101958   \n",
       "fulladdress_homephone_count_30  1000000.0 -0.018020  0.576299 -0.094955   \n",
       "ssn_dob_count_30                1000000.0 -0.017649  0.571302 -0.092879   \n",
       "name_dob_count_30               1000000.0 -0.017617  0.572884 -0.093165   \n",
       "\n",
       "                                     25%       50%       75%   max  \n",
       "address_count_30               -0.117706 -0.117706 -0.117706  10.0  \n",
       "fulladdress_count_30           -0.101958 -0.101958 -0.101958  10.0  \n",
       "fulladdress_homephone_count_30 -0.094955 -0.094955 -0.094955  10.0  \n",
       "ssn_dob_count_30               -0.092879 -0.092879 -0.092879  10.0  \n",
       "name_dob_count_30              -0.093165 -0.093165 -0.093165  10.0  "
      ]
     },
     "execution_count": 62,
     "metadata": {},
     "output_type": "execute_result"
    }
   ],
   "source": [
    "X_top5.describe().T"
   ]
  },
  {
   "cell_type": "code",
   "execution_count": 22,
   "metadata": {
    "id": "Rn4cGSAgd7lC"
   },
   "outputs": [],
   "source": [
    "clip_outlier(X_top10)"
   ]
  },
  {
   "cell_type": "code",
   "execution_count": 23,
   "metadata": {
    "id": "acvjerMyd-jd"
   },
   "outputs": [],
   "source": [
    "clip_outlier(X_top15)"
   ]
  },
  {
   "cell_type": "code",
   "execution_count": 24,
   "metadata": {
    "id": "HQFk7IGyeByj"
   },
   "outputs": [],
   "source": [
    "clip_outlier(X_top20)"
   ]
  },
  {
   "cell_type": "code",
   "execution_count": 25,
   "metadata": {
    "id": "s7NM4uGEokd6"
   },
   "outputs": [],
   "source": [
    "# separate data into modeling (traintest) and out of time\n",
    "def trte_oot(X):\n",
    "    X_trntst = X[0:833507]\n",
    "    Y_trntst = Y_save[0:833507]\n",
    "    X_oot = X[833507:]\n",
    "    Y_oot = Y_save[833507:]\n",
    "    return X_trntst,Y_trntst,X_oot,Y_oot"
   ]
  },
  {
   "cell_type": "code",
   "execution_count": 28,
   "metadata": {
    "id": "4f5-o2voqr3r"
   },
   "outputs": [],
   "source": [
    "X_trntst_5,Y_trntst_5,X_oot_5,Y_oot_5=trte_oot(X_top5)"
   ]
  },
  {
   "cell_type": "code",
   "execution_count": 72,
   "metadata": {
    "id": "zgVUw66wrXuT",
    "scrolled": true
   },
   "outputs": [],
   "source": [
    "niter = 0\n",
    "nitermax = 3\n",
    "FDR3 = pd.DataFrame(np.zeros((nitermax,3)), columns=('trn', 'tst', 'oot'))\n",
    "X_oot_orig = X_oot_5.copy()\n",
    "pd.options.mode.chained_assignment = None  # default='warn'"
   ]
  },
  {
   "cell_type": "code",
   "execution_count": 64,
   "metadata": {
    "id": "pg7PMzv7ERZE"
   },
   "outputs": [],
   "source": [
    "#X_trn, X_tst, Y_trn, Y_tst = train_test_split(X_trntst_5, Y_trntst_5, test_size = .3)"
   ]
  },
  {
   "cell_type": "code",
   "execution_count": 70,
   "metadata": {
    "colab": {
     "base_uri": "https://localhost:8080/",
     "height": 206
    },
    "id": "F84i-HjqF98m",
    "outputId": "006ff19e-4b59-42e3-9d2e-8c390cbcc5e6"
   },
   "outputs": [
    {
     "data": {
      "text/html": [
       "\n",
       "  <div id=\"df-ede0c5f3-48c0-401f-ade4-8fd2925fffba\">\n",
       "    <div class=\"colab-df-container\">\n",
       "      <div>\n",
       "<style scoped>\n",
       "    .dataframe tbody tr th:only-of-type {\n",
       "        vertical-align: middle;\n",
       "    }\n",
       "\n",
       "    .dataframe tbody tr th {\n",
       "        vertical-align: top;\n",
       "    }\n",
       "\n",
       "    .dataframe thead th {\n",
       "        text-align: right;\n",
       "    }\n",
       "</style>\n",
       "<table border=\"1\" class=\"dataframe\">\n",
       "  <thead>\n",
       "    <tr style=\"text-align: right;\">\n",
       "      <th></th>\n",
       "      <th>address_count_30</th>\n",
       "      <th>fulladdress_count_30</th>\n",
       "      <th>fulladdress_homephone_count_30</th>\n",
       "      <th>ssn_dob_count_30</th>\n",
       "      <th>name_dob_count_30</th>\n",
       "    </tr>\n",
       "  </thead>\n",
       "  <tbody>\n",
       "    <tr>\n",
       "      <th>0</th>\n",
       "      <td>-0.117706</td>\n",
       "      <td>-0.101958</td>\n",
       "      <td>-0.094955</td>\n",
       "      <td>-0.092879</td>\n",
       "      <td>-0.093165</td>\n",
       "    </tr>\n",
       "    <tr>\n",
       "      <th>1</th>\n",
       "      <td>-0.117706</td>\n",
       "      <td>-0.101958</td>\n",
       "      <td>-0.094955</td>\n",
       "      <td>-0.092879</td>\n",
       "      <td>-0.093165</td>\n",
       "    </tr>\n",
       "    <tr>\n",
       "      <th>2</th>\n",
       "      <td>-0.117706</td>\n",
       "      <td>-0.101958</td>\n",
       "      <td>-0.094955</td>\n",
       "      <td>-0.092879</td>\n",
       "      <td>-0.093165</td>\n",
       "    </tr>\n",
       "    <tr>\n",
       "      <th>3</th>\n",
       "      <td>-0.117706</td>\n",
       "      <td>-0.101958</td>\n",
       "      <td>-0.094955</td>\n",
       "      <td>-0.092879</td>\n",
       "      <td>-0.093165</td>\n",
       "    </tr>\n",
       "    <tr>\n",
       "      <th>4</th>\n",
       "      <td>-0.117706</td>\n",
       "      <td>-0.101958</td>\n",
       "      <td>-0.094955</td>\n",
       "      <td>-0.092879</td>\n",
       "      <td>-0.093165</td>\n",
       "    </tr>\n",
       "  </tbody>\n",
       "</table>\n",
       "</div>\n",
       "      <button class=\"colab-df-convert\" onclick=\"convertToInteractive('df-ede0c5f3-48c0-401f-ade4-8fd2925fffba')\"\n",
       "              title=\"Convert this dataframe to an interactive table.\"\n",
       "              style=\"display:none;\">\n",
       "        \n",
       "  <svg xmlns=\"http://www.w3.org/2000/svg\" height=\"24px\"viewBox=\"0 0 24 24\"\n",
       "       width=\"24px\">\n",
       "    <path d=\"M0 0h24v24H0V0z\" fill=\"none\"/>\n",
       "    <path d=\"M18.56 5.44l.94 2.06.94-2.06 2.06-.94-2.06-.94-.94-2.06-.94 2.06-2.06.94zm-11 1L8.5 8.5l.94-2.06 2.06-.94-2.06-.94L8.5 2.5l-.94 2.06-2.06.94zm10 10l.94 2.06.94-2.06 2.06-.94-2.06-.94-.94-2.06-.94 2.06-2.06.94z\"/><path d=\"M17.41 7.96l-1.37-1.37c-.4-.4-.92-.59-1.43-.59-.52 0-1.04.2-1.43.59L10.3 9.45l-7.72 7.72c-.78.78-.78 2.05 0 2.83L4 21.41c.39.39.9.59 1.41.59.51 0 1.02-.2 1.41-.59l7.78-7.78 2.81-2.81c.8-.78.8-2.07 0-2.86zM5.41 20L4 18.59l7.72-7.72 1.47 1.35L5.41 20z\"/>\n",
       "  </svg>\n",
       "      </button>\n",
       "      \n",
       "  <style>\n",
       "    .colab-df-container {\n",
       "      display:flex;\n",
       "      flex-wrap:wrap;\n",
       "      gap: 12px;\n",
       "    }\n",
       "\n",
       "    .colab-df-convert {\n",
       "      background-color: #E8F0FE;\n",
       "      border: none;\n",
       "      border-radius: 50%;\n",
       "      cursor: pointer;\n",
       "      display: none;\n",
       "      fill: #1967D2;\n",
       "      height: 32px;\n",
       "      padding: 0 0 0 0;\n",
       "      width: 32px;\n",
       "    }\n",
       "\n",
       "    .colab-df-convert:hover {\n",
       "      background-color: #E2EBFA;\n",
       "      box-shadow: 0px 1px 2px rgba(60, 64, 67, 0.3), 0px 1px 3px 1px rgba(60, 64, 67, 0.15);\n",
       "      fill: #174EA6;\n",
       "    }\n",
       "\n",
       "    [theme=dark] .colab-df-convert {\n",
       "      background-color: #3B4455;\n",
       "      fill: #D2E3FC;\n",
       "    }\n",
       "\n",
       "    [theme=dark] .colab-df-convert:hover {\n",
       "      background-color: #434B5C;\n",
       "      box-shadow: 0px 1px 3px 1px rgba(0, 0, 0, 0.15);\n",
       "      filter: drop-shadow(0px 1px 2px rgba(0, 0, 0, 0.3));\n",
       "      fill: #FFFFFF;\n",
       "    }\n",
       "  </style>\n",
       "\n",
       "      <script>\n",
       "        const buttonEl =\n",
       "          document.querySelector('#df-ede0c5f3-48c0-401f-ade4-8fd2925fffba button.colab-df-convert');\n",
       "        buttonEl.style.display =\n",
       "          google.colab.kernel.accessAllowed ? 'block' : 'none';\n",
       "\n",
       "        async function convertToInteractive(key) {\n",
       "          const element = document.querySelector('#df-ede0c5f3-48c0-401f-ade4-8fd2925fffba');\n",
       "          const dataTable =\n",
       "            await google.colab.kernel.invokeFunction('convertToInteractive',\n",
       "                                                     [key], {});\n",
       "          if (!dataTable) return;\n",
       "\n",
       "          const docLinkHtml = 'Like what you see? Visit the ' +\n",
       "            '<a target=\"_blank\" href=https://colab.research.google.com/notebooks/data_table.ipynb>data table notebook</a>'\n",
       "            + ' to learn more about interactive tables.';\n",
       "          element.innerHTML = '';\n",
       "          dataTable['output_type'] = 'display_data';\n",
       "          await google.colab.output.renderOutput(dataTable, element);\n",
       "          const docLink = document.createElement('div');\n",
       "          docLink.innerHTML = docLinkHtml;\n",
       "          element.appendChild(docLink);\n",
       "        }\n",
       "      </script>\n",
       "    </div>\n",
       "  </div>\n",
       "  "
      ],
      "text/plain": [
       "   address_count_30  fulladdress_count_30  fulladdress_homephone_count_30  \\\n",
       "0         -0.117706             -0.101958                       -0.094955   \n",
       "1         -0.117706             -0.101958                       -0.094955   \n",
       "2         -0.117706             -0.101958                       -0.094955   \n",
       "3         -0.117706             -0.101958                       -0.094955   \n",
       "4         -0.117706             -0.101958                       -0.094955   \n",
       "\n",
       "   ssn_dob_count_30  name_dob_count_30  \n",
       "0         -0.092879          -0.093165  \n",
       "1         -0.092879          -0.093165  \n",
       "2         -0.092879          -0.093165  \n",
       "3         -0.092879          -0.093165  \n",
       "4         -0.092879          -0.093165  "
      ]
     },
     "execution_count": 70,
     "metadata": {},
     "output_type": "execute_result"
    }
   ],
   "source": [
    "#X_trntst_5.head()"
   ]
  },
  {
   "cell_type": "code",
   "execution_count": 76,
   "metadata": {},
   "outputs": [
    {
     "name": "stdout",
     "output_type": "stream",
     "text": [
      "        address_count_30  fulladdress_count_30  \\\n",
      "833507         -0.117706             -0.101958   \n",
      "\n",
      "        fulladdress_homephone_count_30  ssn_dob_count_30  name_dob_count_30  \n",
      "833507                       -0.094955         -0.092879          -0.093165  \n"
     ]
    }
   ],
   "source": [
    "print(X_oot_5.head(1))"
   ]
  },
  {
   "cell_type": "code",
   "execution_count": null,
   "metadata": {},
   "outputs": [],
   "source": [
    "X_oot_5"
   ]
  },
  {
   "cell_type": "code",
   "execution_count": 74,
   "metadata": {
    "colab": {
     "base_uri": "https://localhost:8080/",
     "height": 869
    },
    "id": "UkjDBqktrXuT",
    "outputId": "11c7fdcf-bb3e-4b6f-9d65-1d74a0d1c352",
    "scrolled": false
   },
   "outputs": [
    {
     "name": "stdout",
     "output_type": "stream",
     "text": [
      "0 0.46199524940617576 0.4767214942849178 0.45766974015088013\n",
      "1 0.4627609108159393 0.47468531468531466 0.45766974015088013\n",
      "2 0.4645791165614954 0.4706208425720621 0.45766974015088013\n",
      "trn    0.463112\n",
      "tst    0.474009\n",
      "oot    0.457670\n",
      "dtype: float64\n",
      "Wall time: 5.02 s\n"
     ]
    }
   ],
   "source": [
    "%%time\n",
    "# Logistic regression\n",
    "\n",
    "for niter in range(nitermax):\n",
    "    X_trn, X_tst, Y_trn, Y_tst = train_test_split(X_trntst_5, Y_trntst_5, test_size = .3)\n",
    "\n",
    "    model = LogisticRegression()\n",
    "    \n",
    "    X_oot = X_oot_orig_5.copy()\n",
    "    X_trn_save = X_trn.copy()\n",
    "    Y_trn_save = Y_trn.copy()\n",
    "    \n",
    "    model.fit(X_trn, Y_trn.values.ravel())   \n",
    "\n",
    "\n",
    "    predictions = model.predict_proba(X_trn_save)[:,1]\n",
    "    X_trn['predicted'] = predictions\n",
    "    X_trn['fraud_label'] = Y_trn_save['fraud_label']\n",
    "    topRows = int(round(X_trn.shape[0]*0.03))\n",
    "    temp = X_trn.sort_values('predicted',ascending=False).head(topRows)\n",
    "    needed = temp.loc[:,'fraud_label']\n",
    "    FDR3.loc[niter, 'trn'] = sum(needed)/sum(X_trn.loc[:,'fraud_label'])\n",
    "\n",
    "    \n",
    "\n",
    "    predictions = model.predict_proba(X_tst)[:,1]\n",
    "    X_tst['predicted']=predictions\n",
    "    X_tst['fraud_label'] = Y_tst['fraud_label']\n",
    "    topRows = int(round(X_tst.shape[0]*0.03))\n",
    "    temp = X_tst.sort_values('predicted',ascending=False).head(topRows)\n",
    "    needed = temp.loc[:,'fraud_label']\n",
    "    FDR3.loc[niter, 'tst'] = sum(needed)/sum(X_tst.loc[:,'fraud_label'])\n",
    "\n",
    "    \n",
    "\n",
    "    predictions = model.predict_proba(X_oot)[:,1]\n",
    "    X_oot['predicted']=predictions \n",
    "    X_oot['fraud_label'] = Y_oot_5['fraud_label']\n",
    "    topRows = int(round(X_oot.shape[0]*0.03))\n",
    "    temp = X_oot.sort_values('predicted',ascending=False).head(topRows)\n",
    "    needed = temp.loc[:,'fraud_label']\n",
    "    FDR3.loc[niter, 'oot'] = sum(needed)/sum(X_oot.loc[:,'fraud_label'])\n",
    "    print(niter, FDR3.loc[niter, 'trn'],FDR3.loc[niter, 'tst'],FDR3.loc[niter, 'oot'])\n",
    "    \n",
    "print(FDR3.mean())"
   ]
  },
  {
   "cell_type": "code",
   "execution_count": 82,
   "metadata": {},
   "outputs": [
    {
     "name": "stdout",
     "output_type": "stream",
     "text": [
      "0 0.4624175306314797 0.47570332480818417 0.45766974015088013\n",
      "1 0.4679052042396094 0.4626038781163435 0.45766974015088013\n",
      "2 0.46936114732724904 0.4591036414565826 0.45766974015088013\n",
      "trn    0.466561\n",
      "tst    0.465804\n",
      "oot    0.457670\n",
      "dtype: float64\n",
      "Wall time: 5.13 s\n"
     ]
    }
   ],
   "source": [
    "%%time\n",
    "# Logistic regression\n",
    "\n",
    "for niter in range(nitermax):\n",
    "    X_trn, X_tst, Y_trn, Y_tst = train_test_split(X_trntst_5, Y_trntst_5, test_size = .3)\n",
    "\n",
    "    model = LogisticRegression(C=0.1, penalty='l2',solver='lbfgs')\n",
    "    \n",
    "    X_oot = X_oot_orig_5.copy()\n",
    "    X_trn_save = X_trn.copy()\n",
    "    Y_trn_save = Y_trn.copy()\n",
    "    \n",
    "    model.fit(X_trn, Y_trn.values.ravel())   \n",
    "\n",
    "\n",
    "    predictions = model.predict_proba(X_trn_save)[:,1]\n",
    "    X_trn['predicted'] = predictions\n",
    "    X_trn['fraud_label'] = Y_trn_save['fraud_label']\n",
    "    topRows = int(round(X_trn.shape[0]*0.03))\n",
    "    temp = X_trn.sort_values('predicted',ascending=False).head(topRows)\n",
    "    needed = temp.loc[:,'fraud_label']\n",
    "    FDR3.loc[niter, 'trn'] = sum(needed)/sum(X_trn.loc[:,'fraud_label'])\n",
    "\n",
    "    \n",
    "\n",
    "    predictions = model.predict_proba(X_tst)[:,1]\n",
    "    X_tst['predicted']=predictions\n",
    "    X_tst['fraud_label'] = Y_tst['fraud_label']\n",
    "    topRows = int(round(X_tst.shape[0]*0.03))\n",
    "    temp = X_tst.sort_values('predicted',ascending=False).head(topRows)\n",
    "    needed = temp.loc[:,'fraud_label']\n",
    "    FDR3.loc[niter, 'tst'] = sum(needed)/sum(X_tst.loc[:,'fraud_label'])\n",
    "\n",
    "    \n",
    "\n",
    "    predictions = model.predict_proba(X_oot)[:,1]\n",
    "    X_oot['predicted']=predictions \n",
    "    X_oot['fraud_label'] = Y_oot_5['fraud_label']\n",
    "    topRows = int(round(X_oot.shape[0]*0.03))\n",
    "    temp = X_oot.sort_values('predicted',ascending=False).head(topRows)\n",
    "    needed = temp.loc[:,'fraud_label']\n",
    "    FDR3.loc[niter, 'oot'] = sum(needed)/sum(X_oot.loc[:,'fraud_label'])\n",
    "    print(niter, FDR3.loc[niter, 'trn'],FDR3.loc[niter, 'tst'],FDR3.loc[niter, 'oot'])\n",
    "    \n",
    "print(FDR3.mean())"
   ]
  },
  {
   "cell_type": "code",
   "execution_count": 29,
   "metadata": {},
   "outputs": [],
   "source": [
    "X_trntst_10,Y_trntst_10,X_oot_10,Y_oot_10=trte_oot(X_top10)"
   ]
  },
  {
   "cell_type": "code",
   "execution_count": 30,
   "metadata": {},
   "outputs": [],
   "source": [
    "niter = 0\n",
    "nitermax = 3\n",
    "FDR3 = pd.DataFrame(np.zeros((nitermax,3)), columns=('trn', 'tst', 'oot'))\n",
    "X_oot_orig_10 = X_oot_10.copy()\n",
    "pd.options.mode.chained_assignment = None  # default='warn'"
   ]
  },
  {
   "cell_type": "code",
   "execution_count": 34,
   "metadata": {},
   "outputs": [
    {
     "name": "stdout",
     "output_type": "stream",
     "text": [
      "0 0.47780050535434965 0.4837662337662338 0.46479463537300925\n",
      "1 0.4837369420702754 0.471113591962043 0.46563285834031853\n",
      "2 0.47904829545454547 0.4813149761168868 0.46437552388935455\n",
      "trn    0.480195\n",
      "tst    0.478732\n",
      "oot    0.464934\n",
      "dtype: float64\n",
      "Wall time: 1min 48s\n"
     ]
    }
   ],
   "source": [
    "%%time\n",
    "# Logistic regression\n",
    "\n",
    "for niter in range(nitermax):\n",
    "    X_trn, X_tst, Y_trn, Y_tst = train_test_split(X_trntst_10, Y_trntst_10, test_size = .3)\n",
    "\n",
    "    model = LogisticRegression(C=0.1,penalty='l1',solver='liblinear')\n",
    "    \n",
    "    X_oot = X_oot_orig_10.copy()\n",
    "    X_trn_save = X_trn.copy()\n",
    "    Y_trn_save = Y_trn.copy()\n",
    "    \n",
    "    model.fit(X_trn, Y_trn.values.ravel())   \n",
    "\n",
    "\n",
    "    predictions = model.predict_proba(X_trn_save)[:,1]\n",
    "    X_trn['predicted'] = predictions\n",
    "    X_trn['fraud_label'] = Y_trn_save['fraud_label']\n",
    "    topRows = int(round(X_trn.shape[0]*0.03))\n",
    "    temp = X_trn.sort_values('predicted',ascending=False).head(topRows)\n",
    "    needed = temp.loc[:,'fraud_label']\n",
    "    FDR3.loc[niter, 'trn'] = sum(needed)/sum(X_trn.loc[:,'fraud_label'])\n",
    "\n",
    "    \n",
    "\n",
    "    predictions = model.predict_proba(X_tst)[:,1]\n",
    "    X_tst['predicted']=predictions\n",
    "    X_tst['fraud_label'] = Y_tst['fraud_label']\n",
    "    topRows = int(round(X_tst.shape[0]*0.03))\n",
    "    temp = X_tst.sort_values('predicted',ascending=False).head(topRows)\n",
    "    needed = temp.loc[:,'fraud_label']\n",
    "    FDR3.loc[niter, 'tst'] = sum(needed)/sum(X_tst.loc[:,'fraud_label'])\n",
    "\n",
    "    \n",
    "\n",
    "    predictions = model.predict_proba(X_oot)[:,1]\n",
    "    X_oot['predicted']=predictions \n",
    "    X_oot['fraud_label'] = Y_oot_5['fraud_label']\n",
    "    topRows = int(round(X_oot.shape[0]*0.03))\n",
    "    temp = X_oot.sort_values('predicted',ascending=False).head(topRows)\n",
    "    needed = temp.loc[:,'fraud_label']\n",
    "    FDR3.loc[niter, 'oot'] = sum(needed)/sum(X_oot.loc[:,'fraud_label'])\n",
    "    print(niter, FDR3.loc[niter, 'trn'],FDR3.loc[niter, 'tst'],FDR3.loc[niter, 'oot'])\n",
    "    \n",
    "print(FDR3.mean())"
   ]
  },
  {
   "cell_type": "code",
   "execution_count": 35,
   "metadata": {},
   "outputs": [],
   "source": [
    "X_trntst_15,Y_trntst_15,X_oot_15,Y_oot_15=trte_oot(X_top15)"
   ]
  },
  {
   "cell_type": "code",
   "execution_count": 36,
   "metadata": {},
   "outputs": [],
   "source": [
    "niter = 0\n",
    "nitermax = 3\n",
    "FDR3 = pd.DataFrame(np.zeros((nitermax,3)), columns=('trn', 'tst', 'oot'))\n",
    "X_oot_orig_15 = X_oot_15.copy()\n",
    "pd.options.mode.chained_assignment = None  # default='warn'"
   ]
  },
  {
   "cell_type": "code",
   "execution_count": 39,
   "metadata": {},
   "outputs": [
    {
     "name": "stdout",
     "output_type": "stream",
     "text": [
      "0 0.485833831440526 0.47528830313014825 0.4719195305951383\n",
      "1 0.48056411471912774 0.488932474082376 0.47066219614417437\n",
      "2 0.4850242689712324 0.47837078651685394 0.47150041911148366\n",
      "trn    0.483807\n",
      "tst    0.480864\n",
      "oot    0.471361\n",
      "dtype: float64\n",
      "Wall time: 9.97 s\n"
     ]
    }
   ],
   "source": [
    "%%time\n",
    "# Logistic regression\n",
    "\n",
    "for niter in range(nitermax):\n",
    "    X_trn, X_tst, Y_trn, Y_tst = train_test_split(X_trntst_15, Y_trntst_15, test_size = .3)\n",
    "\n",
    "    model = LogisticRegression(C=0.1,penalty='l2',solver='liblinear')\n",
    "    \n",
    "    X_oot = X_oot_orig_15.copy()\n",
    "    X_trn_save = X_trn.copy()\n",
    "    Y_trn_save = Y_trn.copy()\n",
    "    \n",
    "    model.fit(X_trn, Y_trn.values.ravel())   \n",
    "\n",
    "\n",
    "    predictions = model.predict_proba(X_trn_save)[:,1]\n",
    "    X_trn['predicted'] = predictions\n",
    "    X_trn['fraud_label'] = Y_trn_save['fraud_label']\n",
    "    topRows = int(round(X_trn.shape[0]*0.03))\n",
    "    temp = X_trn.sort_values('predicted',ascending=False).head(topRows)\n",
    "    needed = temp.loc[:,'fraud_label']\n",
    "    FDR3.loc[niter, 'trn'] = sum(needed)/sum(X_trn.loc[:,'fraud_label'])\n",
    "\n",
    "    \n",
    "\n",
    "    predictions = model.predict_proba(X_tst)[:,1]\n",
    "    X_tst['predicted']=predictions\n",
    "    X_tst['fraud_label'] = Y_tst['fraud_label']\n",
    "    topRows = int(round(X_tst.shape[0]*0.03))\n",
    "    temp = X_tst.sort_values('predicted',ascending=False).head(topRows)\n",
    "    needed = temp.loc[:,'fraud_label']\n",
    "    FDR3.loc[niter, 'tst'] = sum(needed)/sum(X_tst.loc[:,'fraud_label'])\n",
    "\n",
    "    \n",
    "\n",
    "    predictions = model.predict_proba(X_oot)[:,1]\n",
    "    X_oot['predicted']=predictions \n",
    "    X_oot['fraud_label'] = Y_oot_5['fraud_label']\n",
    "    topRows = int(round(X_oot.shape[0]*0.03))\n",
    "    temp = X_oot.sort_values('predicted',ascending=False).head(topRows)\n",
    "    needed = temp.loc[:,'fraud_label']\n",
    "    FDR3.loc[niter, 'oot'] = sum(needed)/sum(X_oot.loc[:,'fraud_label'])\n",
    "    print(niter, FDR3.loc[niter, 'trn'],FDR3.loc[niter, 'tst'],FDR3.loc[niter, 'oot'])\n",
    "    \n",
    "print(FDR3.mean())"
   ]
  },
  {
   "cell_type": "code",
   "execution_count": 26,
   "metadata": {},
   "outputs": [],
   "source": [
    "X_trntst_20,Y_trntst_20,X_oot_20,Y_oot_20=trte_oot(X_top20)"
   ]
  },
  {
   "cell_type": "code",
   "execution_count": 27,
   "metadata": {},
   "outputs": [],
   "source": [
    "niter = 0\n",
    "nitermax = 3\n",
    "FDR3 = pd.DataFrame(np.zeros((nitermax,3)), columns=('trn', 'tst', 'oot'))\n",
    "X_oot_orig_20 = X_oot_20.copy()\n",
    "pd.options.mode.chained_assignment = None  # default='warn'"
   ]
  },
  {
   "cell_type": "code",
   "execution_count": 49,
   "metadata": {},
   "outputs": [
    {
     "name": "stdout",
     "output_type": "stream",
     "text": [
      "0 0.5395933014354067 0.5346860433232794 0.5222129086336965\n",
      "1 0.5428978284086864 0.5430167597765363 0.5213746856663872\n",
      "2 0.5346958174904943 0.5499860763018658 0.5188600167644594\n",
      "trn    0.539062\n",
      "tst    0.542563\n",
      "oot    0.520816\n",
      "dtype: float64\n",
      "Wall time: 13.7 s\n"
     ]
    }
   ],
   "source": [
    "%%time\n",
    "# Logistic regression\n",
    "\n",
    "for niter in range(nitermax):\n",
    "    X_trn, X_tst, Y_trn, Y_tst = train_test_split(X_trntst_20, Y_trntst_20, test_size = .3)\n",
    "\n",
    "    model = LogisticRegression(C=.1,penalty='l2',solver='liblinear')\n",
    "    \n",
    "    X_oot = X_oot_orig_20.copy()\n",
    "    X_trn_save = X_trn.copy()\n",
    "    Y_trn_save = Y_trn.copy()\n",
    "    \n",
    "    model.fit(X_trn, Y_trn.values.ravel())   \n",
    "\n",
    "\n",
    "    predictions = model.predict_proba(X_trn_save)[:,1]\n",
    "    X_trn['predicted'] = predictions\n",
    "    X_trn['fraud_label'] = Y_trn_save['fraud_label']\n",
    "    topRows = int(round(X_trn.shape[0]*0.03))\n",
    "    temp = X_trn.sort_values('predicted',ascending=False).head(topRows)\n",
    "    needed = temp.loc[:,'fraud_label']\n",
    "    FDR3.loc[niter, 'trn'] = sum(needed)/sum(X_trn.loc[:,'fraud_label'])\n",
    "\n",
    "    \n",
    "\n",
    "    predictions = model.predict_proba(X_tst)[:,1]\n",
    "    X_tst['predicted']=predictions\n",
    "    X_tst['fraud_label'] = Y_tst['fraud_label']\n",
    "    topRows = int(round(X_tst.shape[0]*0.03))\n",
    "    temp = X_tst.sort_values('predicted',ascending=False).head(topRows)\n",
    "    needed = temp.loc[:,'fraud_label']\n",
    "    FDR3.loc[niter, 'tst'] = sum(needed)/sum(X_tst.loc[:,'fraud_label'])\n",
    "\n",
    "    \n",
    "\n",
    "    predictions = model.predict_proba(X_oot)[:,1]\n",
    "    X_oot['predicted']=predictions \n",
    "    X_oot['fraud_label'] = Y_oot_20['fraud_label']\n",
    "    topRows = int(round(X_oot.shape[0]*0.03))\n",
    "    temp = X_oot.sort_values('predicted',ascending=False).head(topRows)\n",
    "    needed = temp.loc[:,'fraud_label']\n",
    "    FDR3.loc[niter, 'oot'] = sum(needed)/sum(X_oot.loc[:,'fraud_label'])\n",
    "    print(niter, FDR3.loc[niter, 'trn'],FDR3.loc[niter, 'tst'],FDR3.loc[niter, 'oot'])\n",
    "    \n",
    "print(FDR3.mean())"
   ]
  },
  {
   "cell_type": "code",
   "execution_count": 75,
   "metadata": {},
   "outputs": [
    {
     "data": {
      "text/html": [
       "<div>\n",
       "<style scoped>\n",
       "    .dataframe tbody tr th:only-of-type {\n",
       "        vertical-align: middle;\n",
       "    }\n",
       "\n",
       "    .dataframe tbody tr th {\n",
       "        vertical-align: top;\n",
       "    }\n",
       "\n",
       "    .dataframe thead th {\n",
       "        text-align: right;\n",
       "    }\n",
       "</style>\n",
       "<table border=\"1\" class=\"dataframe\">\n",
       "  <thead>\n",
       "    <tr style=\"text-align: right;\">\n",
       "      <th></th>\n",
       "      <th>address_count_30</th>\n",
       "      <th>fulladdress_count_30</th>\n",
       "      <th>fulladdress_homephone_count_30</th>\n",
       "      <th>ssn_dob_count_30</th>\n",
       "      <th>name_dob_count_30</th>\n",
       "      <th>predicted</th>\n",
       "      <th>fraud_label</th>\n",
       "    </tr>\n",
       "  </thead>\n",
       "  <tbody>\n",
       "    <tr>\n",
       "      <th>178555</th>\n",
       "      <td>-0.117706</td>\n",
       "      <td>-0.101958</td>\n",
       "      <td>-0.094955</td>\n",
       "      <td>-0.092879</td>\n",
       "      <td>-0.093165</td>\n",
       "      <td>0.006867</td>\n",
       "      <td>0</td>\n",
       "    </tr>\n",
       "    <tr>\n",
       "      <th>670564</th>\n",
       "      <td>1.388044</td>\n",
       "      <td>1.475749</td>\n",
       "      <td>1.874781</td>\n",
       "      <td>1.921972</td>\n",
       "      <td>1.919254</td>\n",
       "      <td>0.085739</td>\n",
       "      <td>0</td>\n",
       "    </tr>\n",
       "    <tr>\n",
       "      <th>310756</th>\n",
       "      <td>-0.117706</td>\n",
       "      <td>-0.101958</td>\n",
       "      <td>-0.094955</td>\n",
       "      <td>-0.092879</td>\n",
       "      <td>-0.093165</td>\n",
       "      <td>0.006867</td>\n",
       "      <td>0</td>\n",
       "    </tr>\n",
       "    <tr>\n",
       "      <th>464136</th>\n",
       "      <td>-0.117706</td>\n",
       "      <td>-0.101958</td>\n",
       "      <td>-0.094955</td>\n",
       "      <td>-0.092879</td>\n",
       "      <td>-0.093165</td>\n",
       "      <td>0.006867</td>\n",
       "      <td>0</td>\n",
       "    </tr>\n",
       "    <tr>\n",
       "      <th>182110</th>\n",
       "      <td>-0.117706</td>\n",
       "      <td>-0.101958</td>\n",
       "      <td>-0.094955</td>\n",
       "      <td>-0.092879</td>\n",
       "      <td>-0.093165</td>\n",
       "      <td>0.006867</td>\n",
       "      <td>0</td>\n",
       "    </tr>\n",
       "    <tr>\n",
       "      <th>...</th>\n",
       "      <td>...</td>\n",
       "      <td>...</td>\n",
       "      <td>...</td>\n",
       "      <td>...</td>\n",
       "      <td>...</td>\n",
       "      <td>...</td>\n",
       "      <td>...</td>\n",
       "    </tr>\n",
       "    <tr>\n",
       "      <th>215504</th>\n",
       "      <td>1.388044</td>\n",
       "      <td>1.475749</td>\n",
       "      <td>-0.094955</td>\n",
       "      <td>1.921972</td>\n",
       "      <td>1.919254</td>\n",
       "      <td>0.105723</td>\n",
       "      <td>0</td>\n",
       "    </tr>\n",
       "    <tr>\n",
       "      <th>529002</th>\n",
       "      <td>-0.117706</td>\n",
       "      <td>-0.101958</td>\n",
       "      <td>-0.094955</td>\n",
       "      <td>-0.092879</td>\n",
       "      <td>-0.093165</td>\n",
       "      <td>0.006867</td>\n",
       "      <td>0</td>\n",
       "    </tr>\n",
       "    <tr>\n",
       "      <th>55120</th>\n",
       "      <td>-0.117706</td>\n",
       "      <td>-0.101958</td>\n",
       "      <td>-0.094955</td>\n",
       "      <td>-0.092879</td>\n",
       "      <td>-0.093165</td>\n",
       "      <td>0.006867</td>\n",
       "      <td>0</td>\n",
       "    </tr>\n",
       "    <tr>\n",
       "      <th>809187</th>\n",
       "      <td>-0.117706</td>\n",
       "      <td>-0.101958</td>\n",
       "      <td>-0.094955</td>\n",
       "      <td>-0.092879</td>\n",
       "      <td>-0.093165</td>\n",
       "      <td>0.006867</td>\n",
       "      <td>0</td>\n",
       "    </tr>\n",
       "    <tr>\n",
       "      <th>353258</th>\n",
       "      <td>-0.117706</td>\n",
       "      <td>-0.101958</td>\n",
       "      <td>-0.094955</td>\n",
       "      <td>-0.092879</td>\n",
       "      <td>-0.093165</td>\n",
       "      <td>0.006867</td>\n",
       "      <td>0</td>\n",
       "    </tr>\n",
       "  </tbody>\n",
       "</table>\n",
       "<p>583454 rows × 7 columns</p>\n",
       "</div>"
      ],
      "text/plain": [
       "        address_count_30  fulladdress_count_30  \\\n",
       "178555         -0.117706             -0.101958   \n",
       "670564          1.388044              1.475749   \n",
       "310756         -0.117706             -0.101958   \n",
       "464136         -0.117706             -0.101958   \n",
       "182110         -0.117706             -0.101958   \n",
       "...                  ...                   ...   \n",
       "215504          1.388044              1.475749   \n",
       "529002         -0.117706             -0.101958   \n",
       "55120          -0.117706             -0.101958   \n",
       "809187         -0.117706             -0.101958   \n",
       "353258         -0.117706             -0.101958   \n",
       "\n",
       "        fulladdress_homephone_count_30  ssn_dob_count_30  name_dob_count_30  \\\n",
       "178555                       -0.094955         -0.092879          -0.093165   \n",
       "670564                        1.874781          1.921972           1.919254   \n",
       "310756                       -0.094955         -0.092879          -0.093165   \n",
       "464136                       -0.094955         -0.092879          -0.093165   \n",
       "182110                       -0.094955         -0.092879          -0.093165   \n",
       "...                                ...               ...                ...   \n",
       "215504                       -0.094955          1.921972           1.919254   \n",
       "529002                       -0.094955         -0.092879          -0.093165   \n",
       "55120                        -0.094955         -0.092879          -0.093165   \n",
       "809187                       -0.094955         -0.092879          -0.093165   \n",
       "353258                       -0.094955         -0.092879          -0.093165   \n",
       "\n",
       "        predicted  fraud_label  \n",
       "178555   0.006867            0  \n",
       "670564   0.085739            0  \n",
       "310756   0.006867            0  \n",
       "464136   0.006867            0  \n",
       "182110   0.006867            0  \n",
       "...           ...          ...  \n",
       "215504   0.105723            0  \n",
       "529002   0.006867            0  \n",
       "55120    0.006867            0  \n",
       "809187   0.006867            0  \n",
       "353258   0.006867            0  \n",
       "\n",
       "[583454 rows x 7 columns]"
      ]
     },
     "execution_count": 75,
     "metadata": {},
     "output_type": "execute_result"
    }
   ],
   "source": [
    "X_trn"
   ]
  },
  {
   "cell_type": "markdown",
   "metadata": {
    "id": "057s7kvFrXuU"
   },
   "source": [
    "## Models. You can comment out any of these cells and just explore one model type. You can also just rerun that single cell multiple times as you explore different model hyperparameters."
   ]
  },
  {
   "cell_type": "code",
   "execution_count": 56,
   "metadata": {
    "id": "CgUMoceVrXuV",
    "outputId": "e8be9d5e-ad86-4777-aa4c-0e01c7536a13",
    "scrolled": false
   },
   "outputs": [
    {
     "name": "stdout",
     "output_type": "stream",
     "text": [
      "0 0.55970591722993 0.5523223279238948 0.5347862531433362\n",
      "1 0.5613111616222036 0.549890350877193 0.5356244761106455\n",
      "2 0.5572873289708506 0.5605219322598556 0.5356244761106455\n",
      "trn    0.559435\n",
      "tst    0.554245\n",
      "oot    0.535345\n",
      "dtype: float64\n",
      "Wall time: 4.14 s\n"
     ]
    }
   ],
   "source": [
    "%%time\n",
    "# Single DT\n",
    "\n",
    "for niter in range(nitermax):    \n",
    "    X_trn, X_tst, Y_trn, Y_tst = train_test_split(X_trntst_20, Y_trntst_20, test_size = .3)\n",
    "\n",
    "    model = DecisionTreeClassifier(max_depth=None,min_samples_split=2,min_samples_leaf=2,max_features='log2',criterion='gini')\n",
    " \n",
    "    X_oot = X_oot_orig_20.copy()\n",
    "    X_trn_save = X_trn.copy()\n",
    "    Y_trn_save = Y_trn.copy()\n",
    "\n",
    "    model.fit(X_trn, Y_trn.values.ravel())   \n",
    "\n",
    "    predictions = model.predict_proba(X_trn_save)[:,1]\n",
    "    X_trn['predicted'] = predictions\n",
    "    X_trn['fraud_label'] = Y_trn_save['fraud_label']\n",
    "    topRows = int(round(X_trn.shape[0]*0.03))\n",
    "    temp = X_trn.sort_values('predicted',ascending=False).head(topRows)\n",
    "    needed = temp.loc[:,'fraud_label']\n",
    "    FDR3.loc[niter, 'trn'] = sum(needed)/sum(X_trn.loc[:,'fraud_label'])\n",
    "\n",
    "    predictions = model.predict_proba(X_tst)[:,1]\n",
    "    X_tst['predicted']=predictions\n",
    "    X_tst['fraud_label'] = Y_tst['fraud_label']\n",
    "    topRows = int(round(X_tst.shape[0]*0.03))\n",
    "    temp = X_tst.sort_values('predicted',ascending=False).head(topRows)\n",
    "    needed = temp.loc[:,'fraud_label']\n",
    "    FDR3.loc[niter, 'tst'] = sum(needed)/sum(X_tst.loc[:,'fraud_label'])\n",
    "\n",
    "    predictions = model.predict_proba(X_oot)[:,1]\n",
    "    X_oot['predicted']=predictions\n",
    "    X_oot['fraud_label'] = Y_oot_20['fraud_label']\n",
    "    topRows = int(round(X_oot.shape[0]*0.03))\n",
    "    temp = X_oot.sort_values('predicted',ascending=False).head(topRows)\n",
    "    needed = temp.loc[:,'fraud_label']\n",
    "    FDR3.loc[niter, 'oot'] = sum(needed)/sum(X_oot.loc[:,'fraud_label'])\n",
    "    print(niter, FDR3.loc[niter, 'trn'],FDR3.loc[niter, 'tst'],FDR3.loc[niter, 'oot'])\n",
    "    \n",
    "print(FDR3.mean())"
   ]
  },
  {
   "cell_type": "code",
   "execution_count": 61,
   "metadata": {
    "id": "fhxc73tzrXuW",
    "outputId": "5280ae97-f514-45dc-a990-1829c8be7ce5",
    "scrolled": false
   },
   "outputs": [
    {
     "name": "stdout",
     "output_type": "stream",
     "text": [
      "0 0.5524126455906821 0.5711104926245477 0.5352053646269908\n",
      "1 0.5598813056379822 0.5547180346175321 0.5360435875943\n",
      "2 0.5605050023820867 0.5510938798116866 0.5347862531433362\n",
      "trn    0.557600\n",
      "tst    0.558974\n",
      "oot    0.535345\n",
      "dtype: float64\n",
      "Wall time: 1min 45s\n"
     ]
    }
   ],
   "source": [
    "%%time\n",
    "# RF\n",
    "\n",
    "\n",
    "for niter in range(nitermax):    \n",
    "    X_trn, X_tst, Y_trn, Y_tst = train_test_split(X_trntst_20, Y_trntst_20, test_size = .3)\n",
    "\n",
    "    model = RandomForestClassifier(min_samples_leaf=2)\n",
    "    X_oot = X_oot_orig_20.copy()\n",
    "    X_trn_save = X_trn.copy()\n",
    "    Y_trn_save = Y_trn.copy()\n",
    "\n",
    "    model.fit(X_trn, Y_trn.values.ravel())   \n",
    "\n",
    "    predictions = model.predict_proba(X_trn_save)[:,1]\n",
    "    X_trn['predicted'] = predictions\n",
    "    X_trn['fraud_label'] = Y_trn_save['fraud_label']\n",
    "    topRows = int(round(X_trn.shape[0]*0.03))\n",
    "    temp = X_trn.sort_values('predicted',ascending=False).head(topRows)\n",
    "    needed = temp.loc[:,'fraud_label']\n",
    "    FDR3.loc[niter, 'trn'] = sum(needed)/sum(X_trn.loc[:,'fraud_label'])\n",
    "\n",
    "    predictions = model.predict_proba(X_tst)[:,1]\n",
    "    X_tst['predicted']=predictions\n",
    "    X_tst['fraud_label'] = Y_tst['fraud_label']\n",
    "    topRows = int(round(X_tst.shape[0]*0.03))\n",
    "    temp = X_tst.sort_values('predicted',ascending=False).head(topRows)\n",
    "    needed = temp.loc[:,'fraud_label']\n",
    "    FDR3.loc[niter, 'tst'] = sum(needed)/sum(X_tst.loc[:,'fraud_label'])\n",
    "\n",
    "    predictions = model.predict_proba(X_oot)[:,1]\n",
    "    X_oot['predicted']=predictions\n",
    "    X_oot['fraud_label'] = Y_oot_20['fraud_label']\n",
    "    topRows = int(round(X_oot.shape[0]*0.03))\n",
    "    temp = X_oot.sort_values('predicted',ascending=False).head(topRows)\n",
    "    needed = temp.loc[:,'fraud_label']\n",
    "    FDR3.loc[niter, 'oot'] = sum(needed)/sum(X_oot.loc[:,'fraud_label'])\n",
    "    print(niter, FDR3.loc[niter, 'trn'],FDR3.loc[niter, 'tst'],FDR3.loc[niter, 'oot'])\n",
    "    \n",
    "print(FDR3.mean())"
   ]
  },
  {
   "cell_type": "code",
   "execution_count": 37,
   "metadata": {
    "id": "L2ZmsMenrXuW",
    "outputId": "1681d7b1-a533-48be-bf7c-602a22728136",
    "scrolled": false
   },
   "outputs": [
    {
     "name": "stdout",
     "output_type": "stream",
     "text": [
      "0 0.5583871739650634 0.5579610852288298 0.5360435875943\n",
      "1 0.5582142857142857 0.557527030773496 0.5356244761106455\n",
      "2 0.5570414201183432 0.5591790834973293 0.5352053646269908\n",
      "trn    0.557881\n",
      "tst    0.558222\n",
      "oot    0.535624\n",
      "dtype: float64\n",
      "Wall time: 8.69 s\n"
     ]
    }
   ],
   "source": [
    "%%time\n",
    "# BT\n",
    "\n",
    "for niter in range(nitermax):    \n",
    "    X_trn, X_tst, Y_trn, Y_tst = train_test_split(X_trntst_20, Y_trntst_20, test_size = .3)\n",
    "\n",
    "    model = lgb.LGBMClassifier(n_estimators=50)\n",
    "\n",
    "    X_oot = X_oot_orig_20.copy()\n",
    "    X_trn_save = X_trn.copy()\n",
    "    Y_trn_save = Y_trn.copy()\n",
    "\n",
    "    model.fit(X_trn, Y_trn.values.ravel())   \n",
    "\n",
    "    predictions = model.predict_proba(X_trn_save)[:,1]\n",
    "    X_trn['predicted'] = predictions\n",
    "    X_trn['fraud_label'] = Y_trn_save['fraud_label']\n",
    "    topRows = int(round(X_trn.shape[0]*0.03))\n",
    "    temp = X_trn.sort_values('predicted',ascending=False).head(topRows)\n",
    "    needed = temp.loc[:,'fraud_label']\n",
    "    FDR3.loc[niter, 'trn'] = sum(needed)/sum(X_trn.loc[:,'fraud_label'])\n",
    "\n",
    "    predictions = model.predict_proba(X_tst)[:,1]\n",
    "    X_tst['predicted']=predictions\n",
    "    X_tst['fraud_label'] = Y_tst['fraud_label']\n",
    "    topRows = int(round(X_tst.shape[0]*0.03))\n",
    "    temp = X_tst.sort_values('predicted',ascending=False).head(topRows)\n",
    "    needed = temp.loc[:,'fraud_label']\n",
    "    FDR3.loc[niter, 'tst'] = sum(needed)/sum(X_tst.loc[:,'fraud_label'])\n",
    "\n",
    "    predictions = model.predict_proba(X_oot)[:,1]\n",
    "    X_oot['predicted']=predictions\n",
    "    X_oot['fraud_label'] = Y_oot_20['fraud_label']\n",
    "    topRows = int(round(X_oot.shape[0]*0.03))\n",
    "    temp = X_oot.sort_values('predicted',ascending=False).head(topRows)\n",
    "    needed = temp.loc[:,'fraud_label']\n",
    "    FDR3.loc[niter, 'oot'] = sum(needed)/sum(X_oot.loc[:,'fraud_label'])\n",
    "    print(niter, FDR3.loc[niter, 'trn'],FDR3.loc[niter, 'tst'],FDR3.loc[niter, 'oot'])\n",
    "    \n",
    "print(FDR3.mean())"
   ]
  },
  {
   "cell_type": "code",
   "execution_count": 42,
   "metadata": {
    "id": "NpFu0tJvrXuX",
    "outputId": "089d2bc6-3ce6-4db6-debe-caa4536b8320",
    "scrolled": false
   },
   "outputs": [
    {
     "name": "stdout",
     "output_type": "stream",
     "text": [
      "0 0.5547531668047828 0.5606741573033708 0.5347862531433362\n",
      "1 0.5575959933222037 0.5537144435238884 0.5347862531433362\n",
      "2 0.5574023507063991 0.5583147321428571 0.5347862531433362\n",
      "trn    0.556584\n",
      "tst    0.557568\n",
      "oot    0.534786\n",
      "dtype: float64\n",
      "Wall time: 39min 5s\n",
      "Compiler : 135 ms\n"
     ]
    }
   ],
   "source": [
    "%%time\n",
    "# NN\n",
    "\n",
    "for niter in range(nitermax):    \n",
    "    X_trn, X_tst, Y_trn, Y_tst = train_test_split(X_trntst_20, Y_trntst_20, test_size = .3)\n",
    "\n",
    "    model = MLPClassifier(solver='lbfgs',hidden_layer_sizes=(50,100,50))\n",
    "\n",
    "    X_oot = X_oot_orig_20.copy()\n",
    "    X_trn_save = X_trn.copy()\n",
    "    Y_trn_save = Y_trn.copy()\n",
    "\n",
    "    model.fit(X_trn, Y_trn.values.ravel())   \n",
    "\n",
    "    predictions = model.predict_proba(X_trn_save)[:,1]\n",
    "    X_trn['predicted'] = predictions\n",
    "    X_trn['fraud_label'] = Y_trn_save['fraud_label']\n",
    "    topRows = int(round(X_trn.shape[0]*0.03))\n",
    "    temp = X_trn.sort_values('predicted',ascending=False).head(topRows)\n",
    "    needed = temp.loc[:,'fraud_label']\n",
    "    FDR3.loc[niter, 'trn'] = sum(needed)/sum(X_trn.loc[:,'fraud_label'])\n",
    "\n",
    "    predictions = model.predict_proba(X_tst)[:,1]\n",
    "    X_tst['predicted']=predictions\n",
    "    X_tst['fraud_label'] = Y_tst['fraud_label']\n",
    "    topRows = int(round(X_tst.shape[0]*0.03))\n",
    "    temp = X_tst.sort_values('predicted',ascending=False).head(topRows)\n",
    "    needed = temp.loc[:,'fraud_label']\n",
    "    FDR3.loc[niter, 'tst'] = sum(needed)/sum(X_tst.loc[:,'fraud_label'])\n",
    "\n",
    "    predictions = model.predict_proba(X_oot)[:,1]\n",
    "    X_oot['predicted']=predictions\n",
    "    X_oot['fraud_label'] = Y_oot_20['fraud_label']\n",
    "    topRows = int(round(X_oot.shape[0]*0.03))\n",
    "    temp = X_oot.sort_values('predicted',ascending=False).head(topRows)\n",
    "    needed = temp.loc[:,'fraud_label']\n",
    "    FDR3.loc[niter, 'oot'] = sum(needed)/sum(X_oot.loc[:,'fraud_label'])\n",
    "    print(niter, FDR3.loc[niter, 'trn'],FDR3.loc[niter, 'tst'],FDR3.loc[niter, 'oot'])\n",
    "    \n",
    "print(FDR3.mean())"
   ]
  },
  {
   "cell_type": "code",
   "execution_count": null,
   "metadata": {
    "id": "QWeafjdMrXuX",
    "outputId": "0d9c8131-f425-4c03-ca5c-602096f5e7c1"
   },
   "outputs": [
    {
     "name": "stdout",
     "output_type": "stream",
     "text": [
      "duration:  0:03:48.900114\n"
     ]
    }
   ],
   "source": [
    "print('duration: ', datetime.now() - start_time)"
   ]
  }
 ],
 "metadata": {
  "anaconda-cloud": {},
  "colab": {
   "collapsed_sections": [],
   "name": "applications models.ipynb",
   "provenance": []
  },
  "kernelspec": {
   "display_name": "Python 3",
   "language": "python",
   "name": "python3"
  },
  "language_info": {
   "codemirror_mode": {
    "name": "ipython",
    "version": 3
   },
   "file_extension": ".py",
   "mimetype": "text/x-python",
   "name": "python",
   "nbconvert_exporter": "python",
   "pygments_lexer": "ipython3",
   "version": "3.6.10"
  }
 },
 "nbformat": 4,
 "nbformat_minor": 1
}
