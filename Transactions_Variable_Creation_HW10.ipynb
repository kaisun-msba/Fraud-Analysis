{
 "cells": [
  {
   "cell_type": "code",
   "execution_count": 1,
   "id": "outer-incentive",
   "metadata": {},
   "outputs": [],
   "source": [
    "from timeit import default_timer as timer\n",
    "import pandas as pd\n",
    "import scipy.stats\n",
    "import numpy as np\n",
    "import datetime as dt\n",
    "import seaborn as sns\n",
    "import matplotlib.pyplot as plt\n",
    "import calendar\n",
    "%matplotlib inline\n",
    "import time\n",
    "import timeit\n",
    "from math import e"
   ]
  },
  {
   "cell_type": "code",
   "execution_count": 2,
   "id": "floating-parent",
   "metadata": {},
   "outputs": [
    {
     "name": "stdout",
     "output_type": "stream",
     "text": [
      "D:\\USC\\4th semester\\DSO562 fraud\n"
     ]
    }
   ],
   "source": [
    "%cd \"D:\\USC\\4th semester\\DSO562 fraud\""
   ]
  },
  {
   "cell_type": "code",
   "execution_count": 3,
   "id": "molecular-graphic",
   "metadata": {},
   "outputs": [],
   "source": [
    "data=pd.read_csv('card transactions.csv', converters={'Merchnum': lambda x: str(x)})"
   ]
  },
  {
   "cell_type": "code",
   "execution_count": 4,
   "id": "empty-speech",
   "metadata": {},
   "outputs": [
    {
     "data": {
      "text/html": [
       "<div>\n",
       "<style scoped>\n",
       "    .dataframe tbody tr th:only-of-type {\n",
       "        vertical-align: middle;\n",
       "    }\n",
       "\n",
       "    .dataframe tbody tr th {\n",
       "        vertical-align: top;\n",
       "    }\n",
       "\n",
       "    .dataframe thead th {\n",
       "        text-align: right;\n",
       "    }\n",
       "</style>\n",
       "<table border=\"1\" class=\"dataframe\">\n",
       "  <thead>\n",
       "    <tr style=\"text-align: right;\">\n",
       "      <th></th>\n",
       "      <th>Recnum</th>\n",
       "      <th>Cardnum</th>\n",
       "      <th>Date</th>\n",
       "      <th>Merchnum</th>\n",
       "      <th>Merch description</th>\n",
       "      <th>Merch state</th>\n",
       "      <th>Merch zip</th>\n",
       "      <th>Transtype</th>\n",
       "      <th>Amount</th>\n",
       "      <th>Fraud</th>\n",
       "    </tr>\n",
       "  </thead>\n",
       "  <tbody>\n",
       "    <tr>\n",
       "      <th>0</th>\n",
       "      <td>1</td>\n",
       "      <td>5142190439</td>\n",
       "      <td>2006-01-01</td>\n",
       "      <td>5509006296254</td>\n",
       "      <td>FEDEX SHP 12/23/09 AB#</td>\n",
       "      <td>TN</td>\n",
       "      <td>38118.0</td>\n",
       "      <td>P</td>\n",
       "      <td>3.62</td>\n",
       "      <td>0</td>\n",
       "    </tr>\n",
       "    <tr>\n",
       "      <th>1</th>\n",
       "      <td>2</td>\n",
       "      <td>5142183973</td>\n",
       "      <td>2006-01-01</td>\n",
       "      <td>61003026333</td>\n",
       "      <td>SERVICE MERCHANDISE #81</td>\n",
       "      <td>MA</td>\n",
       "      <td>1803.0</td>\n",
       "      <td>P</td>\n",
       "      <td>31.42</td>\n",
       "      <td>0</td>\n",
       "    </tr>\n",
       "    <tr>\n",
       "      <th>2</th>\n",
       "      <td>3</td>\n",
       "      <td>5142131721</td>\n",
       "      <td>2006-01-01</td>\n",
       "      <td>4503082993600</td>\n",
       "      <td>OFFICE DEPOT #191</td>\n",
       "      <td>MD</td>\n",
       "      <td>20706.0</td>\n",
       "      <td>P</td>\n",
       "      <td>178.49</td>\n",
       "      <td>0</td>\n",
       "    </tr>\n",
       "    <tr>\n",
       "      <th>3</th>\n",
       "      <td>4</td>\n",
       "      <td>5142148452</td>\n",
       "      <td>2006-01-01</td>\n",
       "      <td>5509006296254</td>\n",
       "      <td>FEDEX SHP 12/28/09 AB#</td>\n",
       "      <td>TN</td>\n",
       "      <td>38118.0</td>\n",
       "      <td>P</td>\n",
       "      <td>3.62</td>\n",
       "      <td>0</td>\n",
       "    </tr>\n",
       "    <tr>\n",
       "      <th>4</th>\n",
       "      <td>5</td>\n",
       "      <td>5142190439</td>\n",
       "      <td>2006-01-01</td>\n",
       "      <td>5509006296254</td>\n",
       "      <td>FEDEX SHP 12/23/09 AB#</td>\n",
       "      <td>TN</td>\n",
       "      <td>38118.0</td>\n",
       "      <td>P</td>\n",
       "      <td>3.62</td>\n",
       "      <td>0</td>\n",
       "    </tr>\n",
       "  </tbody>\n",
       "</table>\n",
       "</div>"
      ],
      "text/plain": [
       "   Recnum     Cardnum        Date       Merchnum        Merch description  \\\n",
       "0       1  5142190439  2006-01-01  5509006296254   FEDEX SHP 12/23/09 AB#   \n",
       "1       2  5142183973  2006-01-01    61003026333  SERVICE MERCHANDISE #81   \n",
       "2       3  5142131721  2006-01-01  4503082993600        OFFICE DEPOT #191   \n",
       "3       4  5142148452  2006-01-01  5509006296254   FEDEX SHP 12/28/09 AB#   \n",
       "4       5  5142190439  2006-01-01  5509006296254   FEDEX SHP 12/23/09 AB#   \n",
       "\n",
       "  Merch state  Merch zip Transtype  Amount  Fraud  \n",
       "0          TN    38118.0         P    3.62      0  \n",
       "1          MA     1803.0         P   31.42      0  \n",
       "2          MD    20706.0         P  178.49      0  \n",
       "3          TN    38118.0         P    3.62      0  \n",
       "4          TN    38118.0         P    3.62      0  "
      ]
     },
     "execution_count": 4,
     "metadata": {},
     "output_type": "execute_result"
    }
   ],
   "source": [
    "data.head()"
   ]
  },
  {
   "cell_type": "code",
   "execution_count": 99,
   "id": "expressed-print",
   "metadata": {},
   "outputs": [
    {
     "data": {
      "text/plain": [
       "(96753, 10)"
      ]
     },
     "execution_count": 99,
     "metadata": {},
     "output_type": "execute_result"
    }
   ],
   "source": [
    "data.shape"
   ]
  },
  {
   "cell_type": "code",
   "execution_count": 5,
   "id": "residential-assault",
   "metadata": {},
   "outputs": [],
   "source": [
    "# select only Transtype is P\n",
    "data=data[data['Transtype']=='P']"
   ]
  },
  {
   "cell_type": "code",
   "execution_count": 13,
   "id": "olympic-bhutan",
   "metadata": {},
   "outputs": [
    {
     "data": {
      "text/plain": [
       "(96398, 10)"
      ]
     },
     "execution_count": 13,
     "metadata": {},
     "output_type": "execute_result"
    }
   ],
   "source": [
    "data.shape"
   ]
  },
  {
   "cell_type": "code",
   "execution_count": 5,
   "id": "successful-spare",
   "metadata": {},
   "outputs": [
    {
     "data": {
      "text/plain": [
       "3102045.53"
      ]
     },
     "execution_count": 5,
     "metadata": {},
     "output_type": "execute_result"
    }
   ],
   "source": [
    "# remove one outlier\n",
    "data['Amount'].max()"
   ]
  },
  {
   "cell_type": "code",
   "execution_count": 6,
   "id": "ideal-indication",
   "metadata": {},
   "outputs": [],
   "source": [
    "data.drop(data[data['Amount']==data['Amount'].max()].index, inplace = True)"
   ]
  },
  {
   "cell_type": "code",
   "execution_count": 68,
   "id": "blessed-stanford",
   "metadata": {},
   "outputs": [
    {
     "data": {
      "text/plain": [
       "(96397, 10)"
      ]
     },
     "execution_count": 68,
     "metadata": {},
     "output_type": "execute_result"
    }
   ],
   "source": [
    "data.shape"
   ]
  },
  {
   "cell_type": "code",
   "execution_count": 7,
   "id": "enhanced-proxy",
   "metadata": {},
   "outputs": [
    {
     "data": {
      "text/plain": [
       "0    95338\n",
       "1     1059\n",
       "Name: Fraud, dtype: int64"
      ]
     },
     "execution_count": 7,
     "metadata": {},
     "output_type": "execute_result"
    }
   ],
   "source": [
    "data['Fraud'].value_counts()"
   ]
  },
  {
   "cell_type": "code",
   "execution_count": 51,
   "id": "elegant-promotion",
   "metadata": {},
   "outputs": [
    {
     "data": {
      "text/plain": [
       "930090121224     9310\n",
       "                 3198\n",
       "5509006296254    2131\n",
       "9900020006406    1714\n",
       "602608969534     1092\n",
       "                 ... \n",
       "6822404702533       1\n",
       "19904672330         1\n",
       "300600250           1\n",
       "4900000000445       1\n",
       "5954082580007       1\n",
       "Name: Merchnum, Length: 13091, dtype: int64"
      ]
     },
     "execution_count": 51,
     "metadata": {},
     "output_type": "execute_result"
    }
   ],
   "source": [
    "# 3198 missing value\n",
    "data['Merchnum'].value_counts()"
   ]
  },
  {
   "cell_type": "code",
   "execution_count": 7,
   "id": "demonstrated-object",
   "metadata": {},
   "outputs": [],
   "source": [
    "data['Merchnum']=data['Merchnum'].str.strip().replace('',np.nan)"
   ]
  },
  {
   "cell_type": "code",
   "execution_count": 8,
   "id": "loving-arlington",
   "metadata": {},
   "outputs": [
    {
     "data": {
      "text/html": [
       "<div>\n",
       "<style scoped>\n",
       "    .dataframe tbody tr th:only-of-type {\n",
       "        vertical-align: middle;\n",
       "    }\n",
       "\n",
       "    .dataframe tbody tr th {\n",
       "        vertical-align: top;\n",
       "    }\n",
       "\n",
       "    .dataframe thead th {\n",
       "        text-align: right;\n",
       "    }\n",
       "</style>\n",
       "<table border=\"1\" class=\"dataframe\">\n",
       "  <thead>\n",
       "    <tr style=\"text-align: right;\">\n",
       "      <th></th>\n",
       "      <th>Recnum</th>\n",
       "      <th>Cardnum</th>\n",
       "      <th>Date</th>\n",
       "      <th>Merchnum</th>\n",
       "      <th>Merch description</th>\n",
       "      <th>Merch state</th>\n",
       "      <th>Merch zip</th>\n",
       "      <th>Transtype</th>\n",
       "      <th>Amount</th>\n",
       "      <th>Fraud</th>\n",
       "    </tr>\n",
       "  </thead>\n",
       "  <tbody>\n",
       "    <tr>\n",
       "      <th>115</th>\n",
       "      <td>116</td>\n",
       "      <td>5142182128</td>\n",
       "      <td>2006-01-03</td>\n",
       "      <td>NaN</td>\n",
       "      <td>GRAINGER #973</td>\n",
       "      <td>IL</td>\n",
       "      <td>60089.0</td>\n",
       "      <td>P</td>\n",
       "      <td>327.34</td>\n",
       "      <td>0</td>\n",
       "    </tr>\n",
       "    <tr>\n",
       "      <th>135</th>\n",
       "      <td>136</td>\n",
       "      <td>5142126842</td>\n",
       "      <td>2006-01-03</td>\n",
       "      <td>NaN</td>\n",
       "      <td>AUTOMATED OFFICE PRODU</td>\n",
       "      <td>MD</td>\n",
       "      <td>20706.0</td>\n",
       "      <td>P</td>\n",
       "      <td>2110.00</td>\n",
       "      <td>0</td>\n",
       "    </tr>\n",
       "    <tr>\n",
       "      <th>168</th>\n",
       "      <td>169</td>\n",
       "      <td>5142132574</td>\n",
       "      <td>2006-01-03</td>\n",
       "      <td>NaN</td>\n",
       "      <td>ROLL CALL NEWSPAPER</td>\n",
       "      <td>DC</td>\n",
       "      <td>20001.0</td>\n",
       "      <td>P</td>\n",
       "      <td>104.69</td>\n",
       "      <td>0</td>\n",
       "    </tr>\n",
       "    <tr>\n",
       "      <th>201</th>\n",
       "      <td>202</td>\n",
       "      <td>5142140436</td>\n",
       "      <td>2006-01-03</td>\n",
       "      <td>NaN</td>\n",
       "      <td>MONTGOMERY COLLEGE-PHONE</td>\n",
       "      <td>MD</td>\n",
       "      <td>20850.0</td>\n",
       "      <td>P</td>\n",
       "      <td>266.00</td>\n",
       "      <td>0</td>\n",
       "    </tr>\n",
       "    <tr>\n",
       "      <th>257</th>\n",
       "      <td>258</td>\n",
       "      <td>5142257292</td>\n",
       "      <td>2006-01-04</td>\n",
       "      <td>NaN</td>\n",
       "      <td>ARGENT CHEMICAL LABS</td>\n",
       "      <td>WA</td>\n",
       "      <td>98052.0</td>\n",
       "      <td>P</td>\n",
       "      <td>240.00</td>\n",
       "      <td>0</td>\n",
       "    </tr>\n",
       "    <tr>\n",
       "      <th>...</th>\n",
       "      <td>...</td>\n",
       "      <td>...</td>\n",
       "      <td>...</td>\n",
       "      <td>...</td>\n",
       "      <td>...</td>\n",
       "      <td>...</td>\n",
       "      <td>...</td>\n",
       "      <td>...</td>\n",
       "      <td>...</td>\n",
       "      <td>...</td>\n",
       "    </tr>\n",
       "    <tr>\n",
       "      <th>96621</th>\n",
       "      <td>96622</td>\n",
       "      <td>5142253938</td>\n",
       "      <td>2006-12-30</td>\n",
       "      <td>NaN</td>\n",
       "      <td>OREGON ENVIRONMENTAL COUN</td>\n",
       "      <td>OR</td>\n",
       "      <td>97204.0</td>\n",
       "      <td>P</td>\n",
       "      <td>40.00</td>\n",
       "      <td>0</td>\n",
       "    </tr>\n",
       "    <tr>\n",
       "      <th>96651</th>\n",
       "      <td>96652</td>\n",
       "      <td>5142151962</td>\n",
       "      <td>2006-12-30</td>\n",
       "      <td>NaN</td>\n",
       "      <td>RETAIL DEBIT ADJUSTMENT</td>\n",
       "      <td>NaN</td>\n",
       "      <td>NaN</td>\n",
       "      <td>P</td>\n",
       "      <td>125.00</td>\n",
       "      <td>0</td>\n",
       "    </tr>\n",
       "    <tr>\n",
       "      <th>96689</th>\n",
       "      <td>96690</td>\n",
       "      <td>5142166019</td>\n",
       "      <td>2006-12-30</td>\n",
       "      <td>NaN</td>\n",
       "      <td>ADVANCED SEC &amp; CONTROL</td>\n",
       "      <td>GA</td>\n",
       "      <td>30340.0</td>\n",
       "      <td>P</td>\n",
       "      <td>70.50</td>\n",
       "      <td>0</td>\n",
       "    </tr>\n",
       "    <tr>\n",
       "      <th>96720</th>\n",
       "      <td>96721</td>\n",
       "      <td>5142178272</td>\n",
       "      <td>2006-12-31</td>\n",
       "      <td>NaN</td>\n",
       "      <td>TRULOGIC SYSTEMS</td>\n",
       "      <td>ON</td>\n",
       "      <td>NaN</td>\n",
       "      <td>P</td>\n",
       "      <td>343.42</td>\n",
       "      <td>0</td>\n",
       "    </tr>\n",
       "    <tr>\n",
       "      <th>96730</th>\n",
       "      <td>96731</td>\n",
       "      <td>5142122644</td>\n",
       "      <td>2006-12-31</td>\n",
       "      <td>NaN</td>\n",
       "      <td>RETAIL DEBIT ADJUSTMENT</td>\n",
       "      <td>NaN</td>\n",
       "      <td>NaN</td>\n",
       "      <td>P</td>\n",
       "      <td>340.79</td>\n",
       "      <td>0</td>\n",
       "    </tr>\n",
       "  </tbody>\n",
       "</table>\n",
       "<p>3198 rows × 10 columns</p>\n",
       "</div>"
      ],
      "text/plain": [
       "       Recnum     Cardnum        Date Merchnum          Merch description  \\\n",
       "115       116  5142182128  2006-01-03      NaN              GRAINGER #973   \n",
       "135       136  5142126842  2006-01-03      NaN     AUTOMATED OFFICE PRODU   \n",
       "168       169  5142132574  2006-01-03      NaN        ROLL CALL NEWSPAPER   \n",
       "201       202  5142140436  2006-01-03      NaN   MONTGOMERY COLLEGE-PHONE   \n",
       "257       258  5142257292  2006-01-04      NaN       ARGENT CHEMICAL LABS   \n",
       "...       ...         ...         ...      ...                        ...   \n",
       "96621   96622  5142253938  2006-12-30      NaN  OREGON ENVIRONMENTAL COUN   \n",
       "96651   96652  5142151962  2006-12-30      NaN    RETAIL DEBIT ADJUSTMENT   \n",
       "96689   96690  5142166019  2006-12-30      NaN     ADVANCED SEC & CONTROL   \n",
       "96720   96721  5142178272  2006-12-31      NaN           TRULOGIC SYSTEMS   \n",
       "96730   96731  5142122644  2006-12-31      NaN    RETAIL DEBIT ADJUSTMENT   \n",
       "\n",
       "      Merch state  Merch zip Transtype   Amount  Fraud  \n",
       "115            IL    60089.0         P   327.34      0  \n",
       "135            MD    20706.0         P  2110.00      0  \n",
       "168            DC    20001.0         P   104.69      0  \n",
       "201            MD    20850.0         P   266.00      0  \n",
       "257            WA    98052.0         P   240.00      0  \n",
       "...           ...        ...       ...      ...    ...  \n",
       "96621          OR    97204.0         P    40.00      0  \n",
       "96651         NaN        NaN         P   125.00      0  \n",
       "96689          GA    30340.0         P    70.50      0  \n",
       "96720          ON        NaN         P   343.42      0  \n",
       "96730         NaN        NaN         P   340.79      0  \n",
       "\n",
       "[3198 rows x 10 columns]"
      ]
     },
     "execution_count": 8,
     "metadata": {},
     "output_type": "execute_result"
    }
   ],
   "source": [
    "data[data['Merchnum'].isna()]"
   ]
  },
  {
   "cell_type": "code",
   "execution_count": 8,
   "id": "enormous-tongue",
   "metadata": {},
   "outputs": [
    {
     "data": {
      "text/html": [
       "<div>\n",
       "<style scoped>\n",
       "    .dataframe tbody tr th:only-of-type {\n",
       "        vertical-align: middle;\n",
       "    }\n",
       "\n",
       "    .dataframe tbody tr th {\n",
       "        vertical-align: top;\n",
       "    }\n",
       "\n",
       "    .dataframe thead th {\n",
       "        text-align: right;\n",
       "    }\n",
       "</style>\n",
       "<table border=\"1\" class=\"dataframe\">\n",
       "  <thead>\n",
       "    <tr style=\"text-align: right;\">\n",
       "      <th></th>\n",
       "      <th>Recnum</th>\n",
       "      <th>Cardnum</th>\n",
       "      <th>Date</th>\n",
       "      <th>Merchnum</th>\n",
       "      <th>Merch description</th>\n",
       "      <th>Merch state</th>\n",
       "      <th>Merch zip</th>\n",
       "      <th>Transtype</th>\n",
       "      <th>Amount</th>\n",
       "      <th>Fraud</th>\n",
       "    </tr>\n",
       "  </thead>\n",
       "  <tbody>\n",
       "  </tbody>\n",
       "</table>\n",
       "</div>"
      ],
      "text/plain": [
       "Empty DataFrame\n",
       "Columns: [Recnum, Cardnum, Date, Merchnum, Merch description, Merch state, Merch zip, Transtype, Amount, Fraud]\n",
       "Index: []"
      ]
     },
     "execution_count": 8,
     "metadata": {},
     "output_type": "execute_result"
    }
   ],
   "source": [
    "# there are no zero Merchnum values\n",
    "data[data['Merchnum']==0]"
   ]
  },
  {
   "cell_type": "code",
   "execution_count": 9,
   "id": "complete-sewing",
   "metadata": {},
   "outputs": [],
   "source": [
    "#Fill in missing values (Zip, Merchnum, State)\n",
    "merchdes_merchnum = {}\n",
    "for index, merchdes in data[data['Merch description'].notnull()]['Merch description'].items():\n",
    "    if merchdes not in merchdes_merchnum :\n",
    "        merchdes_merchnum[merchdes] = data.loc[index, 'Merchnum']"
   ]
  },
  {
   "cell_type": "code",
   "execution_count": 10,
   "id": "vital-testing",
   "metadata": {},
   "outputs": [],
   "source": [
    "# fill in by mapping with Merch description\n",
    "data['Merchnum'] = data['Merchnum'].fillna(data['Merch description'].map(merchdes_merchnum))\n"
   ]
  },
  {
   "cell_type": "code",
   "execution_count": 11,
   "id": "collectible-envelope",
   "metadata": {},
   "outputs": [],
   "source": [
    "# assign unknown for adjustments transactions\n",
    "data['Merchnum'] = data['Merchnum'].mask(data['Merch description'] == 'RETAIL CREDIT ADJUSTMENT', 'unknown')\n",
    "data['Merchnum'] = data['Merchnum'].mask(data['Merch description'] == 'RETAIL DEBIT ADJUSTMENT', 'unknown')\n",
    "data['Merchnum'] = data['Merchnum'].mask(data['Merchnum'].isna(), 'unknown')"
   ]
  },
  {
   "cell_type": "code",
   "execution_count": 12,
   "id": "unavailable-profit",
   "metadata": {},
   "outputs": [
    {
     "data": {
      "text/html": [
       "<div>\n",
       "<style scoped>\n",
       "    .dataframe tbody tr th:only-of-type {\n",
       "        vertical-align: middle;\n",
       "    }\n",
       "\n",
       "    .dataframe tbody tr th {\n",
       "        vertical-align: top;\n",
       "    }\n",
       "\n",
       "    .dataframe thead th {\n",
       "        text-align: right;\n",
       "    }\n",
       "</style>\n",
       "<table border=\"1\" class=\"dataframe\">\n",
       "  <thead>\n",
       "    <tr style=\"text-align: right;\">\n",
       "      <th></th>\n",
       "      <th>Recnum</th>\n",
       "      <th>Cardnum</th>\n",
       "      <th>Date</th>\n",
       "      <th>Merchnum</th>\n",
       "      <th>Merch description</th>\n",
       "      <th>Merch state</th>\n",
       "      <th>Merch zip</th>\n",
       "      <th>Transtype</th>\n",
       "      <th>Amount</th>\n",
       "      <th>Fraud</th>\n",
       "    </tr>\n",
       "  </thead>\n",
       "  <tbody>\n",
       "    <tr>\n",
       "      <th>14364</th>\n",
       "      <td>14365</td>\n",
       "      <td>5142148452</td>\n",
       "      <td>2006-02-28</td>\n",
       "      <td>930090121224</td>\n",
       "      <td>FEDEX SHP 02/22/10 AB#</td>\n",
       "      <td>TN</td>\n",
       "      <td>38118.0</td>\n",
       "      <td>P</td>\n",
       "      <td>6.74</td>\n",
       "      <td>0</td>\n",
       "    </tr>\n",
       "    <tr>\n",
       "      <th>9306</th>\n",
       "      <td>9307</td>\n",
       "      <td>5142111930</td>\n",
       "      <td>2006-02-09</td>\n",
       "      <td>602608969534</td>\n",
       "      <td>FISHER SCI ATL</td>\n",
       "      <td>GA</td>\n",
       "      <td>30091.0</td>\n",
       "      <td>P</td>\n",
       "      <td>143.80</td>\n",
       "      <td>0</td>\n",
       "    </tr>\n",
       "    <tr>\n",
       "      <th>71228</th>\n",
       "      <td>71229</td>\n",
       "      <td>5142190387</td>\n",
       "      <td>2006-09-07</td>\n",
       "      <td>6899688962417</td>\n",
       "      <td>ALLIED TRAILER SUPPLY</td>\n",
       "      <td>CA</td>\n",
       "      <td>95815.0</td>\n",
       "      <td>P</td>\n",
       "      <td>79.95</td>\n",
       "      <td>0</td>\n",
       "    </tr>\n",
       "    <tr>\n",
       "      <th>69285</th>\n",
       "      <td>69286</td>\n",
       "      <td>5142299705</td>\n",
       "      <td>2006-08-31</td>\n",
       "      <td>930090121224</td>\n",
       "      <td>FEDEX SHP 08/28/10 AB#</td>\n",
       "      <td>TN</td>\n",
       "      <td>38118.0</td>\n",
       "      <td>P</td>\n",
       "      <td>3.74</td>\n",
       "      <td>0</td>\n",
       "    </tr>\n",
       "    <tr>\n",
       "      <th>24052</th>\n",
       "      <td>24053</td>\n",
       "      <td>5142149874</td>\n",
       "      <td>2006-04-01</td>\n",
       "      <td>1754000282045</td>\n",
       "      <td>PAGENET*PAGING NETWORK</td>\n",
       "      <td>TX</td>\n",
       "      <td>75252.0</td>\n",
       "      <td>P</td>\n",
       "      <td>165.10</td>\n",
       "      <td>0</td>\n",
       "    </tr>\n",
       "    <tr>\n",
       "      <th>62540</th>\n",
       "      <td>62541</td>\n",
       "      <td>5142239684</td>\n",
       "      <td>2006-08-11</td>\n",
       "      <td>unknown</td>\n",
       "      <td>RETAIL CREDIT ADJUSTMENT</td>\n",
       "      <td>NaN</td>\n",
       "      <td>NaN</td>\n",
       "      <td>P</td>\n",
       "      <td>453.00</td>\n",
       "      <td>0</td>\n",
       "    </tr>\n",
       "    <tr>\n",
       "      <th>19285</th>\n",
       "      <td>19286</td>\n",
       "      <td>5142176897</td>\n",
       "      <td>2006-03-16</td>\n",
       "      <td>465968098337</td>\n",
       "      <td>HPSHOPPING COM</td>\n",
       "      <td>CA</td>\n",
       "      <td>95051.0</td>\n",
       "      <td>P</td>\n",
       "      <td>499.00</td>\n",
       "      <td>0</td>\n",
       "    </tr>\n",
       "    <tr>\n",
       "      <th>19252</th>\n",
       "      <td>19253</td>\n",
       "      <td>5142223373</td>\n",
       "      <td>2006-03-16</td>\n",
       "      <td>8000326863954</td>\n",
       "      <td>WRIGHT BROTHERS INC.</td>\n",
       "      <td>OH</td>\n",
       "      <td>45237.0</td>\n",
       "      <td>P</td>\n",
       "      <td>214.00</td>\n",
       "      <td>0</td>\n",
       "    </tr>\n",
       "    <tr>\n",
       "      <th>40381</th>\n",
       "      <td>40382</td>\n",
       "      <td>5142148297</td>\n",
       "      <td>2006-05-31</td>\n",
       "      <td>2094330000009</td>\n",
       "      <td>FRANKLIN COVEY COMPANY</td>\n",
       "      <td>UT</td>\n",
       "      <td>84119.0</td>\n",
       "      <td>P</td>\n",
       "      <td>33.96</td>\n",
       "      <td>0</td>\n",
       "    </tr>\n",
       "    <tr>\n",
       "      <th>87781</th>\n",
       "      <td>87782</td>\n",
       "      <td>5142195612</td>\n",
       "      <td>2006-11-17</td>\n",
       "      <td>9070100084998</td>\n",
       "      <td>SKC INC</td>\n",
       "      <td>PA</td>\n",
       "      <td>15330.0</td>\n",
       "      <td>P</td>\n",
       "      <td>800.00</td>\n",
       "      <td>0</td>\n",
       "    </tr>\n",
       "  </tbody>\n",
       "</table>\n",
       "</div>"
      ],
      "text/plain": [
       "       Recnum     Cardnum        Date       Merchnum  \\\n",
       "14364   14365  5142148452  2006-02-28   930090121224   \n",
       "9306     9307  5142111930  2006-02-09   602608969534   \n",
       "71228   71229  5142190387  2006-09-07  6899688962417   \n",
       "69285   69286  5142299705  2006-08-31   930090121224   \n",
       "24052   24053  5142149874  2006-04-01  1754000282045   \n",
       "62540   62541  5142239684  2006-08-11        unknown   \n",
       "19285   19286  5142176897  2006-03-16   465968098337   \n",
       "19252   19253  5142223373  2006-03-16  8000326863954   \n",
       "40381   40382  5142148297  2006-05-31  2094330000009   \n",
       "87781   87782  5142195612  2006-11-17  9070100084998   \n",
       "\n",
       "              Merch description Merch state  Merch zip Transtype  Amount  \\\n",
       "14364    FEDEX SHP 02/22/10 AB#          TN    38118.0         P    6.74   \n",
       "9306             FISHER SCI ATL          GA    30091.0         P  143.80   \n",
       "71228     ALLIED TRAILER SUPPLY          CA    95815.0         P   79.95   \n",
       "69285    FEDEX SHP 08/28/10 AB#          TN    38118.0         P    3.74   \n",
       "24052    PAGENET*PAGING NETWORK          TX    75252.0         P  165.10   \n",
       "62540  RETAIL CREDIT ADJUSTMENT         NaN        NaN         P  453.00   \n",
       "19285            HPSHOPPING COM          CA    95051.0         P  499.00   \n",
       "19252      WRIGHT BROTHERS INC.          OH    45237.0         P  214.00   \n",
       "40381    FRANKLIN COVEY COMPANY          UT    84119.0         P   33.96   \n",
       "87781                   SKC INC          PA    15330.0         P  800.00   \n",
       "\n",
       "       Fraud  \n",
       "14364      0  \n",
       "9306       0  \n",
       "71228      0  \n",
       "69285      0  \n",
       "24052      0  \n",
       "62540      0  \n",
       "19285      0  \n",
       "19252      0  \n",
       "40381      0  \n",
       "87781      0  "
      ]
     },
     "execution_count": 12,
     "metadata": {},
     "output_type": "execute_result"
    }
   ],
   "source": [
    "data.sample(10)"
   ]
  },
  {
   "cell_type": "code",
   "execution_count": 12,
   "id": "completed-placement",
   "metadata": {},
   "outputs": [],
   "source": [
    "# dict for mapping\n",
    "zip_state = {}\n",
    "for index, zip5 in data[data['Merch zip'].notnull()]['Merch zip'].items():\n",
    "    if zip5 not in zip_state:\n",
    "        zip_state[zip5] = data.loc[index, 'Merch state']\n"
   ]
  },
  {
   "cell_type": "code",
   "execution_count": 13,
   "id": "registered-prize",
   "metadata": {},
   "outputs": [],
   "source": [
    "zip_state['00926'] = 'PR'\n",
    "zip_state['00929'] = 'PR'\n",
    "zip_state['00934'] = 'PR'\n",
    "zip_state['00902'] = 'PR'\n",
    "zip_state['00738'] = 'PR'\n",
    "zip_state['90805'] = 'CA'\n",
    "zip_state['76302'] = 'TX'\n",
    "zip_state['00914'] = 'PR'\n",
    "zip_state['95461'] = 'CA'\n",
    "zip_state['00680'] = 'PR'\n",
    "zip_state['00623'] = 'PR'\n",
    "zip_state['00726'] = 'PR'\n",
    "zip_state['00936'] = 'PR'\n",
    "zip_state['12108'] = 'NY'\n",
    "zip_state['00791'] = 'PR'\n",
    "zip_state['00907'] = 'PR'\n",
    "zip_state['00922'] = 'PR'\n",
    "zip_state['00920'] = 'PR'\n",
    "zip_state['00801'] = 'VI'\n",
    "zip_state['31040'] = 'GA'\n",
    "zip_state['41160'] = 'KY'\n",
    "zip_state['00681'] = 'PR'"
   ]
  },
  {
   "cell_type": "code",
   "execution_count": 14,
   "id": "intimate-billy",
   "metadata": {},
   "outputs": [],
   "source": [
    "merchnum_state = {}\n",
    "for index, merchnum in data[data['Merchnum'].notnull()]['Merchnum'].items():\n",
    "    if merchnum not in merchnum_state :\n",
    "        merchnum_state [merchnum] = data.loc[index, 'Merch state']\n",
    "\n",
    "merchdes_state = {}\n",
    "for index, merchdes in data[data['Merch description'].notnull()]['Merch description'].items():\n",
    "    if merchdes not in merchdes_state :\n",
    "        merchdes_state [merchdes] = data.loc[index, 'Merch state']\n"
   ]
  },
  {
   "cell_type": "code",
   "execution_count": 15,
   "id": "familiar-maldives",
   "metadata": {},
   "outputs": [],
   "source": [
    "# fill in by mapping with zip, merchnum and merch description\n",
    "data['Merch state'] = data['Merch state'].fillna(data['Merch zip'].map(zip_state))\n",
    "data['Merch state'] = data['Merch state'].fillna(data['Merchnum'].map(merchnum_state))\n",
    "data['Merch state'] = data['Merch state'].fillna(data['Merch description'].map(merchdes_state))\n",
    "\n",
    "# assign unknown for adjustments transactions\n",
    "data['Merch state'] = data['Merch state'].mask(data['Merch description'] == 'RETAIL CREDIT ADJUSTMENT', 'unknown')\n",
    "data['Merch state'] = data['Merch state'].mask(data['Merch description'] == 'RETAIL DEBIT ADJUSTMENT', 'unknown')"
   ]
  },
  {
   "cell_type": "code",
   "execution_count": 16,
   "id": "collect-marketing",
   "metadata": {},
   "outputs": [
    {
     "data": {
      "text/plain": [
       "96308"
      ]
     },
     "execution_count": 16,
     "metadata": {},
     "output_type": "execute_result"
    }
   ],
   "source": [
    "data['Merch state'].count()"
   ]
  },
  {
   "cell_type": "code",
   "execution_count": 16,
   "id": "according-netscape",
   "metadata": {},
   "outputs": [
    {
     "name": "stdout",
     "output_type": "stream",
     "text": [
      "<class 'pandas.core.frame.DataFrame'>\n",
      "Int64Index: 96397 entries, 0 to 96752\n",
      "Data columns (total 10 columns):\n",
      " #   Column             Non-Null Count  Dtype  \n",
      "---  ------             --------------  -----  \n",
      " 0   Recnum             96397 non-null  int64  \n",
      " 1   Cardnum            96397 non-null  int64  \n",
      " 2   Date               96397 non-null  object \n",
      " 3   Merchnum           96397 non-null  object \n",
      " 4   Merch description  96397 non-null  object \n",
      " 5   Merch state        96397 non-null  object \n",
      " 6   Merch zip          96397 non-null  object \n",
      " 7   Transtype          96397 non-null  object \n",
      " 8   Amount             96397 non-null  float64\n",
      " 9   Fraud              96397 non-null  int64  \n",
      "dtypes: float64(1), int64(3), object(6)\n",
      "memory usage: 10.6+ MB\n"
     ]
    }
   ],
   "source": [
    "merchnum_zip = {}\n",
    "for index, merchnum in data[data['Merchnum'].notnull()]['Merchnum'].items():\n",
    "    if merchnum not in merchnum_zip :\n",
    "        merchnum_zip [merchnum] = data.loc[index, 'Merch zip']\n",
    "\n",
    "merchdes_zip = {}\n",
    "for index, merchdes in data[data['Merch description'].notnull()]['Merch description'].items():\n",
    "    if merchdes not in merchdes_zip :\n",
    "        merchdes_zip [merchdes] = data.loc[index, 'Merch zip']\n",
    "\n",
    "# fill in by mapping with merchnum and merch description\n",
    "data['Merch zip'] = data['Merch zip'].fillna(data['Merchnum'].map(merchnum_zip))\n",
    "data['Merch zip'] = data['Merch zip'].fillna(data['Merch description'].map(merchdes_zip))\n",
    "\n",
    "# assign unknown for adjustments transactions\n",
    "data['Merch zip'] = data['Merch zip'].mask(data['Merch zip'] == 'RETAIL CREDIT ADJUSTMENT', 'unknown')\n",
    "data['Merch zip'] = data['Merch zip'].mask(data['Merch zip'] == 'RETAIL DEBIT ADJUSTMENT', 'unknown')\n",
    "\n",
    "# fill the rest with unknown\n",
    "data = data.fillna('unknown')\n",
    "data.info()"
   ]
  },
  {
   "cell_type": "code",
   "execution_count": 20,
   "id": "framed-railway",
   "metadata": {},
   "outputs": [
    {
     "data": {
      "text/html": [
       "<div>\n",
       "<style scoped>\n",
       "    .dataframe tbody tr th:only-of-type {\n",
       "        vertical-align: middle;\n",
       "    }\n",
       "\n",
       "    .dataframe tbody tr th {\n",
       "        vertical-align: top;\n",
       "    }\n",
       "\n",
       "    .dataframe thead th {\n",
       "        text-align: right;\n",
       "    }\n",
       "</style>\n",
       "<table border=\"1\" class=\"dataframe\">\n",
       "  <thead>\n",
       "    <tr style=\"text-align: right;\">\n",
       "      <th></th>\n",
       "      <th>Recnum</th>\n",
       "      <th>Cardnum</th>\n",
       "      <th>Date</th>\n",
       "      <th>Merchnum</th>\n",
       "      <th>Merch description</th>\n",
       "      <th>Merch state</th>\n",
       "      <th>Merch zip</th>\n",
       "      <th>Transtype</th>\n",
       "      <th>Amount</th>\n",
       "      <th>Fraud</th>\n",
       "    </tr>\n",
       "  </thead>\n",
       "  <tbody>\n",
       "    <tr>\n",
       "      <th>71905</th>\n",
       "      <td>71906</td>\n",
       "      <td>5142131548</td>\n",
       "      <td>2006-09-11</td>\n",
       "      <td>930090121224</td>\n",
       "      <td>FEDEX SHP 09/07/10 AB#</td>\n",
       "      <td>TN</td>\n",
       "      <td>38118</td>\n",
       "      <td>P</td>\n",
       "      <td>3.67</td>\n",
       "      <td>0</td>\n",
       "    </tr>\n",
       "    <tr>\n",
       "      <th>68265</th>\n",
       "      <td>68266</td>\n",
       "      <td>5142190147</td>\n",
       "      <td>2006-08-29</td>\n",
       "      <td>930090121224</td>\n",
       "      <td>FEDEX SHP 08/23/10 AB#</td>\n",
       "      <td>TN</td>\n",
       "      <td>38118</td>\n",
       "      <td>P</td>\n",
       "      <td>3.62</td>\n",
       "      <td>0</td>\n",
       "    </tr>\n",
       "    <tr>\n",
       "      <th>631</th>\n",
       "      <td>632</td>\n",
       "      <td>5142272511</td>\n",
       "      <td>2006-01-05</td>\n",
       "      <td>679679721335</td>\n",
       "      <td>ORACLE DIRECT MKTG</td>\n",
       "      <td>CA</td>\n",
       "      <td>94065</td>\n",
       "      <td>P</td>\n",
       "      <td>1180.86</td>\n",
       "      <td>0</td>\n",
       "    </tr>\n",
       "    <tr>\n",
       "      <th>61995</th>\n",
       "      <td>61996</td>\n",
       "      <td>5142297710</td>\n",
       "      <td>2006-08-10</td>\n",
       "      <td>930090121224</td>\n",
       "      <td>FEDEX SHP 04/14/10 AB#</td>\n",
       "      <td>TN</td>\n",
       "      <td>38118</td>\n",
       "      <td>P</td>\n",
       "      <td>3.62</td>\n",
       "      <td>0</td>\n",
       "    </tr>\n",
       "    <tr>\n",
       "      <th>78375</th>\n",
       "      <td>78376</td>\n",
       "      <td>5142123782</td>\n",
       "      <td>2006-09-28</td>\n",
       "      <td>930090121224</td>\n",
       "      <td>FEDEX SHP 09/20/10 AB#</td>\n",
       "      <td>TN</td>\n",
       "      <td>38118</td>\n",
       "      <td>P</td>\n",
       "      <td>3.62</td>\n",
       "      <td>0</td>\n",
       "    </tr>\n",
       "    <tr>\n",
       "      <th>28779</th>\n",
       "      <td>28780</td>\n",
       "      <td>5142259479</td>\n",
       "      <td>2006-04-20</td>\n",
       "      <td>4503082476300</td>\n",
       "      <td>OFFICE DEPOT #1082</td>\n",
       "      <td>MD</td>\n",
       "      <td>20763</td>\n",
       "      <td>P</td>\n",
       "      <td>173.24</td>\n",
       "      <td>0</td>\n",
       "    </tr>\n",
       "    <tr>\n",
       "      <th>76594</th>\n",
       "      <td>76595</td>\n",
       "      <td>5142170025</td>\n",
       "      <td>2006-09-22</td>\n",
       "      <td>9900000029606</td>\n",
       "      <td>GSA/CUST SUPPLY CTR 82</td>\n",
       "      <td>IL</td>\n",
       "      <td>60482</td>\n",
       "      <td>P</td>\n",
       "      <td>1348.59</td>\n",
       "      <td>0</td>\n",
       "    </tr>\n",
       "    <tr>\n",
       "      <th>55874</th>\n",
       "      <td>55875</td>\n",
       "      <td>5142236799</td>\n",
       "      <td>2006-07-24</td>\n",
       "      <td>62007675337</td>\n",
       "      <td>RITZ CAMERA CENTER #1175</td>\n",
       "      <td>PA</td>\n",
       "      <td>19103</td>\n",
       "      <td>P</td>\n",
       "      <td>9.59</td>\n",
       "      <td>0</td>\n",
       "    </tr>\n",
       "    <tr>\n",
       "      <th>1645</th>\n",
       "      <td>1646</td>\n",
       "      <td>5142147797</td>\n",
       "      <td>2006-01-10</td>\n",
       "      <td>2603600060593</td>\n",
       "      <td>CHAMPION TROPHIES INC</td>\n",
       "      <td>DC</td>\n",
       "      <td>20001</td>\n",
       "      <td>P</td>\n",
       "      <td>584.00</td>\n",
       "      <td>0</td>\n",
       "    </tr>\n",
       "    <tr>\n",
       "      <th>26865</th>\n",
       "      <td>26866</td>\n",
       "      <td>5142267882</td>\n",
       "      <td>2006-04-12</td>\n",
       "      <td>465094661332</td>\n",
       "      <td>AGILENT</td>\n",
       "      <td>GA</td>\n",
       "      <td>30348</td>\n",
       "      <td>P</td>\n",
       "      <td>1554.00</td>\n",
       "      <td>0</td>\n",
       "    </tr>\n",
       "  </tbody>\n",
       "</table>\n",
       "</div>"
      ],
      "text/plain": [
       "       Recnum     Cardnum        Date       Merchnum  \\\n",
       "71905   71906  5142131548  2006-09-11   930090121224   \n",
       "68265   68266  5142190147  2006-08-29   930090121224   \n",
       "631       632  5142272511  2006-01-05   679679721335   \n",
       "61995   61996  5142297710  2006-08-10   930090121224   \n",
       "78375   78376  5142123782  2006-09-28   930090121224   \n",
       "28779   28780  5142259479  2006-04-20  4503082476300   \n",
       "76594   76595  5142170025  2006-09-22  9900000029606   \n",
       "55874   55875  5142236799  2006-07-24    62007675337   \n",
       "1645     1646  5142147797  2006-01-10  2603600060593   \n",
       "26865   26866  5142267882  2006-04-12   465094661332   \n",
       "\n",
       "              Merch description Merch state Merch zip Transtype   Amount  \\\n",
       "71905    FEDEX SHP 09/07/10 AB#          TN     38118         P     3.67   \n",
       "68265    FEDEX SHP 08/23/10 AB#          TN     38118         P     3.62   \n",
       "631          ORACLE DIRECT MKTG          CA     94065         P  1180.86   \n",
       "61995    FEDEX SHP 04/14/10 AB#          TN     38118         P     3.62   \n",
       "78375    FEDEX SHP 09/20/10 AB#          TN     38118         P     3.62   \n",
       "28779        OFFICE DEPOT #1082          MD     20763         P   173.24   \n",
       "76594    GSA/CUST SUPPLY CTR 82          IL     60482         P  1348.59   \n",
       "55874  RITZ CAMERA CENTER #1175          PA     19103         P     9.59   \n",
       "1645      CHAMPION TROPHIES INC          DC     20001         P   584.00   \n",
       "26865                   AGILENT          GA     30348         P  1554.00   \n",
       "\n",
       "       Fraud  \n",
       "71905      0  \n",
       "68265      0  \n",
       "631        0  \n",
       "61995      0  \n",
       "78375      0  \n",
       "28779      0  \n",
       "76594      0  \n",
       "55874      0  \n",
       "1645       0  \n",
       "26865      0  "
      ]
     },
     "execution_count": 20,
     "metadata": {},
     "output_type": "execute_result"
    }
   ],
   "source": [
    "data.sample(10)"
   ]
  },
  {
   "cell_type": "code",
   "execution_count": 115,
   "id": "ambient-nelson",
   "metadata": {},
   "outputs": [
    {
     "name": "stdout",
     "output_type": "stream",
     "text": [
      "<class 'pandas.core.frame.DataFrame'>\n",
      "Int64Index: 96397 entries, 0 to 96752\n",
      "Data columns (total 10 columns):\n",
      " #   Column             Non-Null Count  Dtype  \n",
      "---  ------             --------------  -----  \n",
      " 0   Recnum             96397 non-null  int64  \n",
      " 1   Cardnum            96397 non-null  int64  \n",
      " 2   Date               96397 non-null  object \n",
      " 3   Merchnum           96397 non-null  object \n",
      " 4   Merch description  96397 non-null  object \n",
      " 5   Merch state        96397 non-null  object \n",
      " 6   Merch zip          96397 non-null  object \n",
      " 7   Transtype          96397 non-null  object \n",
      " 8   Amount             96397 non-null  float64\n",
      " 9   Fraud              96397 non-null  int64  \n",
      "dtypes: float64(1), int64(3), object(6)\n",
      "memory usage: 10.6+ MB\n"
     ]
    }
   ],
   "source": [
    "data.info()"
   ]
  },
  {
   "cell_type": "code",
   "execution_count": 17,
   "id": "minor-independence",
   "metadata": {},
   "outputs": [],
   "source": [
    "data['Date'] =  pd.to_datetime(data.Date, format = '%Y-%m-%d')"
   ]
  },
  {
   "cell_type": "code",
   "execution_count": 18,
   "id": "amended-landing",
   "metadata": {},
   "outputs": [],
   "source": [
    "data['dow']=data['Date'].apply(lambda x: calendar.day_name[x.weekday()])"
   ]
  },
  {
   "cell_type": "code",
   "execution_count": 19,
   "id": "inside-penetration",
   "metadata": {},
   "outputs": [],
   "source": [
    "data['card_merch']=data['Cardnum'].astype(str)+data['Merchnum'].astype(str)\n",
    "data['card_des']=data['Cardnum'].astype(str)+data['Merch description']\n",
    "data['card_state']=data['Cardnum'].astype(str)+data['Merch state']\n",
    "data['card_zip']=data['Cardnum'].astype(str)+data['Merch zip'].astype(str)\n",
    "data['merch_des']=data['Merchnum'].astype(str)+data['Merch description']\n",
    "data['merch_state']=data['Merchnum'].astype(str)+data['Merch state']\n",
    "data['merch_zip']=data['Merchnum'].astype(str)+data['Merch zip'].astype(str)\n",
    "data['des_state']=data['Merch description']+data['Merch state']\n",
    "data['des_zip']=data['Merch description']+data['Merch zip'].astype(str)"
   ]
  },
  {
   "cell_type": "code",
   "execution_count": 21,
   "id": "manual-catch",
   "metadata": {},
   "outputs": [
    {
     "data": {
      "text/plain": [
       "Index(['Recnum', 'Cardnum', 'Date', 'Merchnum', 'Merch description',\n",
       "       'Merch state', 'Merch zip', 'Transtype', 'Amount', 'Fraud', 'dow',\n",
       "       'card_merch', 'card_des', 'card_state', 'card_zip', 'merch_des',\n",
       "       'merch_state', 'merch_zip', 'des_state', 'des_zip'],\n",
       "      dtype='object')"
      ]
     },
     "execution_count": 21,
     "metadata": {},
     "output_type": "execute_result"
    }
   ],
   "source": [
    "data.columns"
   ]
  },
  {
   "cell_type": "code",
   "execution_count": 20,
   "id": "activated-exploration",
   "metadata": {},
   "outputs": [
    {
     "data": {
      "text/plain": [
       "(96397, 20)"
      ]
     },
     "execution_count": 20,
     "metadata": {},
     "output_type": "execute_result"
    }
   ],
   "source": [
    "df1=data.copy()\n",
    "final=df1.copy()\n",
    "df1['check_date']=df1['Date']\n",
    "df1['check_record']=df1['Recnum']\n",
    "final.shape"
   ]
  },
  {
   "cell_type": "code",
   "execution_count": 21,
   "id": "humanitarian-marking",
   "metadata": {},
   "outputs": [],
   "source": [
    "entities=['Merch description',\n",
    "       'card_merch', 'card_des', 'card_state', 'card_zip', 'merch_des',\n",
    "       'merch_state', 'des_state', 'des_zip']"
   ]
  },
  {
   "cell_type": "code",
   "execution_count": 22,
   "id": "interior-clothing",
   "metadata": {},
   "outputs": [
    {
     "name": "stdout",
     "output_type": "stream",
     "text": [
      "\n",
      "\n",
      "Merch description_day_since ---> Done\n",
      "Merch description_count_0 ---> Done\n",
      "Merch description amount variables over past 0 ---> Done\n",
      "Merch description_count_1 ---> Done\n",
      "Merch description amount variables over past 1 ---> Done\n",
      "Merch description_count_3 ---> Done\n",
      "Merch description amount variables over past 3 ---> Done\n",
      "Merch description_count_7 ---> Done\n",
      "Merch description amount variables over past 7 ---> Done\n",
      "Merch description_count_14 ---> Done\n",
      "Merch description amount variables over past 14 ---> Done\n",
      "Merch description_count_30 ---> Done\n",
      "Merch description amount variables over past 30 ---> Done\n",
      "Run time for the last entity ----------------- 8.591181899999999s\n",
      "\n",
      "card_merch_day_since ---> Done\n",
      "card_merch_count_0 ---> Done\n",
      "card_merch amount variables over past 0 ---> Done\n",
      "card_merch_count_1 ---> Done\n",
      "card_merch amount variables over past 1 ---> Done\n",
      "card_merch_count_3 ---> Done\n",
      "card_merch amount variables over past 3 ---> Done\n",
      "card_merch_count_7 ---> Done\n",
      "card_merch amount variables over past 7 ---> Done\n",
      "card_merch_count_14 ---> Done\n",
      "card_merch amount variables over past 14 ---> Done\n",
      "card_merch_count_30 ---> Done\n",
      "card_merch amount variables over past 30 ---> Done\n",
      "Run time for the last entity ----------------- 2.5550809s\n",
      "\n",
      "card_des_day_since ---> Done\n",
      "card_des_count_0 ---> Done\n",
      "card_des amount variables over past 0 ---> Done\n",
      "card_des_count_1 ---> Done\n",
      "card_des amount variables over past 1 ---> Done\n",
      "card_des_count_3 ---> Done\n",
      "card_des amount variables over past 3 ---> Done\n",
      "card_des_count_7 ---> Done\n",
      "card_des amount variables over past 7 ---> Done\n",
      "card_des_count_14 ---> Done\n",
      "card_des amount variables over past 14 ---> Done\n",
      "card_des_count_30 ---> Done\n",
      "card_des amount variables over past 30 ---> Done\n",
      "Run time for the last entity ----------------- 1.4312939999999994s\n",
      "\n",
      "card_state_day_since ---> Done\n",
      "card_state_count_0 ---> Done\n",
      "card_state amount variables over past 0 ---> Done\n",
      "card_state_count_1 ---> Done\n",
      "card_state amount variables over past 1 ---> Done\n",
      "card_state_count_3 ---> Done\n",
      "card_state amount variables over past 3 ---> Done\n",
      "card_state_count_7 ---> Done\n",
      "card_state amount variables over past 7 ---> Done\n",
      "card_state_count_14 ---> Done\n",
      "card_state amount variables over past 14 ---> Done\n",
      "card_state_count_30 ---> Done\n",
      "card_state amount variables over past 30 ---> Done\n",
      "Run time for the last entity ----------------- 3.2534506000000007s\n",
      "\n",
      "card_zip_day_since ---> Done\n",
      "card_zip_count_0 ---> Done\n",
      "card_zip amount variables over past 0 ---> Done\n",
      "card_zip_count_1 ---> Done\n",
      "card_zip amount variables over past 1 ---> Done\n",
      "card_zip_count_3 ---> Done\n",
      "card_zip amount variables over past 3 ---> Done\n",
      "card_zip_count_7 ---> Done\n",
      "card_zip amount variables over past 7 ---> Done\n",
      "card_zip_count_14 ---> Done\n",
      "card_zip amount variables over past 14 ---> Done\n",
      "card_zip_count_30 ---> Done\n",
      "card_zip amount variables over past 30 ---> Done\n",
      "Run time for the last entity ----------------- 2.6809084999999993s\n",
      "\n",
      "merch_des_day_since ---> Done\n",
      "merch_des_count_0 ---> Done\n",
      "merch_des amount variables over past 0 ---> Done\n",
      "merch_des_count_1 ---> Done\n",
      "merch_des amount variables over past 1 ---> Done\n",
      "merch_des_count_3 ---> Done\n",
      "merch_des amount variables over past 3 ---> Done\n",
      "merch_des_count_7 ---> Done\n",
      "merch_des amount variables over past 7 ---> Done\n",
      "merch_des_count_14 ---> Done\n",
      "merch_des amount variables over past 14 ---> Done\n",
      "merch_des_count_30 ---> Done\n",
      "merch_des amount variables over past 30 ---> Done\n",
      "Run time for the last entity ----------------- 6.455600799999999s\n",
      "\n",
      "merch_state_day_since ---> Done\n",
      "merch_state_count_0 ---> Done\n",
      "merch_state amount variables over past 0 ---> Done\n",
      "merch_state_count_1 ---> Done\n",
      "merch_state amount variables over past 1 ---> Done\n",
      "merch_state_count_3 ---> Done\n",
      "merch_state amount variables over past 3 ---> Done\n",
      "merch_state_count_7 ---> Done\n",
      "merch_state amount variables over past 7 ---> Done\n",
      "merch_state_count_14 ---> Done\n",
      "merch_state amount variables over past 14 ---> Done\n",
      "merch_state_count_30 ---> Done\n",
      "merch_state amount variables over past 30 ---> Done\n",
      "Run time for the last entity ----------------- 81.53551209999999s\n",
      "\n",
      "des_state_day_since ---> Done\n",
      "des_state_count_0 ---> Done\n",
      "des_state amount variables over past 0 ---> Done\n",
      "des_state_count_1 ---> Done\n",
      "des_state amount variables over past 1 ---> Done\n",
      "des_state_count_3 ---> Done\n",
      "des_state amount variables over past 3 ---> Done\n",
      "des_state_count_7 ---> Done\n",
      "des_state amount variables over past 7 ---> Done\n",
      "des_state_count_14 ---> Done\n",
      "des_state amount variables over past 14 ---> Done\n",
      "des_state_count_30 ---> Done\n",
      "des_state amount variables over past 30 ---> Done\n",
      "Run time for the last entity ----------------- 9.708714700000002s\n",
      "\n",
      "des_zip_day_since ---> Done\n",
      "des_zip_count_0 ---> Done\n",
      "des_zip amount variables over past 0 ---> Done\n",
      "des_zip_count_1 ---> Done\n",
      "des_zip amount variables over past 1 ---> Done\n",
      "des_zip_count_3 ---> Done\n",
      "des_zip amount variables over past 3 ---> Done\n",
      "des_zip_count_7 ---> Done\n",
      "des_zip amount variables over past 7 ---> Done\n",
      "des_zip_count_14 ---> Done\n",
      "des_zip amount variables over past 14 ---> Done\n",
      "des_zip_count_30 ---> Done\n",
      "des_zip amount variables over past 30 ---> Done\n",
      "Total run time: 2.0743560166666666mins\n"
     ]
    }
   ],
   "source": [
    "start = timeit.default_timer()\n",
    "for entity in entities:    \n",
    "    try: print('Run time for the last entity ----------------- {}s'.format(timeit.default_timer() - st))\n",
    "    except: print('')\n",
    "    st = timeit.default_timer()    \n",
    "    ## Day-since variables:   \n",
    "    df_l = df1[['Recnum', 'Date', entity]]\n",
    "    df_r = df1[['check_record', 'check_date', entity, 'Amount']]    \n",
    "    temp = pd.merge(df_l, df_r, left_on = entity, right_on = entity)   \n",
    "    temp1 = temp[temp.Recnum > temp.check_record][['Recnum','Date','check_date']]\\\n",
    "                                                   .groupby('Recnum')[['Date', 'check_date']].last()\n",
    "    mapper = (temp1.Date - temp1.check_date).dt.days\n",
    "    final[entity + '_day_since'] = final.Recnum.map(mapper)\n",
    "    final[entity + '_day_since'].fillna((final.Date - pd.to_datetime('2010-01-01')).dt.days, inplace = True)\n",
    "    print('\\n' + entity + '_day_since ---> Done')   \n",
    "    temp1=0\n",
    "    ## Frequency & Amount variables:   \n",
    "    for time in [0,1,3,7,14,30]:       \n",
    "        temp2 = temp[(temp.check_date >= (temp.Date - dt.timedelta(time))) &\\\n",
    "                       (temp.Recnum >= temp.check_record)][['Recnum', entity, 'Amount']]       \n",
    "        col_name = entity + '_count_' + str(time)    \n",
    "        mapper2 = temp2.groupby('Recnum')[entity].count()      \n",
    "        final[col_name] = final.Recnum.map(mapper2)        \n",
    "        print(col_name + ' ---> Done')       \n",
    "        final[entity + '_avg_' + str(time)] = final.Recnum.map(temp2.groupby('Recnum')['Amount'].mean())\n",
    "        final[entity + '_max_' + str(time)] = final.Recnum.map(temp2.groupby('Recnum')['Amount'].max())\n",
    "        final[entity + '_med_' + str(time)] = final.Recnum.map(temp2.groupby('Recnum')['Amount'].median())\n",
    "        final[entity + '_total_' + str(time)] = final.Recnum.map(temp2.groupby('Recnum')['Amount'].sum())\n",
    "        final[entity + '_actual/avg_' + str(time)] = final['Amount'] / final[entity + '_avg_' + str(time)]\n",
    "        final[entity + '_actual/max_' + str(time)] = final['Amount'] / final[entity + '_max_' + str(time)]\n",
    "        final[entity + '_actual/med_' + str(time)] = final['Amount'] / final[entity + '_med_' + str(time)]\n",
    "        final[entity + '_actual/total_' + str(time)] = final['Amount'] / final[entity + '_total_' + str(time)]   \n",
    "        temp2=0\n",
    "        print(entity + ' amount variables over past ' + str(time) + ' ---> Done')\n",
    "\n",
    "print('Total run time: {}mins'.format((timeit.default_timer() - start)/60))\n"
   ]
  },
  {
   "cell_type": "code",
   "execution_count": 23,
   "id": "equipped-weapon",
   "metadata": {},
   "outputs": [
    {
     "data": {
      "text/plain": [
       "(96397, 515)"
      ]
     },
     "execution_count": 23,
     "metadata": {},
     "output_type": "execute_result"
    }
   ],
   "source": [
    "final.shape"
   ]
  },
  {
   "cell_type": "code",
   "execution_count": 90,
   "id": "widespread-deputy",
   "metadata": {},
   "outputs": [
    {
     "data": {
      "text/plain": [
       "Index(['Merch description_avg_3', 'Merch description_max_3',\n",
       "       'Merch description_med_3', 'Merch description_total_3',\n",
       "       'Merch description_actual/avg_3', 'Merch description_actual/max_3',\n",
       "       'Merch description_actual/med_3', 'Merch description_actual/toal_3',\n",
       "       'Merch description_count_7', 'Merch description_avg_7',\n",
       "       'Merch description_max_7', 'Merch description_med_7',\n",
       "       'Merch description_total_7', 'Merch description_actual/avg_7',\n",
       "       'Merch description_actual/max_7', 'Merch description_actual/med_7',\n",
       "       'Merch description_actual/toal_7', 'Merch description_count_14',\n",
       "       'Merch description_avg_14', 'Merch description_max_14'],\n",
       "      dtype='object')"
      ]
     },
     "execution_count": 90,
     "metadata": {},
     "output_type": "execute_result"
    }
   ],
   "source": [
    "final.columns[40:60]"
   ]
  },
  {
   "cell_type": "code",
   "execution_count": 24,
   "id": "atlantic-shadow",
   "metadata": {},
   "outputs": [],
   "source": [
    "new_entities=['Merch description',\n",
    "       'card_merch', 'card_des', 'card_state', 'card_zip', 'merch_des',\n",
    "       'merch_state']"
   ]
  },
  {
   "cell_type": "code",
   "execution_count": 25,
   "id": "casual-racing",
   "metadata": {},
   "outputs": [
    {
     "name": "stdout",
     "output_type": "stream",
     "text": [
      "run time: 0.11331169999903068s\n"
     ]
    }
   ],
   "source": [
    "start = timeit.default_timer()\n",
    "# velocity change variables\n",
    "for ent in new_entities:\n",
    "    for d in ['0', '1']:\n",
    "        for dd in ['7', '14', '30']:\n",
    "            final[ent + '_count_' + d + '_by_' + dd] =\\\n",
    "            final[ent + '_count_' + d]/(final[ent + '_count_' + dd])/float(dd)\n",
    "            \n",
    "print('run time: {}s'.format(timeit.default_timer() - start))\n"
   ]
  },
  {
   "cell_type": "code",
   "execution_count": 26,
   "id": "expanded-packing",
   "metadata": {},
   "outputs": [
    {
     "data": {
      "text/plain": [
       "(96397, 557)"
      ]
     },
     "execution_count": 26,
     "metadata": {},
     "output_type": "execute_result"
    }
   ],
   "source": [
    "final.shape"
   ]
  },
  {
   "cell_type": "code",
   "execution_count": null,
   "id": "offshore-wildlife",
   "metadata": {},
   "outputs": [],
   "source": [
    "# create benford's law variables"
   ]
  },
  {
   "cell_type": "code",
   "execution_count": 27,
   "id": "excited-header",
   "metadata": {},
   "outputs": [],
   "source": [
    "cleaned_data=data[data['Merch description'].str.match(r'[Ff][Ee][Dd][Ee][Xx]')==False].copy()\n",
    "cleaned_data['Amount']=cleaned_data['Amount'].astype(str)"
   ]
  },
  {
   "cell_type": "code",
   "execution_count": 28,
   "id": "female-stations",
   "metadata": {},
   "outputs": [],
   "source": [
    "def n_low(df):\n",
    "    return ((df['Amount'].str.extract(r'([1-9])')=='1')|(df['Amount'].str.extract(r'([1-9])')=='2')).sum()"
   ]
  },
  {
   "cell_type": "code",
   "execution_count": 29,
   "id": "prime-housing",
   "metadata": {},
   "outputs": [],
   "source": [
    "cardnums=cleaned_data.groupby('Cardnum').apply(n_low)\n",
    "cardnums['n']=cleaned_data.groupby('Cardnum')['Amount'].count()\n",
    "cardnums['n_low']=cleaned_data.groupby('Cardnum').apply(n_low)\n",
    "cardnums=cardnums[['n','n_low']]\n",
    "cardnums['n_high']=cardnums['n']-cardnums['n_low']"
   ]
  },
  {
   "cell_type": "code",
   "execution_count": 30,
   "id": "spanish-kernel",
   "metadata": {},
   "outputs": [],
   "source": [
    "cardnums['n_low']=cardnums['n_low'].replace(0,1)\n",
    "cardnums['n_high']=cardnums['n_high'].replace(0,1)"
   ]
  },
  {
   "cell_type": "code",
   "execution_count": 31,
   "id": "apart-phoenix",
   "metadata": {},
   "outputs": [],
   "source": [
    "cardnums['R']=1.096*cardnums['n_low']/cardnums['n_high']\n",
    "cardnums['1/R']=1/cardnums['R']\n",
    "cardnums['U']=cardnums[['R','1/R']].max(axis=1)"
   ]
  },
  {
   "cell_type": "code",
   "execution_count": 32,
   "id": "viral-perception",
   "metadata": {},
   "outputs": [],
   "source": [
    "cardnums['t']=(cardnums['n']-15)/3\n",
    "cardnums['U*']=1+((cardnums['U']-1)/(1+e**-cardnums['t']))"
   ]
  },
  {
   "cell_type": "code",
   "execution_count": 33,
   "id": "serious-april",
   "metadata": {},
   "outputs": [],
   "source": [
    "cardnums.sort_values('U*',ascending=False)[0:40].to_csv('Top 40 Cardnum.csv')"
   ]
  },
  {
   "cell_type": "code",
   "execution_count": 34,
   "id": "brilliant-print",
   "metadata": {},
   "outputs": [],
   "source": [
    "merchnums=cleaned_data.groupby('Merchnum').apply(n_low)\n",
    "merchnums['n']=cleaned_data.groupby('Merchnum')['Amount'].count()\n",
    "merchnums['n_low']=cleaned_data.groupby('Merchnum').apply(n_low)\n",
    "merchnums=merchnums[['n','n_low']]\n",
    "merchnums['n_high']=merchnums['n']-merchnums['n_low']"
   ]
  },
  {
   "cell_type": "code",
   "execution_count": 35,
   "id": "sunset-flexibility",
   "metadata": {},
   "outputs": [],
   "source": [
    "merchnums['n_low']=merchnums['n_low'].replace(0,1)\n",
    "merchnums['n_high']=merchnums['n_high'].replace(0,1)"
   ]
  },
  {
   "cell_type": "code",
   "execution_count": 36,
   "id": "chief-intention",
   "metadata": {},
   "outputs": [],
   "source": [
    "merchnums['R']=1.096*merchnums['n_low']/merchnums['n_high']\n",
    "merchnums['1/R']=1/merchnums['R']\n",
    "merchnums['U']=merchnums[['R','1/R']].max(axis=1)"
   ]
  },
  {
   "cell_type": "code",
   "execution_count": 37,
   "id": "textile-teens",
   "metadata": {},
   "outputs": [],
   "source": [
    "merchnums['t']=(merchnums['n']-15)/3\n",
    "merchnums['U*']=1+((merchnums['U']-1)/(1+e**-merchnums['t']))"
   ]
  },
  {
   "cell_type": "code",
   "execution_count": 38,
   "id": "failing-blogger",
   "metadata": {},
   "outputs": [],
   "source": [
    "merchnums.sort_values('U*',ascending=False)[0:40].to_csv('Top 40 Merchnum.csv')"
   ]
  },
  {
   "cell_type": "code",
   "execution_count": 39,
   "id": "other-pleasure",
   "metadata": {},
   "outputs": [
    {
     "data": {
      "text/html": [
       "<div>\n",
       "<style scoped>\n",
       "    .dataframe tbody tr th:only-of-type {\n",
       "        vertical-align: middle;\n",
       "    }\n",
       "\n",
       "    .dataframe tbody tr th {\n",
       "        vertical-align: top;\n",
       "    }\n",
       "\n",
       "    .dataframe thead th {\n",
       "        text-align: right;\n",
       "    }\n",
       "</style>\n",
       "<table border=\"1\" class=\"dataframe\">\n",
       "  <thead>\n",
       "    <tr style=\"text-align: right;\">\n",
       "      <th></th>\n",
       "      <th>n</th>\n",
       "      <th>n_low</th>\n",
       "      <th>n_high</th>\n",
       "      <th>R</th>\n",
       "      <th>1/R</th>\n",
       "      <th>U</th>\n",
       "      <th>t</th>\n",
       "      <th>U*</th>\n",
       "    </tr>\n",
       "    <tr>\n",
       "      <th>Cardnum</th>\n",
       "      <th></th>\n",
       "      <th></th>\n",
       "      <th></th>\n",
       "      <th></th>\n",
       "      <th></th>\n",
       "      <th></th>\n",
       "      <th></th>\n",
       "      <th></th>\n",
       "    </tr>\n",
       "  </thead>\n",
       "  <tbody>\n",
       "    <tr>\n",
       "      <th>5142110002</th>\n",
       "      <td>1</td>\n",
       "      <td>1</td>\n",
       "      <td>1</td>\n",
       "      <td>1.096</td>\n",
       "      <td>0.912409</td>\n",
       "      <td>1.096000</td>\n",
       "      <td>-4.666667</td>\n",
       "      <td>1.000894</td>\n",
       "    </tr>\n",
       "    <tr>\n",
       "      <th>5142110081</th>\n",
       "      <td>4</td>\n",
       "      <td>1</td>\n",
       "      <td>4</td>\n",
       "      <td>0.274</td>\n",
       "      <td>3.649635</td>\n",
       "      <td>3.649635</td>\n",
       "      <td>-3.666667</td>\n",
       "      <td>1.066041</td>\n",
       "    </tr>\n",
       "    <tr>\n",
       "      <th>5142110313</th>\n",
       "      <td>3</td>\n",
       "      <td>2</td>\n",
       "      <td>1</td>\n",
       "      <td>2.192</td>\n",
       "      <td>0.456204</td>\n",
       "      <td>2.192000</td>\n",
       "      <td>-4.000000</td>\n",
       "      <td>1.021440</td>\n",
       "    </tr>\n",
       "    <tr>\n",
       "      <th>5142110402</th>\n",
       "      <td>11</td>\n",
       "      <td>3</td>\n",
       "      <td>8</td>\n",
       "      <td>0.411</td>\n",
       "      <td>2.433090</td>\n",
       "      <td>2.433090</td>\n",
       "      <td>-1.333333</td>\n",
       "      <td>1.298955</td>\n",
       "    </tr>\n",
       "    <tr>\n",
       "      <th>5142110434</th>\n",
       "      <td>1</td>\n",
       "      <td>1</td>\n",
       "      <td>1</td>\n",
       "      <td>1.096</td>\n",
       "      <td>0.912409</td>\n",
       "      <td>1.096000</td>\n",
       "      <td>-4.666667</td>\n",
       "      <td>1.000894</td>\n",
       "    </tr>\n",
       "  </tbody>\n",
       "</table>\n",
       "</div>"
      ],
      "text/plain": [
       "             n  n_low  n_high      R       1/R         U         t        U*\n",
       "Cardnum                                                                     \n",
       "5142110002   1      1       1  1.096  0.912409  1.096000 -4.666667  1.000894\n",
       "5142110081   4      1       4  0.274  3.649635  3.649635 -3.666667  1.066041\n",
       "5142110313   3      2       1  2.192  0.456204  2.192000 -4.000000  1.021440\n",
       "5142110402  11      3       8  0.411  2.433090  2.433090 -1.333333  1.298955\n",
       "5142110434   1      1       1  1.096  0.912409  1.096000 -4.666667  1.000894"
      ]
     },
     "execution_count": 39,
     "metadata": {},
     "output_type": "execute_result"
    }
   ],
   "source": [
    "cardnums.head()"
   ]
  },
  {
   "cell_type": "code",
   "execution_count": 40,
   "id": "adolescent-spread",
   "metadata": {},
   "outputs": [
    {
     "data": {
      "text/plain": [
       "Int64Index([5142110002, 5142110081, 5142110313, 5142110402, 5142110434,\n",
       "            5142110651, 5142110691, 5142110749, 5142110909, 5142111097,\n",
       "            ...\n",
       "            5142310183, 5142310198, 5142310240, 5142310306, 5142310347,\n",
       "            5142310397, 5142310525, 5142310598, 5142310768, 5142847398],\n",
       "           dtype='int64', name='Cardnum', length=1640)"
      ]
     },
     "execution_count": 40,
     "metadata": {},
     "output_type": "execute_result"
    }
   ],
   "source": [
    "cardnums.index"
   ]
  },
  {
   "cell_type": "code",
   "execution_count": 41,
   "id": "manufactured-married",
   "metadata": {},
   "outputs": [],
   "source": [
    "cardnums=cardnums.reset_index()"
   ]
  },
  {
   "cell_type": "code",
   "execution_count": 43,
   "id": "decreased-starter",
   "metadata": {},
   "outputs": [],
   "source": [
    "final_new = pd.merge(final, cardnums[['Cardnum','U*']], how='left',on=['Cardnum'])"
   ]
  },
  {
   "cell_type": "code",
   "execution_count": 44,
   "id": "unable-silicon",
   "metadata": {},
   "outputs": [],
   "source": [
    "merchnums=merchnums.reset_index()"
   ]
  },
  {
   "cell_type": "code",
   "execution_count": 45,
   "id": "judicial-reply",
   "metadata": {},
   "outputs": [],
   "source": [
    "final_new = pd.merge(final_new, merchnums[['Merchnum','U*']], how='left',on=['Merchnum'])"
   ]
  },
  {
   "cell_type": "code",
   "execution_count": 46,
   "id": "divided-waterproof",
   "metadata": {},
   "outputs": [
    {
     "data": {
      "text/plain": [
       "(96397, 559)"
      ]
     },
     "execution_count": 46,
     "metadata": {},
     "output_type": "execute_result"
    }
   ],
   "source": [
    "final_new.shape"
   ]
  },
  {
   "cell_type": "code",
   "execution_count": 47,
   "id": "productive-alaska",
   "metadata": {},
   "outputs": [],
   "source": [
    "final=final_new"
   ]
  },
  {
   "cell_type": "code",
   "execution_count": 48,
   "id": "checked-armenia",
   "metadata": {},
   "outputs": [],
   "source": [
    "final[['U*_x','U*_y']]=final[['U*_x','U*_y']].fillna(1)"
   ]
  },
  {
   "cell_type": "code",
   "execution_count": 49,
   "id": "domestic-dayton",
   "metadata": {},
   "outputs": [],
   "source": [
    "# statistical smoothing\n",
    "c,nmid=4,20\n",
    "y_avg=final['Fraud'].mean()\n",
    "y_dow=final.groupby('dow')['Fraud'].mean()\n",
    "num=final.groupby('dow').size()\n",
    "y_dow_smooth=y_avg+(y_dow-y_avg)/(1+np.exp(-(num-nmid)/c))\n",
    "final['dow_risk']=final['dow'].map(y_dow_smooth)"
   ]
  },
  {
   "cell_type": "code",
   "execution_count": 50,
   "id": "passing-communications",
   "metadata": {},
   "outputs": [
    {
     "data": {
      "text/plain": [
       "(96397, 560)"
      ]
     },
     "execution_count": 50,
     "metadata": {},
     "output_type": "execute_result"
    }
   ],
   "source": [
    "final.shape"
   ]
  },
  {
   "cell_type": "code",
   "execution_count": 86,
   "id": "focal-paste",
   "metadata": {},
   "outputs": [],
   "source": [
    "# save last 2 months for OOT data\n"
   ]
  },
  {
   "cell_type": "code",
   "execution_count": 51,
   "id": "aboriginal-pregnancy",
   "metadata": {},
   "outputs": [],
   "source": [
    "final.to_csv('training_pj3.csv')"
   ]
  },
  {
   "cell_type": "code",
   "execution_count": null,
   "id": "coupled-vienna",
   "metadata": {},
   "outputs": [],
   "source": []
  }
 ],
 "metadata": {
  "kernelspec": {
   "display_name": "Python 3",
   "language": "python",
   "name": "python3"
  },
  "language_info": {
   "codemirror_mode": {
    "name": "ipython",
    "version": 3
   },
   "file_extension": ".py",
   "mimetype": "text/x-python",
   "name": "python",
   "nbconvert_exporter": "python",
   "pygments_lexer": "ipython3",
   "version": "3.6.10"
  }
 },
 "nbformat": 4,
 "nbformat_minor": 5
}
