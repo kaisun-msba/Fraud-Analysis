{
 "cells": [
  {
   "cell_type": "code",
   "execution_count": 1,
   "id": "literary-coverage",
   "metadata": {},
   "outputs": [
    {
     "name": "stdout",
     "output_type": "stream",
     "text": [
      "LOAD DURATION:  0:00:00.949757\n"
     ]
    }
   ],
   "source": [
    "from datetime import datetime\n",
    "start_time = datetime.now()\n",
    "\n",
    "# Libraries to install\n",
    "# %pip install pandas-profiling\n",
    "\n",
    "import pandas as pd\n",
    "import numpy as np\n",
    "import matplotlib.pyplot as plt\n",
    "import seaborn as sns\n",
    "%matplotlib inline\n",
    "\n",
    "print('LOAD DURATION: ', datetime.now() - start_time) # load time about 30 seconds"
   ]
  },
  {
   "cell_type": "code",
   "execution_count": 2,
   "id": "optical-humor",
   "metadata": {},
   "outputs": [],
   "source": [
    "data = pd.read_csv('NY property data.csv')"
   ]
  },
  {
   "cell_type": "code",
   "execution_count": 3,
   "id": "ongoing-operator",
   "metadata": {},
   "outputs": [
    {
     "data": {
      "text/plain": [
       "(1070994, 32)"
      ]
     },
     "execution_count": 3,
     "metadata": {},
     "output_type": "execute_result"
    }
   ],
   "source": [
    "data.shape"
   ]
  },
  {
   "cell_type": "code",
   "execution_count": 4,
   "id": "labeled-scenario",
   "metadata": {},
   "outputs": [],
   "source": [
    "numrecords = len(data)"
   ]
  },
  {
   "cell_type": "markdown",
   "id": "unable-china",
   "metadata": {},
   "source": [
    "### remove benign properties"
   ]
  },
  {
   "cell_type": "code",
   "execution_count": 5,
   "id": "automated-undergraduate",
   "metadata": {},
   "outputs": [],
   "source": [
    "# first look at the most frequent owners\n",
    "remove_list=data['OWNER'].value_counts().head(20).index.tolist()"
   ]
  },
  {
   "cell_type": "code",
   "execution_count": 6,
   "id": "coordinate-measurement",
   "metadata": {},
   "outputs": [
    {
     "data": {
      "text/plain": [
       "['PARKCHESTER PRESERVAT',\n",
       " 'PARKS AND RECREATION',\n",
       " 'DCAS',\n",
       " 'HOUSING PRESERVATION',\n",
       " 'CITY OF NEW YORK',\n",
       " 'DEPT OF ENVIRONMENTAL',\n",
       " 'BOARD OF EDUCATION',\n",
       " 'NEW YORK CITY HOUSING',\n",
       " 'CNY/NYCTA',\n",
       " 'NYC HOUSING PARTNERSH',\n",
       " 'YORKVILLE TOWERS ASSO',\n",
       " 'DEPARTMENT OF BUSINES',\n",
       " 'DEPT OF TRANSPORTATIO',\n",
       " 'MTA/LIRR',\n",
       " 'PARCKHESTER PRESERVAT',\n",
       " 'MH RESIDENTIAL 1, LLC',\n",
       " '434 M LLC',\n",
       " 'LINCOLN PLAZA ASSOCIA',\n",
       " 'DEUTSCHE BANK NATIONA',\n",
       " '561 11TH AVENUE TMG L']"
      ]
     },
     "execution_count": 6,
     "metadata": {},
     "output_type": "execute_result"
    }
   ],
   "source": [
    "remove_list"
   ]
  },
  {
   "cell_type": "code",
   "execution_count": 7,
   "id": "collect-policy",
   "metadata": {},
   "outputs": [],
   "source": [
    "# remove some of these & add some others to also be removed \n",
    "remove_list.remove('YORKVILLE TOWERS ASSO')\n",
    "remove_list.remove('434 M LLC')\n",
    "remove_list.remove('DEUTSCHE BANK NATIONA')\n",
    "remove_list.remove('561 11TH AVENUE TMG L')"
   ]
  },
  {
   "cell_type": "code",
   "execution_count": 8,
   "id": "dried-digit",
   "metadata": {},
   "outputs": [],
   "source": [
    "remove_list.append('UNITED STATES OF AMER')\n",
    "remove_list.append('U S GOVERNMENT OWNRD')\n",
    "remove_list.append('THE CITY OF NEW YORK')\n",
    "remove_list.append('NYS URBAN DEVELOPMENT')\n",
    "remove_list.append('NYS DEPT OF ENVIRONME')\n",
    "remove_list.append('CULTURAL AFFAIRS')\n",
    "remove_list.append('DEPT OF GENERAL SERVI')\n",
    "remove_list.append('DEPT RE-CITY OF NY')"
   ]
  },
  {
   "cell_type": "code",
   "execution_count": 9,
   "id": "settled-expert",
   "metadata": {},
   "outputs": [
    {
     "data": {
      "text/plain": [
       "(1046826, 32)"
      ]
     },
     "execution_count": 9,
     "metadata": {},
     "output_type": "execute_result"
    }
   ],
   "source": [
    "prop_data=data[~data['OWNER'].isin(remove_list)].reset_index(drop=True)\n",
    "prop_data.shape"
   ]
  },
  {
   "cell_type": "code",
   "execution_count": 10,
   "id": "coastal-bishop",
   "metadata": {},
   "outputs": [
    {
     "data": {
      "text/plain": [
       "(1070994, 32)"
      ]
     },
     "execution_count": 10,
     "metadata": {},
     "output_type": "execute_result"
    }
   ],
   "source": [
    "data.shape"
   ]
  },
  {
   "cell_type": "code",
   "execution_count": 11,
   "id": "unlike-bunny",
   "metadata": {},
   "outputs": [
    {
     "data": {
      "text/plain": [
       "24168"
      ]
     },
     "execution_count": 11,
     "metadata": {},
     "output_type": "execute_result"
    }
   ],
   "source": [
    "# number of records removed\n",
    "len(data)-len(prop_data)"
   ]
  },
  {
   "cell_type": "code",
   "execution_count": 15,
   "id": "empty-cowboy",
   "metadata": {},
   "outputs": [
    {
     "data": {
      "text/plain": [
       "21772"
      ]
     },
     "execution_count": 15,
     "metadata": {},
     "output_type": "execute_result"
    }
   ],
   "source": [
    "# replace NAN zip codes with 0 and count\n",
    "missing_zips=np.where(pd.isnull(prop_data['ZIP']))[0]\n",
    "len(missing_zips)"
   ]
  },
  {
   "cell_type": "code",
   "execution_count": 16,
   "id": "improving-myrtle",
   "metadata": {},
   "outputs": [],
   "source": [
    "# Assume the data is sorted by zip code.\n",
    "# fill missing zip code with before/after zip code, if they are the same\n",
    "for i in range(len(missing_zips)):\n",
    "    if(prop_data.loc[missing_zips[i]+1,'ZIP'])==prop_data.loc[missing_zips[i]-1,'ZIP']:\n",
    "        prop_data.loc[missing_zips[i],'ZIP']=prop_data.loc[missing_zips[i]-1,'ZIP']"
   ]
  },
  {
   "cell_type": "code",
   "execution_count": 17,
   "id": "respected-fellow",
   "metadata": {},
   "outputs": [
    {
     "data": {
      "text/plain": [
       "10245"
      ]
     },
     "execution_count": 17,
     "metadata": {},
     "output_type": "execute_result"
    }
   ],
   "source": [
    "# how many are still left to fill?\n",
    "missing_zips=np.where(pd.isnull(prop_data['ZIP']))[0]\n",
    "len(missing_zips)"
   ]
  },
  {
   "cell_type": "code",
   "execution_count": 18,
   "id": "otherwise-massachusetts",
   "metadata": {},
   "outputs": [],
   "source": [
    "# for the remaining missing zips,\n",
    "# fill in the previous record's zip\n",
    "for i in range(len(missing_zips)):\n",
    "    prop_data.loc[missing_zips[i],'ZIP']=prop_data.loc[missing_zips[i]-1,'ZIP']"
   ]
  },
  {
   "cell_type": "code",
   "execution_count": 19,
   "id": "proper-correction",
   "metadata": {},
   "outputs": [
    {
     "data": {
      "text/plain": [
       "0"
      ]
     },
     "execution_count": 19,
     "metadata": {},
     "output_type": "execute_result"
    }
   ],
   "source": [
    "missing_zips=np.where(pd.isnull(prop_data['ZIP']))[0]\n",
    "len(missing_zips)"
   ]
  },
  {
   "cell_type": "code",
   "execution_count": 20,
   "id": "given-dylan",
   "metadata": {},
   "outputs": [
    {
     "data": {
      "text/plain": [
       "43968"
      ]
     },
     "execution_count": 20,
     "metadata": {},
     "output_type": "execute_result"
    }
   ],
   "source": [
    "# fill in missing stories\n",
    "temp=prop_data[prop_data['STORIES'].isnull()]\n",
    "len(temp)"
   ]
  },
  {
   "cell_type": "code",
   "execution_count": 22,
   "id": "adaptive-headline",
   "metadata": {},
   "outputs": [
    {
     "data": {
      "text/plain": [
       "1B    19055\n",
       "4     17979\n",
       "2      3434\n",
       "3      2416\n",
       "1       877\n",
       "2C      138\n",
       "2B       34\n",
       "2A       30\n",
       "1A        5\n",
       "Name: TAXCLASS, dtype: int64"
      ]
     },
     "execution_count": 22,
     "metadata": {},
     "output_type": "execute_result"
    }
   ],
   "source": [
    "temp['TAXCLASS'].value_counts()"
   ]
  },
  {
   "cell_type": "code",
   "execution_count": 23,
   "id": "second-honor",
   "metadata": {},
   "outputs": [
    {
     "name": "stdout",
     "output_type": "stream",
     "text": [
      "TAXCLASS\n",
      "1      2.111633\n",
      "1A     1.656867\n",
      "1B     4.000000\n",
      "1C     3.052748\n",
      "1D     1.068966\n",
      "2     16.310549\n",
      "2A     2.844032\n",
      "2B     4.001635\n",
      "2C     4.744977\n",
      "3      1.000000\n",
      "4      5.517257\n",
      "Name: STORIES, dtype: float64\n"
     ]
    }
   ],
   "source": [
    "mean_stories=prop_data.groupby('TAXCLASS')['STORIES'].mean()\n",
    "print(mean_stories)"
   ]
  },
  {
   "cell_type": "code",
   "execution_count": 24,
   "id": "uniform-fancy",
   "metadata": {},
   "outputs": [
    {
     "data": {
      "text/plain": [
       "0"
      ]
     },
     "execution_count": 24,
     "metadata": {},
     "output_type": "execute_result"
    }
   ],
   "source": [
    "# fill in with the avg by tax class\n",
    "len(prop_data[prop_data['STORIES']==0])"
   ]
  },
  {
   "cell_type": "code",
   "execution_count": 25,
   "id": "worldwide-diversity",
   "metadata": {},
   "outputs": [],
   "source": [
    "prop_data['STORIES']=prop_data['STORIES'].fillna(value=0)\n",
    "for i in mean_stories.index:\n",
    "    prop_data.loc[(prop_data['STORIES']==0)&(prop_data['TAXCLASS']==i),'STORIES']=mean_stories[i]"
   ]
  },
  {
   "cell_type": "code",
   "execution_count": 27,
   "id": "comparable-waste",
   "metadata": {},
   "outputs": [
    {
     "name": "stdout",
     "output_type": "stream",
     "text": [
      "TAXCLASS\n",
      "1     5.700059e+05\n",
      "1A    3.352942e+05\n",
      "1B    3.738399e+05\n",
      "1C    7.615359e+05\n",
      "1D    2.233614e+07\n",
      "2     8.005832e+05\n",
      "2A    8.639066e+05\n",
      "2B    1.254525e+06\n",
      "2C    7.723493e+05\n",
      "3     8.510005e+04\n",
      "4     2.772747e+06\n",
      "Name: FULLVAL, dtype: float64\n"
     ]
    }
   ],
   "source": [
    "# calculate means for AVTOT,AVLAND, FULLVAL by taxclass\n",
    "prop_data['FULLVAL'].replace('NaN',0)\n",
    "temp=prop_data[prop_data['FULLVAL']!=0]\n",
    "mean_fullval=temp.groupby('TAXCLASS')['FULLVAL'].mean()\n",
    "print(mean_fullval)"
   ]
  },
  {
   "cell_type": "code",
   "execution_count": 28,
   "id": "contemporary-hungarian",
   "metadata": {},
   "outputs": [
    {
     "name": "stdout",
     "output_type": "stream",
     "text": [
      "TAXCLASS\n",
      "1      14901.860425\n",
      "1A      2247.472465\n",
      "1B      9185.394750\n",
      "1C      8225.658898\n",
      "1D    709303.793103\n",
      "2      88471.102578\n",
      "2A     31370.740197\n",
      "2B     54607.394911\n",
      "2C     25635.944099\n",
      "3      28135.636364\n",
      "4     444996.049088\n",
      "Name: AVLAND, dtype: float64\n"
     ]
    }
   ],
   "source": [
    "prop_data['AVLAND'].replace('NaN',0)\n",
    "temp_avland=prop_data[prop_data['AVLAND']!=0]\n",
    "mean_avland=temp_avland.groupby('TAXCLASS')['AVLAND'].mean()\n",
    "print(mean_avland)"
   ]
  },
  {
   "cell_type": "code",
   "execution_count": 29,
   "id": "amazing-fruit",
   "metadata": {},
   "outputs": [
    {
     "name": "stdout",
     "output_type": "stream",
     "text": [
      "TAXCLASS\n",
      "1     2.502549e+04\n",
      "1A    1.437036e+04\n",
      "1B    9.189080e+03\n",
      "1C    2.898447e+04\n",
      "1D    1.166866e+06\n",
      "2     3.602638e+05\n",
      "2A    7.963525e+04\n",
      "2B    1.790961e+05\n",
      "2C    1.170418e+05\n",
      "3     3.829505e+04\n",
      "4     1.294237e+06\n",
      "Name: AVTOT, dtype: float64\n"
     ]
    }
   ],
   "source": [
    "prop_data['AVTOT'].replace('NaN',0)\n",
    "temp_avtot=prop_data[prop_data['AVTOT']!=0]\n",
    "mean_avtot=temp_avtot.groupby('TAXCLASS')['AVTOT'].mean()\n",
    "print(mean_avtot)"
   ]
  },
  {
   "cell_type": "code",
   "execution_count": 30,
   "id": "offshore-wholesale",
   "metadata": {},
   "outputs": [],
   "source": [
    "# fill in with the avg by tax class\n",
    "for i in mean_fullval.index:\n",
    "    prop_data.loc[(prop_data['FULLVAL']==0)&(prop_data['TAXCLASS']==i),'FULLVAL']=mean_fullval[i]\n",
    "    prop_data.loc[(prop_data['AVLAND']==0)&(prop_data['TAXCLASS']==i),'AVLAND']=mean_avland[i]\n",
    "    prop_data.loc[(prop_data['AVTOT']==0)&(prop_data['TAXCLASS']==i),'AVTOT']=mean_avtot[i]"
   ]
  },
  {
   "cell_type": "code",
   "execution_count": 31,
   "id": "about-communist",
   "metadata": {},
   "outputs": [],
   "source": [
    "# Because these 4 fields do not have NAs, \n",
    "# we just need to replace 0s and the 1s. \n",
    "# We think zero and 1 are both invalid values for these fields, \n",
    "# so replace them with NA.\n",
    "# Calculate groupwise average. Replace 0 and 1's by NAs so they are not counted in calculating mean.\n",
    "prop_data.loc[prop_data['LTFRONT']==0,'LTFRONT']=np.nan\n",
    "prop_data.loc[prop_data['LTDEPTH']==0,'LTDEPTH']=np.nan\n",
    "prop_data.loc[prop_data['BLDFRONT']==0,'BLDFRONT']=np.nan\n",
    "prop_data.loc[prop_data['BLDDEPTH']==0,'BLDDEPTH']=np.nan\n",
    "prop_data.loc[prop_data['LTFRONT']==1,'LTFRONT']=np.nan\n",
    "prop_data.loc[prop_data['LTDEPTH']==1,'LTDEPTH']=np.nan\n",
    "prop_data.loc[prop_data['BLDFRONT']==1,'BLDFRONT']=np.nan\n",
    "prop_data.loc[prop_data['BLDDEPTH']==1,'BLDDEPTH']=np.nan"
   ]
  },
  {
   "cell_type": "code",
   "execution_count": 32,
   "id": "settled-consideration",
   "metadata": {},
   "outputs": [],
   "source": [
    "# Calculate mean now (mean function ignores NAs but not 0s hence we converted 0 to NA)\n",
    "mean_LTFRONT=prop_data.groupby(prop_data['TAXCLASS'])['LTFRONT'].mean()\n",
    "mean_LTDEPTH=prop_data.groupby(prop_data['TAXCLASS'])['LTDEPTH'].mean()\n",
    "mean_BLDFRONT=prop_data.groupby(prop_data['TAXCLASS'])['BLDFRONT'].mean()\n",
    "mean_BLDDEPTH=prop_data.groupby(prop_data['TAXCLASS'])['BLDDEPTH'].mean()\n",
    "\n",
    "# Now impute values with the average for that record's TAXCLASS\n",
    "for index in mean_LTFRONT.index:\n",
    "    prop_data.loc[(prop_data['LTFRONT'].isnull())&(prop_data['TAXCLASS']==index),'LTFRONT']=mean_LTFRONT[index]    \n",
    "    prop_data.loc[(prop_data['LTDEPTH'].isnull())&(prop_data['TAXCLASS']==index),'LTDEPTH']=mean_LTDEPTH[index]\n",
    "    prop_data.loc[(prop_data['BLDFRONT'].isnull())&(prop_data['TAXCLASS']==index),'BLDFRONT']=mean_BLDFRONT[index]\n",
    "    prop_data.loc[(prop_data['BLDDEPTH'].isnull())&(prop_data['TAXCLASS']==index),'BLDDEPTH']=mean_BLDDEPTH[index]"
   ]
  },
  {
   "cell_type": "code",
   "execution_count": 52,
   "id": "liquid-contrary",
   "metadata": {},
   "outputs": [
    {
     "data": {
      "text/plain": [
       "(1046826, 32)"
      ]
     },
     "execution_count": 52,
     "metadata": {},
     "output_type": "execute_result"
    }
   ],
   "source": [
    "data=prop_data.copy()\n",
    "data.shape"
   ]
  },
  {
   "cell_type": "code",
   "execution_count": 53,
   "id": "another-dakota",
   "metadata": {},
   "outputs": [],
   "source": [
    "# convert ZIP to a str rather than a float\n",
    "# we will call the 1st 3 digits of the zip code zip3\n",
    "data['ZIP']=data['ZIP'].astype(str)\n",
    "data['zip3']=data['ZIP'].str[:3]"
   ]
  },
  {
   "cell_type": "code",
   "execution_count": 37,
   "id": "settled-spouse",
   "metadata": {},
   "outputs": [
    {
     "data": {
      "text/plain": [
       "0          100\n",
       "1          100\n",
       "2          100\n",
       "3          100\n",
       "4          100\n",
       "          ... \n",
       "1046821    103\n",
       "1046822    103\n",
       "1046823    103\n",
       "1046824    103\n",
       "1046825    103\n",
       "Name: zip3, Length: 1046826, dtype: object"
      ]
     },
     "execution_count": 37,
     "metadata": {},
     "output_type": "execute_result"
    }
   ],
   "source": [
    "data['zip3']"
   ]
  },
  {
   "cell_type": "code",
   "execution_count": 54,
   "id": "incorporate-consolidation",
   "metadata": {},
   "outputs": [],
   "source": [
    "data['ltsize']=data['LTFRONT']*data['LTDEPTH']\n",
    "data['bldsize']=data['BLDFRONT']*data['BLDDEPTH']\n",
    "data['bldvol']=data['bldsize']*data['STORIES']"
   ]
  },
  {
   "cell_type": "code",
   "execution_count": 55,
   "id": "infectious-sessions",
   "metadata": {},
   "outputs": [],
   "source": [
    "data['r1']=data['FULLVAL']/data['ltsize']\n",
    "data['r2']=data['FULLVAL']/data['bldsize']\n",
    "data['r3']=data['FULLVAL']/data['bldvol']\n",
    "data['r4']=data['AVLAND']/data['ltsize']\n",
    "data['r5']=data['AVLAND']/data['bldsize']\n",
    "data['r6']=data['AVLAND']/data['bldvol']\n",
    "data['r7']=data['AVTOT']/data['ltsize']\n",
    "data['r8']=data['AVTOT']/data['bldsize']\n",
    "data['r9']=data['AVTOT']/data['bldvol']"
   ]
  },
  {
   "cell_type": "code",
   "execution_count": 56,
   "id": "special-andrews",
   "metadata": {},
   "outputs": [],
   "source": [
    "nine_vars=['r1','r2','r3','r4','r5','r6','r7','r8','r9']\n",
    "zip5_mean=data.groupby('ZIP')[nine_vars].mean()\n",
    "zip3_mean=data.groupby('zip3')[nine_vars].mean()\n",
    "taxclass_mean=data.groupby('TAXCLASS')[nine_vars].mean()\n",
    "boro_mean=data.groupby('BORO')[nine_vars].mean()"
   ]
  },
  {
   "cell_type": "code",
   "execution_count": 59,
   "id": "manual-chancellor",
   "metadata": {},
   "outputs": [
    {
     "data": {
      "text/html": [
       "<div>\n",
       "<style scoped>\n",
       "    .dataframe tbody tr th:only-of-type {\n",
       "        vertical-align: middle;\n",
       "    }\n",
       "\n",
       "    .dataframe tbody tr th {\n",
       "        vertical-align: top;\n",
       "    }\n",
       "\n",
       "    .dataframe thead th {\n",
       "        text-align: right;\n",
       "    }\n",
       "</style>\n",
       "<table border=\"1\" class=\"dataframe\">\n",
       "  <thead>\n",
       "    <tr style=\"text-align: right;\">\n",
       "      <th></th>\n",
       "      <th>r1</th>\n",
       "      <th>r2</th>\n",
       "      <th>r3</th>\n",
       "      <th>r4</th>\n",
       "      <th>r5</th>\n",
       "      <th>r6</th>\n",
       "      <th>r7</th>\n",
       "      <th>r8</th>\n",
       "      <th>r9</th>\n",
       "    </tr>\n",
       "    <tr>\n",
       "      <th>BORO</th>\n",
       "      <th></th>\n",
       "      <th></th>\n",
       "      <th></th>\n",
       "      <th></th>\n",
       "      <th></th>\n",
       "      <th></th>\n",
       "      <th></th>\n",
       "      <th></th>\n",
       "      <th></th>\n",
       "    </tr>\n",
       "  </thead>\n",
       "  <tbody>\n",
       "    <tr>\n",
       "      <th>1</th>\n",
       "      <td>359.235203</td>\n",
       "      <td>517.942490</td>\n",
       "      <td>111.912748</td>\n",
       "      <td>33.469383</td>\n",
       "      <td>47.494151</td>\n",
       "      <td>10.445557</td>\n",
       "      <td>92.859664</td>\n",
       "      <td>128.007681</td>\n",
       "      <td>21.781626</td>\n",
       "    </tr>\n",
       "    <tr>\n",
       "      <th>2</th>\n",
       "      <td>143.617634</td>\n",
       "      <td>410.467056</td>\n",
       "      <td>202.649005</td>\n",
       "      <td>6.016193</td>\n",
       "      <td>17.698662</td>\n",
       "      <td>10.120771</td>\n",
       "      <td>16.350790</td>\n",
       "      <td>39.693424</td>\n",
       "      <td>19.457085</td>\n",
       "    </tr>\n",
       "    <tr>\n",
       "      <th>3</th>\n",
       "      <td>244.903151</td>\n",
       "      <td>581.772351</td>\n",
       "      <td>264.057924</td>\n",
       "      <td>6.886018</td>\n",
       "      <td>16.380294</td>\n",
       "      <td>7.899103</td>\n",
       "      <td>17.642275</td>\n",
       "      <td>37.070493</td>\n",
       "      <td>16.246135</td>\n",
       "    </tr>\n",
       "    <tr>\n",
       "      <th>4</th>\n",
       "      <td>168.541827</td>\n",
       "      <td>563.936096</td>\n",
       "      <td>287.130052</td>\n",
       "      <td>6.158232</td>\n",
       "      <td>21.636150</td>\n",
       "      <td>11.762399</td>\n",
       "      <td>13.203304</td>\n",
       "      <td>41.022134</td>\n",
       "      <td>21.017958</td>\n",
       "    </tr>\n",
       "    <tr>\n",
       "      <th>5</th>\n",
       "      <td>152.528063</td>\n",
       "      <td>467.705704</td>\n",
       "      <td>255.387365</td>\n",
       "      <td>8.924127</td>\n",
       "      <td>18.476265</td>\n",
       "      <td>10.096301</td>\n",
       "      <td>21.502513</td>\n",
       "      <td>31.731270</td>\n",
       "      <td>17.453270</td>\n",
       "    </tr>\n",
       "  </tbody>\n",
       "</table>\n",
       "</div>"
      ],
      "text/plain": [
       "              r1          r2          r3         r4         r5         r6  \\\n",
       "BORO                                                                        \n",
       "1     359.235203  517.942490  111.912748  33.469383  47.494151  10.445557   \n",
       "2     143.617634  410.467056  202.649005   6.016193  17.698662  10.120771   \n",
       "3     244.903151  581.772351  264.057924   6.886018  16.380294   7.899103   \n",
       "4     168.541827  563.936096  287.130052   6.158232  21.636150  11.762399   \n",
       "5     152.528063  467.705704  255.387365   8.924127  18.476265  10.096301   \n",
       "\n",
       "             r7          r8         r9  \n",
       "BORO                                    \n",
       "1     92.859664  128.007681  21.781626  \n",
       "2     16.350790   39.693424  19.457085  \n",
       "3     17.642275   37.070493  16.246135  \n",
       "4     13.203304   41.022134  21.017958  \n",
       "5     21.502513   31.731270  17.453270  "
      ]
     },
     "execution_count": 59,
     "metadata": {},
     "output_type": "execute_result"
    }
   ],
   "source": [
    "boro_mean"
   ]
  },
  {
   "cell_type": "code",
   "execution_count": 60,
   "id": "excessive-thermal",
   "metadata": {},
   "outputs": [],
   "source": [
    "data=data.join(zip5_mean,on='ZIP',rsuffix='_zip5')\n",
    "data=data.join(zip3_mean,on='zip3',rsuffix='_zip3')\n",
    "data=data.join(taxclass_mean,on='TAXCLASS',rsuffix='_taxclass')\n",
    "data=data.join(boro_mean,on='BORO',rsuffix='_boro')\n",
    "rsuffix=['_zip5','_zip3','_taxclass','_boro']\n",
    "for var in nine_vars:\n",
    "    for r in rsuffix:\n",
    "        data[str(var)+r]=data[var]/data[str(var)+r]\n"
   ]
  },
  {
   "cell_type": "code",
   "execution_count": 61,
   "id": "experimental-collins",
   "metadata": {},
   "outputs": [
    {
     "data": {
      "text/html": [
       "<div>\n",
       "<style scoped>\n",
       "    .dataframe tbody tr th:only-of-type {\n",
       "        vertical-align: middle;\n",
       "    }\n",
       "\n",
       "    .dataframe tbody tr th {\n",
       "        vertical-align: top;\n",
       "    }\n",
       "\n",
       "    .dataframe thead th {\n",
       "        text-align: right;\n",
       "    }\n",
       "</style>\n",
       "<table border=\"1\" class=\"dataframe\">\n",
       "  <thead>\n",
       "    <tr style=\"text-align: right;\">\n",
       "      <th></th>\n",
       "      <th>count</th>\n",
       "      <th>mean</th>\n",
       "      <th>std</th>\n",
       "      <th>min</th>\n",
       "      <th>25%</th>\n",
       "      <th>50%</th>\n",
       "      <th>75%</th>\n",
       "      <th>max</th>\n",
       "    </tr>\n",
       "  </thead>\n",
       "  <tbody>\n",
       "    <tr>\n",
       "      <th>RECORD</th>\n",
       "      <td>1046826.0</td>\n",
       "      <td>537122.108419</td>\n",
       "      <td>308087.821735</td>\n",
       "      <td>1.000000e+00</td>\n",
       "      <td>273156.250000</td>\n",
       "      <td>539082.500000</td>\n",
       "      <td>802736.750000</td>\n",
       "      <td>1.070994e+06</td>\n",
       "    </tr>\n",
       "    <tr>\n",
       "      <th>BORO</th>\n",
       "      <td>1046826.0</td>\n",
       "      <td>3.221716</td>\n",
       "      <td>1.198952</td>\n",
       "      <td>1.000000e+00</td>\n",
       "      <td>3.000000</td>\n",
       "      <td>3.000000</td>\n",
       "      <td>4.000000</td>\n",
       "      <td>5.000000e+00</td>\n",
       "    </tr>\n",
       "    <tr>\n",
       "      <th>BLOCK</th>\n",
       "      <td>1046826.0</td>\n",
       "      <td>4757.324964</td>\n",
       "      <td>3677.503964</td>\n",
       "      <td>1.000000e+00</td>\n",
       "      <td>1542.000000</td>\n",
       "      <td>4078.000000</td>\n",
       "      <td>6920.000000</td>\n",
       "      <td>1.635000e+04</td>\n",
       "    </tr>\n",
       "    <tr>\n",
       "      <th>LOT</th>\n",
       "      <td>1046826.0</td>\n",
       "      <td>349.840286</td>\n",
       "      <td>825.822800</td>\n",
       "      <td>1.000000e+00</td>\n",
       "      <td>23.000000</td>\n",
       "      <td>49.000000</td>\n",
       "      <td>139.000000</td>\n",
       "      <td>9.502000e+03</td>\n",
       "    </tr>\n",
       "    <tr>\n",
       "      <th>LTFRONT</th>\n",
       "      <td>1046826.0</td>\n",
       "      <td>50.318139</td>\n",
       "      <td>60.738367</td>\n",
       "      <td>2.000000e+00</td>\n",
       "      <td>21.000000</td>\n",
       "      <td>30.000000</td>\n",
       "      <td>55.000000</td>\n",
       "      <td>9.999000e+03</td>\n",
       "    </tr>\n",
       "    <tr>\n",
       "      <th>...</th>\n",
       "      <td>...</td>\n",
       "      <td>...</td>\n",
       "      <td>...</td>\n",
       "      <td>...</td>\n",
       "      <td>...</td>\n",
       "      <td>...</td>\n",
       "      <td>...</td>\n",
       "      <td>...</td>\n",
       "    </tr>\n",
       "    <tr>\n",
       "      <th>r5_boro</th>\n",
       "      <td>1046826.0</td>\n",
       "      <td>1.000000</td>\n",
       "      <td>17.146866</td>\n",
       "      <td>4.413439e-06</td>\n",
       "      <td>0.296494</td>\n",
       "      <td>0.774854</td>\n",
       "      <td>1.052615</td>\n",
       "      <td>1.546654e+04</td>\n",
       "    </tr>\n",
       "    <tr>\n",
       "      <th>r6_boro</th>\n",
       "      <td>1046826.0</td>\n",
       "      <td>1.000000</td>\n",
       "      <td>16.042330</td>\n",
       "      <td>9.937551e-07</td>\n",
       "      <td>0.216734</td>\n",
       "      <td>0.696596</td>\n",
       "      <td>1.000643</td>\n",
       "      <td>9.483223e+03</td>\n",
       "    </tr>\n",
       "    <tr>\n",
       "      <th>r7_boro</th>\n",
       "      <td>1046826.0</td>\n",
       "      <td>1.000000</td>\n",
       "      <td>7.276792</td>\n",
       "      <td>3.875516e-07</td>\n",
       "      <td>0.257662</td>\n",
       "      <td>0.514318</td>\n",
       "      <td>0.814198</td>\n",
       "      <td>2.407601e+03</td>\n",
       "    </tr>\n",
       "    <tr>\n",
       "      <th>r8_boro</th>\n",
       "      <td>1046826.0</td>\n",
       "      <td>1.000000</td>\n",
       "      <td>21.931794</td>\n",
       "      <td>8.187498e-06</td>\n",
       "      <td>0.414725</td>\n",
       "      <td>0.696414</td>\n",
       "      <td>0.929975</td>\n",
       "      <td>2.124127e+04</td>\n",
       "    </tr>\n",
       "    <tr>\n",
       "      <th>r9_boro</th>\n",
       "      <td>1046826.0</td>\n",
       "      <td>1.000000</td>\n",
       "      <td>15.726878</td>\n",
       "      <td>2.777226e-06</td>\n",
       "      <td>0.390649</td>\n",
       "      <td>0.672924</td>\n",
       "      <td>0.939333</td>\n",
       "      <td>1.381933e+04</td>\n",
       "    </tr>\n",
       "  </tbody>\n",
       "</table>\n",
       "<p>68 rows × 8 columns</p>\n",
       "</div>"
      ],
      "text/plain": [
       "             count           mean            std           min            25%  \\\n",
       "RECORD   1046826.0  537122.108419  308087.821735  1.000000e+00  273156.250000   \n",
       "BORO     1046826.0       3.221716       1.198952  1.000000e+00       3.000000   \n",
       "BLOCK    1046826.0    4757.324964    3677.503964  1.000000e+00    1542.000000   \n",
       "LOT      1046826.0     349.840286     825.822800  1.000000e+00      23.000000   \n",
       "LTFRONT  1046826.0      50.318139      60.738367  2.000000e+00      21.000000   \n",
       "...            ...            ...            ...           ...            ...   \n",
       "r5_boro  1046826.0       1.000000      17.146866  4.413439e-06       0.296494   \n",
       "r6_boro  1046826.0       1.000000      16.042330  9.937551e-07       0.216734   \n",
       "r7_boro  1046826.0       1.000000       7.276792  3.875516e-07       0.257662   \n",
       "r8_boro  1046826.0       1.000000      21.931794  8.187498e-06       0.414725   \n",
       "r9_boro  1046826.0       1.000000      15.726878  2.777226e-06       0.390649   \n",
       "\n",
       "                   50%            75%           max  \n",
       "RECORD   539082.500000  802736.750000  1.070994e+06  \n",
       "BORO          3.000000       4.000000  5.000000e+00  \n",
       "BLOCK      4078.000000    6920.000000  1.635000e+04  \n",
       "LOT          49.000000     139.000000  9.502000e+03  \n",
       "LTFRONT      30.000000      55.000000  9.999000e+03  \n",
       "...                ...            ...           ...  \n",
       "r5_boro       0.774854       1.052615  1.546654e+04  \n",
       "r6_boro       0.696596       1.000643  9.483223e+03  \n",
       "r7_boro       0.514318       0.814198  2.407601e+03  \n",
       "r8_boro       0.696414       0.929975  2.124127e+04  \n",
       "r9_boro       0.672924       0.939333  1.381933e+04  \n",
       "\n",
       "[68 rows x 8 columns]"
      ]
     },
     "execution_count": 61,
     "metadata": {},
     "output_type": "execute_result"
    }
   ],
   "source": [
    "data.describe().transpose()"
   ]
  },
  {
   "cell_type": "code",
   "execution_count": 62,
   "id": "mobile-aluminum",
   "metadata": {},
   "outputs": [
    {
     "data": {
      "text/plain": [
       "Index(['RECORD', 'BBLE', 'BORO', 'BLOCK', 'LOT', 'EASEMENT', 'OWNER', 'BLDGCL',\n",
       "       'TAXCLASS', 'LTFRONT', 'LTDEPTH', 'EXT', 'STORIES', 'FULLVAL', 'AVLAND',\n",
       "       'AVTOT', 'EXLAND', 'EXTOT', 'EXCD1', 'STADDR', 'ZIP', 'EXMPTCL',\n",
       "       'BLDFRONT', 'BLDDEPTH', 'AVLAND2', 'AVTOT2', 'EXLAND2', 'EXTOT2',\n",
       "       'EXCD2', 'PERIOD', 'YEAR', 'VALTYPE', 'zip3', 'ltsize', 'bldsize',\n",
       "       'bldvol', 'r1', 'r2', 'r3', 'r4', 'r5', 'r6', 'r7', 'r8', 'r9',\n",
       "       'r1_zip5', 'r2_zip5', 'r3_zip5', 'r4_zip5', 'r5_zip5', 'r6_zip5',\n",
       "       'r7_zip5', 'r8_zip5', 'r9_zip5', 'r1_zip3', 'r2_zip3', 'r3_zip3',\n",
       "       'r4_zip3', 'r5_zip3', 'r6_zip3', 'r7_zip3', 'r8_zip3', 'r9_zip3',\n",
       "       'r1_taxclass', 'r2_taxclass', 'r3_taxclass', 'r4_taxclass',\n",
       "       'r5_taxclass', 'r6_taxclass', 'r7_taxclass', 'r8_taxclass',\n",
       "       'r9_taxclass', 'r1_boro', 'r2_boro', 'r3_boro', 'r4_boro', 'r5_boro',\n",
       "       'r6_boro', 'r7_boro', 'r8_boro', 'r9_boro'],\n",
       "      dtype='object')"
      ]
     },
     "execution_count": 62,
     "metadata": {},
     "output_type": "execute_result"
    }
   ],
   "source": [
    "data.columns"
   ]
  },
  {
   "cell_type": "code",
   "execution_count": 63,
   "id": "signed-organization",
   "metadata": {},
   "outputs": [],
   "source": [
    "data.drop(['RECORD', 'BBLE', 'BORO', 'BLOCK', 'LOT', 'EASEMENT', 'OWNER', 'BLDGCL',\n",
    "       'TAXCLASS', 'LTFRONT', 'LTDEPTH', 'EXT', 'STORIES', 'FULLVAL', 'AVLAND',\n",
    "       'AVTOT', 'EXLAND', 'EXTOT', 'EXCD1', 'STADDR', 'ZIP', 'EXMPTCL',\n",
    "       'BLDFRONT', 'BLDDEPTH', 'AVLAND2', 'AVTOT2', 'EXLAND2', 'EXTOT2',\n",
    "       'EXCD2', 'PERIOD', 'YEAR', 'VALTYPE', 'zip3', 'ltsize', 'bldsize',\n",
    "       'bldvol'], axis=1, inplace=True)"
   ]
  },
  {
   "cell_type": "code",
   "execution_count": 66,
   "id": "excited-powell",
   "metadata": {},
   "outputs": [],
   "source": [
    "stats=data.describe().transpose()"
   ]
  },
  {
   "cell_type": "code",
   "execution_count": 67,
   "id": "excessive-biotechnology",
   "metadata": {},
   "outputs": [],
   "source": [
    "stats.to_excel('stats_on_vars.xlsx')"
   ]
  },
  {
   "cell_type": "code",
   "execution_count": null,
   "id": "human-address",
   "metadata": {},
   "outputs": [],
   "source": []
  }
 ],
 "metadata": {
  "kernelspec": {
   "display_name": "Python 3",
   "language": "python",
   "name": "python3"
  },
  "language_info": {
   "codemirror_mode": {
    "name": "ipython",
    "version": 3
   },
   "file_extension": ".py",
   "mimetype": "text/x-python",
   "name": "python",
   "nbconvert_exporter": "python",
   "pygments_lexer": "ipython3",
   "version": "3.6.10"
  }
 },
 "nbformat": 4,
 "nbformat_minor": 5
}
